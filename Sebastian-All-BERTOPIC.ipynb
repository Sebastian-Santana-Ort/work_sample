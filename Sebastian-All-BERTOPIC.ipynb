{
 "cells": [
  {
   "cell_type": "markdown",
   "metadata": {},
   "source": [
    "# Overall Theme Frequency by Group"
   ]
  },
  {
   "cell_type": "markdown",
   "metadata": {},
   "source": [
    "## Load and Prepare Data"
   ]
  },
  {
   "cell_type": "markdown",
   "metadata": {},
   "source": [
    "### Load Packages"
   ]
  },
  {
   "cell_type": "code",
   "execution_count": 1,
   "metadata": {},
   "outputs": [
    {
     "name": "stderr",
     "output_type": "stream",
     "text": [
      "c:\\Users\\Sebastian\\anaconda3\\envs\\bertopicenv\\Lib\\site-packages\\umap\\distances.py:1063: NumbaDeprecationWarning: \u001b[1mThe 'nopython' keyword argument was not supplied to the 'numba.jit' decorator. The implicit default value for this argument is currently False, but it will be changed to True in Numba 0.59.0. See https://numba.readthedocs.io/en/stable/reference/deprecation.html#deprecation-of-object-mode-fall-back-behaviour-when-using-jit for details.\u001b[0m\n",
      "  @numba.jit()\n",
      "c:\\Users\\Sebastian\\anaconda3\\envs\\bertopicenv\\Lib\\site-packages\\umap\\distances.py:1071: NumbaDeprecationWarning: \u001b[1mThe 'nopython' keyword argument was not supplied to the 'numba.jit' decorator. The implicit default value for this argument is currently False, but it will be changed to True in Numba 0.59.0. See https://numba.readthedocs.io/en/stable/reference/deprecation.html#deprecation-of-object-mode-fall-back-behaviour-when-using-jit for details.\u001b[0m\n",
      "  @numba.jit()\n",
      "c:\\Users\\Sebastian\\anaconda3\\envs\\bertopicenv\\Lib\\site-packages\\umap\\distances.py:1086: NumbaDeprecationWarning: \u001b[1mThe 'nopython' keyword argument was not supplied to the 'numba.jit' decorator. The implicit default value for this argument is currently False, but it will be changed to True in Numba 0.59.0. See https://numba.readthedocs.io/en/stable/reference/deprecation.html#deprecation-of-object-mode-fall-back-behaviour-when-using-jit for details.\u001b[0m\n",
      "  @numba.jit()\n",
      "c:\\Users\\Sebastian\\anaconda3\\envs\\bertopicenv\\Lib\\site-packages\\umap\\umap_.py:660: NumbaDeprecationWarning: \u001b[1mThe 'nopython' keyword argument was not supplied to the 'numba.jit' decorator. The implicit default value for this argument is currently False, but it will be changed to True in Numba 0.59.0. See https://numba.readthedocs.io/en/stable/reference/deprecation.html#deprecation-of-object-mode-fall-back-behaviour-when-using-jit for details.\u001b[0m\n",
      "  @numba.jit()\n"
     ]
    }
   ],
   "source": [
    "import pandas as pd\n",
    "from bertopic import BERTopic\n",
    "from nltk.corpus import stopwords"
   ]
  },
  {
   "cell_type": "markdown",
   "metadata": {},
   "source": [
    "### Load Data"
   ]
  },
  {
   "cell_type": "code",
   "execution_count": 2,
   "metadata": {},
   "outputs": [],
   "source": [
    "# OPR csv with themes \n",
    "file_path = '/Users/Sebastian/OneDrive/2023 Summer/CER-Theme-Classification/OPR/data/processed/OPR_with_themes.xlsx'\n",
    "\n",
    "opr_df_original = pd.read_excel(file_path)\n"
   ]
  },
  {
   "cell_type": "code",
   "execution_count": 3,
   "metadata": {},
   "outputs": [],
   "source": [
    "# Preprocessing data\n",
    "frequent = opr_df_original.copy()\n",
    "\n",
    "# Save Raw Text\n",
    "frequent['raw_text'] = frequent['response_text']\n",
    "\n",
    "# Copy index as Index column\n",
    "frequent['Index'] = frequent.index\n"
   ]
  },
  {
   "cell_type": "code",
   "execution_count": 4,
   "metadata": {},
   "outputs": [],
   "source": [
    "# Make all lowercase\n",
    "# frequent['response_text'] = frequent['response_text'].apply(lambda x: \" \".join(x.lower() for x in x.split()))\n",
    "\n",
    "# Remove all punctuation\n",
    "# frequent['response_text'] = frequent['response_text'].str.replace('[^\\w\\s]','', regex=True)\n",
    "\n",
    "# Convert to previous name\n",
    "opr_df = frequent"
   ]
  },
  {
   "cell_type": "code",
   "execution_count": 5,
   "metadata": {},
   "outputs": [
    {
     "data": {
      "text/html": [
       "<div>\n",
       "<style scoped>\n",
       "    .dataframe tbody tr th:only-of-type {\n",
       "        vertical-align: middle;\n",
       "    }\n",
       "\n",
       "    .dataframe tbody tr th {\n",
       "        vertical-align: top;\n",
       "    }\n",
       "\n",
       "    .dataframe thead th {\n",
       "        text-align: right;\n",
       "    }\n",
       "</style>\n",
       "<table border=\"1\" class=\"dataframe\">\n",
       "  <thead>\n",
       "    <tr style=\"text-align: right;\">\n",
       "      <th></th>\n",
       "      <th>Respondent (Group)</th>\n",
       "      <th>Question Text</th>\n",
       "      <th>Response</th>\n",
       "    </tr>\n",
       "  </thead>\n",
       "  <tbody>\n",
       "    <tr>\n",
       "      <th>0</th>\n",
       "      <td>Environmental NGO</td>\n",
       "      <td>Other Input</td>\n",
       "      <td>We are encouraged by this substantial process ...</td>\n",
       "    </tr>\n",
       "    <tr>\n",
       "      <th>1</th>\n",
       "      <td>Environmental NGO</td>\n",
       "      <td>How could communication and engagement require...</td>\n",
       "      <td>The OPR discussion paper has identified severa...</td>\n",
       "    </tr>\n",
       "    <tr>\n",
       "      <th>2</th>\n",
       "      <td>Environmental NGO</td>\n",
       "      <td>Are there opportunities within the OPR for dat...</td>\n",
       "      <td>Conservation Ontario supports the CER’s intera...</td>\n",
       "    </tr>\n",
       "    <tr>\n",
       "      <th>3</th>\n",
       "      <td>Environmental NGO</td>\n",
       "      <td>How can the OPR be improved to address changin...</td>\n",
       "      <td>Conservation Ontario strongly encourages the C...</td>\n",
       "    </tr>\n",
       "    <tr>\n",
       "      <th>4</th>\n",
       "      <td>Government (Fed/ Prov)</td>\n",
       "      <td>Other Input</td>\n",
       "      <td>Dear Review Panel,\\nThank you for the opportun...</td>\n",
       "    </tr>\n",
       "    <tr>\n",
       "      <th>...</th>\n",
       "      <td>...</td>\n",
       "      <td>...</td>\n",
       "      <td>...</td>\n",
       "    </tr>\n",
       "    <tr>\n",
       "      <th>1474</th>\n",
       "      <td>Other Interested Party</td>\n",
       "      <td>How could the requirement for a Quality Assura...</td>\n",
       "      <td>Clauses 9, 14, 15, 16, 17, 23, 25, 40 and 41 (...</td>\n",
       "    </tr>\n",
       "    <tr>\n",
       "      <th>1475</th>\n",
       "      <td>Other Interested Party</td>\n",
       "      <td>How could the requirement for a Quality Assura...</td>\n",
       "      <td>The proposed requirements are to expand the qu...</td>\n",
       "    </tr>\n",
       "    <tr>\n",
       "      <th>1476</th>\n",
       "      <td>Other Interested Party</td>\n",
       "      <td>What are your recommendations for compliance p...</td>\n",
       "      <td>Olitech’s recommendations with respect to comp...</td>\n",
       "    </tr>\n",
       "    <tr>\n",
       "      <th>1477</th>\n",
       "      <td>Other Interested Party</td>\n",
       "      <td>What are your recommendations for compliance p...</td>\n",
       "      <td>The Canadian Society for Chemical Engineering ...</td>\n",
       "    </tr>\n",
       "    <tr>\n",
       "      <th>1478</th>\n",
       "      <td>Other Interested Party</td>\n",
       "      <td>How do you want to be engaged by the CER in th...</td>\n",
       "      <td>Marcello is uniquely qualified to support the ...</td>\n",
       "    </tr>\n",
       "  </tbody>\n",
       "</table>\n",
       "<p>1479 rows × 3 columns</p>\n",
       "</div>"
      ],
      "text/plain": [
       "          Respondent (Group)  \\\n",
       "0          Environmental NGO   \n",
       "1          Environmental NGO   \n",
       "2          Environmental NGO   \n",
       "3          Environmental NGO   \n",
       "4     Government (Fed/ Prov)   \n",
       "...                      ...   \n",
       "1474  Other Interested Party   \n",
       "1475  Other Interested Party   \n",
       "1476  Other Interested Party   \n",
       "1477  Other Interested Party   \n",
       "1478  Other Interested Party   \n",
       "\n",
       "                                          Question Text  \\\n",
       "0                                           Other Input   \n",
       "1     How could communication and engagement require...   \n",
       "2     Are there opportunities within the OPR for dat...   \n",
       "3     How can the OPR be improved to address changin...   \n",
       "4                                           Other Input   \n",
       "...                                                 ...   \n",
       "1474  How could the requirement for a Quality Assura...   \n",
       "1475  How could the requirement for a Quality Assura...   \n",
       "1476  What are your recommendations for compliance p...   \n",
       "1477  What are your recommendations for compliance p...   \n",
       "1478  How do you want to be engaged by the CER in th...   \n",
       "\n",
       "                                               Response  \n",
       "0     We are encouraged by this substantial process ...  \n",
       "1     The OPR discussion paper has identified severa...  \n",
       "2     Conservation Ontario supports the CER’s intera...  \n",
       "3     Conservation Ontario strongly encourages the C...  \n",
       "4     Dear Review Panel,\\nThank you for the opportun...  \n",
       "...                                                 ...  \n",
       "1474  Clauses 9, 14, 15, 16, 17, 23, 25, 40 and 41 (...  \n",
       "1475  The proposed requirements are to expand the qu...  \n",
       "1476  Olitech’s recommendations with respect to comp...  \n",
       "1477  The Canadian Society for Chemical Engineering ...  \n",
       "1478  Marcello is uniquely qualified to support the ...  \n",
       "\n",
       "[1479 rows x 3 columns]"
      ]
     },
     "execution_count": 5,
     "metadata": {},
     "output_type": "execute_result"
    }
   ],
   "source": [
    "opr_df = opr_df[[\"group\", \"question_text\", \"response_text\"]]\n",
    "\n",
    "# Maintain consistency with previous formatting\n",
    "opr_df = opr_df.rename(columns={'group': 'Respondent (Group)', 'question_text': 'Question Text', 'response_text': 'Response'})\n",
    "\n",
    "response_df = opr_df[\"Response\"]\n",
    "\n",
    "class_df = opr_df[\"Respondent (Group)\"]\n",
    "\n",
    "opr_df\n"
   ]
  },
  {
   "cell_type": "markdown",
   "metadata": {},
   "source": [
    "## Running BERTOPIC Model"
   ]
  },
  {
   "cell_type": "code",
   "execution_count": 6,
   "metadata": {},
   "outputs": [
    {
     "data": {
      "application/vnd.jupyter.widget-view+json": {
       "model_id": "600112f427914639b9328d1907c90ba2",
       "version_major": 2,
       "version_minor": 0
      },
      "text/plain": [
       "Batches:   0%|          | 0/47 [00:00<?, ?it/s]"
      ]
     },
     "metadata": {},
     "output_type": "display_data"
    },
    {
     "name": "stderr",
     "output_type": "stream",
     "text": [
      "2023-08-02 10:28:38,844 - BERTopic - Transformed documents to Embeddings\n",
      "2023-08-02 10:28:49,921 - BERTopic - Reduced dimensionality\n",
      "2023-08-02 10:28:49,969 - BERTopic - Clustered reduced embeddings\n"
     ]
    },
    {
     "data": {
      "text/plain": [
       "([16,\n",
       "  -1,\n",
       "  -1,\n",
       "  21,\n",
       "  18,\n",
       "  16,\n",
       "  -1,\n",
       "  2,\n",
       "  5,\n",
       "  -1,\n",
       "  18,\n",
       "  4,\n",
       "  -1,\n",
       "  -1,\n",
       "  0,\n",
       "  -1,\n",
       "  -1,\n",
       "  16,\n",
       "  -1,\n",
       "  -1,\n",
       "  -1,\n",
       "  6,\n",
       "  -1,\n",
       "  -1,\n",
       "  -1,\n",
       "  -1,\n",
       "  -1,\n",
       "  -1,\n",
       "  -1,\n",
       "  16,\n",
       "  17,\n",
       "  24,\n",
       "  -1,\n",
       "  -1,\n",
       "  11,\n",
       "  2,\n",
       "  2,\n",
       "  2,\n",
       "  2,\n",
       "  2,\n",
       "  21,\n",
       "  2,\n",
       "  2,\n",
       "  -1,\n",
       "  11,\n",
       "  2,\n",
       "  11,\n",
       "  2,\n",
       "  8,\n",
       "  11,\n",
       "  0,\n",
       "  1,\n",
       "  -1,\n",
       "  1,\n",
       "  -1,\n",
       "  11,\n",
       "  -1,\n",
       "  18,\n",
       "  11,\n",
       "  11,\n",
       "  2,\n",
       "  -1,\n",
       "  2,\n",
       "  11,\n",
       "  1,\n",
       "  18,\n",
       "  0,\n",
       "  11,\n",
       "  4,\n",
       "  11,\n",
       "  11,\n",
       "  2,\n",
       "  13,\n",
       "  24,\n",
       "  -1,\n",
       "  -1,\n",
       "  -1,\n",
       "  -1,\n",
       "  -1,\n",
       "  0,\n",
       "  1,\n",
       "  22,\n",
       "  22,\n",
       "  22,\n",
       "  22,\n",
       "  22,\n",
       "  -1,\n",
       "  2,\n",
       "  21,\n",
       "  -1,\n",
       "  -1,\n",
       "  -1,\n",
       "  -1,\n",
       "  13,\n",
       "  19,\n",
       "  6,\n",
       "  6,\n",
       "  -1,\n",
       "  -1,\n",
       "  -1,\n",
       "  7,\n",
       "  -1,\n",
       "  -1,\n",
       "  6,\n",
       "  1,\n",
       "  11,\n",
       "  -1,\n",
       "  0,\n",
       "  -1,\n",
       "  1,\n",
       "  1,\n",
       "  22,\n",
       "  -1,\n",
       "  21,\n",
       "  -1,\n",
       "  18,\n",
       "  3,\n",
       "  2,\n",
       "  11,\n",
       "  -1,\n",
       "  -1,\n",
       "  2,\n",
       "  -1,\n",
       "  22,\n",
       "  1,\n",
       "  -1,\n",
       "  -1,\n",
       "  -1,\n",
       "  13,\n",
       "  13,\n",
       "  -1,\n",
       "  13,\n",
       "  2,\n",
       "  2,\n",
       "  -1,\n",
       "  -1,\n",
       "  2,\n",
       "  2,\n",
       "  2,\n",
       "  2,\n",
       "  2,\n",
       "  -1,\n",
       "  2,\n",
       "  2,\n",
       "  -1,\n",
       "  20,\n",
       "  -1,\n",
       "  -1,\n",
       "  2,\n",
       "  2,\n",
       "  2,\n",
       "  -1,\n",
       "  20,\n",
       "  1,\n",
       "  0,\n",
       "  -1,\n",
       "  15,\n",
       "  -1,\n",
       "  -1,\n",
       "  -1,\n",
       "  -1,\n",
       "  2,\n",
       "  -1,\n",
       "  -1,\n",
       "  2,\n",
       "  2,\n",
       "  -1,\n",
       "  20,\n",
       "  2,\n",
       "  22,\n",
       "  -1,\n",
       "  2,\n",
       "  -1,\n",
       "  11,\n",
       "  2,\n",
       "  2,\n",
       "  15,\n",
       "  2,\n",
       "  -1,\n",
       "  0,\n",
       "  -1,\n",
       "  2,\n",
       "  -1,\n",
       "  -1,\n",
       "  -1,\n",
       "  18,\n",
       "  -1,\n",
       "  15,\n",
       "  15,\n",
       "  2,\n",
       "  2,\n",
       "  2,\n",
       "  2,\n",
       "  2,\n",
       "  -1,\n",
       "  -1,\n",
       "  0,\n",
       "  -1,\n",
       "  13,\n",
       "  -1,\n",
       "  -1,\n",
       "  2,\n",
       "  -1,\n",
       "  10,\n",
       "  15,\n",
       "  13,\n",
       "  13,\n",
       "  -1,\n",
       "  -1,\n",
       "  15,\n",
       "  4,\n",
       "  1,\n",
       "  4,\n",
       "  13,\n",
       "  4,\n",
       "  20,\n",
       "  15,\n",
       "  4,\n",
       "  4,\n",
       "  4,\n",
       "  4,\n",
       "  4,\n",
       "  4,\n",
       "  4,\n",
       "  4,\n",
       "  4,\n",
       "  4,\n",
       "  -1,\n",
       "  4,\n",
       "  2,\n",
       "  4,\n",
       "  4,\n",
       "  -1,\n",
       "  -1,\n",
       "  -1,\n",
       "  4,\n",
       "  4,\n",
       "  4,\n",
       "  4,\n",
       "  4,\n",
       "  4,\n",
       "  4,\n",
       "  4,\n",
       "  -1,\n",
       "  4,\n",
       "  4,\n",
       "  4,\n",
       "  8,\n",
       "  8,\n",
       "  4,\n",
       "  13,\n",
       "  4,\n",
       "  4,\n",
       "  4,\n",
       "  4,\n",
       "  4,\n",
       "  4,\n",
       "  4,\n",
       "  4,\n",
       "  4,\n",
       "  13,\n",
       "  -1,\n",
       "  4,\n",
       "  -1,\n",
       "  0,\n",
       "  20,\n",
       "  -1,\n",
       "  -1,\n",
       "  -1,\n",
       "  -1,\n",
       "  -1,\n",
       "  9,\n",
       "  0,\n",
       "  4,\n",
       "  12,\n",
       "  20,\n",
       "  11,\n",
       "  -1,\n",
       "  -1,\n",
       "  -1,\n",
       "  -1,\n",
       "  10,\n",
       "  4,\n",
       "  -1,\n",
       "  20,\n",
       "  -1,\n",
       "  -1,\n",
       "  4,\n",
       "  -1,\n",
       "  -1,\n",
       "  4,\n",
       "  -1,\n",
       "  2,\n",
       "  -1,\n",
       "  -1,\n",
       "  -1,\n",
       "  -1,\n",
       "  12,\n",
       "  2,\n",
       "  -1,\n",
       "  4,\n",
       "  12,\n",
       "  4,\n",
       "  21,\n",
       "  0,\n",
       "  4,\n",
       "  4,\n",
       "  8,\n",
       "  0,\n",
       "  -1,\n",
       "  -1,\n",
       "  -1,\n",
       "  4,\n",
       "  11,\n",
       "  -1,\n",
       "  -1,\n",
       "  -1,\n",
       "  4,\n",
       "  4,\n",
       "  -1,\n",
       "  -1,\n",
       "  5,\n",
       "  -1,\n",
       "  13,\n",
       "  4,\n",
       "  4,\n",
       "  0,\n",
       "  8,\n",
       "  2,\n",
       "  2,\n",
       "  20,\n",
       "  -1,\n",
       "  8,\n",
       "  20,\n",
       "  8,\n",
       "  8,\n",
       "  1,\n",
       "  -1,\n",
       "  8,\n",
       "  19,\n",
       "  -1,\n",
       "  8,\n",
       "  8,\n",
       "  8,\n",
       "  8,\n",
       "  8,\n",
       "  8,\n",
       "  8,\n",
       "  20,\n",
       "  0,\n",
       "  15,\n",
       "  5,\n",
       "  -1,\n",
       "  8,\n",
       "  8,\n",
       "  8,\n",
       "  -1,\n",
       "  1,\n",
       "  -1,\n",
       "  2,\n",
       "  13,\n",
       "  -1,\n",
       "  8,\n",
       "  8,\n",
       "  -1,\n",
       "  0,\n",
       "  8,\n",
       "  -1,\n",
       "  -1,\n",
       "  2,\n",
       "  8,\n",
       "  -1,\n",
       "  2,\n",
       "  8,\n",
       "  1,\n",
       "  8,\n",
       "  8,\n",
       "  8,\n",
       "  -1,\n",
       "  3,\n",
       "  8,\n",
       "  1,\n",
       "  15,\n",
       "  15,\n",
       "  1,\n",
       "  -1,\n",
       "  -1,\n",
       "  -1,\n",
       "  15,\n",
       "  10,\n",
       "  0,\n",
       "  0,\n",
       "  0,\n",
       "  -1,\n",
       "  -1,\n",
       "  8,\n",
       "  1,\n",
       "  4,\n",
       "  0,\n",
       "  0,\n",
       "  -1,\n",
       "  -1,\n",
       "  -1,\n",
       "  0,\n",
       "  0,\n",
       "  0,\n",
       "  0,\n",
       "  0,\n",
       "  0,\n",
       "  0,\n",
       "  15,\n",
       "  -1,\n",
       "  0,\n",
       "  20,\n",
       "  1,\n",
       "  1,\n",
       "  -1,\n",
       "  0,\n",
       "  -1,\n",
       "  0,\n",
       "  1,\n",
       "  0,\n",
       "  0,\n",
       "  0,\n",
       "  1,\n",
       "  -1,\n",
       "  0,\n",
       "  0,\n",
       "  -1,\n",
       "  -1,\n",
       "  0,\n",
       "  -1,\n",
       "  13,\n",
       "  0,\n",
       "  0,\n",
       "  0,\n",
       "  8,\n",
       "  0,\n",
       "  -1,\n",
       "  -1,\n",
       "  4,\n",
       "  15,\n",
       "  15,\n",
       "  -1,\n",
       "  0,\n",
       "  0,\n",
       "  13,\n",
       "  15,\n",
       "  0,\n",
       "  5,\n",
       "  -1,\n",
       "  18,\n",
       "  -1,\n",
       "  0,\n",
       "  -1,\n",
       "  3,\n",
       "  10,\n",
       "  19,\n",
       "  15,\n",
       "  0,\n",
       "  3,\n",
       "  0,\n",
       "  -1,\n",
       "  13,\n",
       "  20,\n",
       "  10,\n",
       "  -1,\n",
       "  19,\n",
       "  1,\n",
       "  -1,\n",
       "  3,\n",
       "  10,\n",
       "  10,\n",
       "  13,\n",
       "  -1,\n",
       "  19,\n",
       "  19,\n",
       "  -1,\n",
       "  -1,\n",
       "  -1,\n",
       "  -1,\n",
       "  -1,\n",
       "  -1,\n",
       "  0,\n",
       "  0,\n",
       "  0,\n",
       "  1,\n",
       "  0,\n",
       "  3,\n",
       "  -1,\n",
       "  1,\n",
       "  19,\n",
       "  10,\n",
       "  -1,\n",
       "  3,\n",
       "  -1,\n",
       "  -1,\n",
       "  15,\n",
       "  -1,\n",
       "  -1,\n",
       "  10,\n",
       "  -1,\n",
       "  -1,\n",
       "  -1,\n",
       "  1,\n",
       "  -1,\n",
       "  19,\n",
       "  10,\n",
       "  19,\n",
       "  19,\n",
       "  13,\n",
       "  0,\n",
       "  -1,\n",
       "  3,\n",
       "  3,\n",
       "  3,\n",
       "  3,\n",
       "  3,\n",
       "  -1,\n",
       "  1,\n",
       "  10,\n",
       "  -1,\n",
       "  -1,\n",
       "  -1,\n",
       "  10,\n",
       "  10,\n",
       "  10,\n",
       "  -1,\n",
       "  19,\n",
       "  -1,\n",
       "  20,\n",
       "  -1,\n",
       "  10,\n",
       "  -1,\n",
       "  -1,\n",
       "  19,\n",
       "  -1,\n",
       "  1,\n",
       "  -1,\n",
       "  -1,\n",
       "  -1,\n",
       "  -1,\n",
       "  3,\n",
       "  1,\n",
       "  1,\n",
       "  -1,\n",
       "  -1,\n",
       "  19,\n",
       "  10,\n",
       "  -1,\n",
       "  21,\n",
       "  1,\n",
       "  3,\n",
       "  -1,\n",
       "  3,\n",
       "  -1,\n",
       "  -1,\n",
       "  10,\n",
       "  -1,\n",
       "  -1,\n",
       "  -1,\n",
       "  -1,\n",
       "  8,\n",
       "  10,\n",
       "  10,\n",
       "  10,\n",
       "  6,\n",
       "  -1,\n",
       "  6,\n",
       "  -1,\n",
       "  -1,\n",
       "  -1,\n",
       "  9,\n",
       "  1,\n",
       "  -1,\n",
       "  10,\n",
       "  -1,\n",
       "  1,\n",
       "  1,\n",
       "  -1,\n",
       "  1,\n",
       "  -1,\n",
       "  1,\n",
       "  -1,\n",
       "  1,\n",
       "  -1,\n",
       "  -1,\n",
       "  1,\n",
       "  -1,\n",
       "  -1,\n",
       "  -1,\n",
       "  -1,\n",
       "  4,\n",
       "  19,\n",
       "  1,\n",
       "  2,\n",
       "  2,\n",
       "  -1,\n",
       "  0,\n",
       "  -1,\n",
       "  -1,\n",
       "  13,\n",
       "  13,\n",
       "  -1,\n",
       "  1,\n",
       "  -1,\n",
       "  -1,\n",
       "  -1,\n",
       "  5,\n",
       "  5,\n",
       "  5,\n",
       "  -1,\n",
       "  5,\n",
       "  -1,\n",
       "  5,\n",
       "  -1,\n",
       "  -1,\n",
       "  5,\n",
       "  -1,\n",
       "  -1,\n",
       "  5,\n",
       "  -1,\n",
       "  5,\n",
       "  5,\n",
       "  5,\n",
       "  5,\n",
       "  -1,\n",
       "  5,\n",
       "  -1,\n",
       "  5,\n",
       "  5,\n",
       "  14,\n",
       "  14,\n",
       "  14,\n",
       "  -1,\n",
       "  5,\n",
       "  5,\n",
       "  5,\n",
       "  5,\n",
       "  1,\n",
       "  -1,\n",
       "  5,\n",
       "  5,\n",
       "  5,\n",
       "  5,\n",
       "  -1,\n",
       "  -1,\n",
       "  -1,\n",
       "  11,\n",
       "  -1,\n",
       "  1,\n",
       "  -1,\n",
       "  2,\n",
       "  -1,\n",
       "  -1,\n",
       "  -1,\n",
       "  18,\n",
       "  0,\n",
       "  -1,\n",
       "  0,\n",
       "  -1,\n",
       "  -1,\n",
       "  -1,\n",
       "  -1,\n",
       "  0,\n",
       "  -1,\n",
       "  1,\n",
       "  -1,\n",
       "  -1,\n",
       "  -1,\n",
       "  -1,\n",
       "  2,\n",
       "  2,\n",
       "  -1,\n",
       "  11,\n",
       "  -1,\n",
       "  -1,\n",
       "  1,\n",
       "  -1,\n",
       "  -1,\n",
       "  6,\n",
       "  -1,\n",
       "  -1,\n",
       "  12,\n",
       "  -1,\n",
       "  9,\n",
       "  2,\n",
       "  -1,\n",
       "  0,\n",
       "  -1,\n",
       "  8,\n",
       "  11,\n",
       "  11,\n",
       "  -1,\n",
       "  8,\n",
       "  -1,\n",
       "  -1,\n",
       "  -1,\n",
       "  -1,\n",
       "  0,\n",
       "  1,\n",
       "  18,\n",
       "  1,\n",
       "  8,\n",
       "  16,\n",
       "  18,\n",
       "  -1,\n",
       "  -1,\n",
       "  1,\n",
       "  -1,\n",
       "  -1,\n",
       "  -1,\n",
       "  -1,\n",
       "  0,\n",
       "  -1,\n",
       "  1,\n",
       "  -1,\n",
       "  -1,\n",
       "  -1,\n",
       "  -1,\n",
       "  -1,\n",
       "  -1,\n",
       "  24,\n",
       "  1,\n",
       "  -1,\n",
       "  -1,\n",
       "  1,\n",
       "  -1,\n",
       "  1,\n",
       "  -1,\n",
       "  -1,\n",
       "  1,\n",
       "  -1,\n",
       "  1,\n",
       "  -1,\n",
       "  6,\n",
       "  -1,\n",
       "  -1,\n",
       "  -1,\n",
       "  -1,\n",
       "  -1,\n",
       "  -1,\n",
       "  -1,\n",
       "  1,\n",
       "  1,\n",
       "  12,\n",
       "  5,\n",
       "  -1,\n",
       "  -1,\n",
       "  6,\n",
       "  0,\n",
       "  21,\n",
       "  -1,\n",
       "  21,\n",
       "  21,\n",
       "  21,\n",
       "  21,\n",
       "  21,\n",
       "  -1,\n",
       "  0,\n",
       "  -1,\n",
       "  -1,\n",
       "  0,\n",
       "  0,\n",
       "  -1,\n",
       "  21,\n",
       "  15,\n",
       "  21,\n",
       "  -1,\n",
       "  -1,\n",
       "  -1,\n",
       "  21,\n",
       "  1,\n",
       "  -1,\n",
       "  21,\n",
       "  -1,\n",
       "  -1,\n",
       "  -1,\n",
       "  -1,\n",
       "  -1,\n",
       "  -1,\n",
       "  0,\n",
       "  -1,\n",
       "  -1,\n",
       "  -1,\n",
       "  21,\n",
       "  -1,\n",
       "  -1,\n",
       "  -1,\n",
       "  -1,\n",
       "  1,\n",
       "  1,\n",
       "  5,\n",
       "  7,\n",
       "  -1,\n",
       "  8,\n",
       "  -1,\n",
       "  -1,\n",
       "  -1,\n",
       "  -1,\n",
       "  -1,\n",
       "  -1,\n",
       "  -1,\n",
       "  1,\n",
       "  18,\n",
       "  -1,\n",
       "  1,\n",
       "  3,\n",
       "  7,\n",
       "  -1,\n",
       "  1,\n",
       "  17,\n",
       "  -1,\n",
       "  6,\n",
       "  7,\n",
       "  22,\n",
       "  8,\n",
       "  8,\n",
       "  8,\n",
       "  -1,\n",
       "  5,\n",
       "  14,\n",
       "  -1,\n",
       "  -1,\n",
       "  -1,\n",
       "  5,\n",
       "  -1,\n",
       "  -1,\n",
       "  5,\n",
       "  -1,\n",
       "  -1,\n",
       "  -1,\n",
       "  7,\n",
       "  -1,\n",
       "  -1,\n",
       "  -1,\n",
       "  -1,\n",
       "  -1,\n",
       "  -1,\n",
       "  6,\n",
       "  -1,\n",
       "  -1,\n",
       "  14,\n",
       "  -1,\n",
       "  -1,\n",
       "  14,\n",
       "  7,\n",
       "  -1,\n",
       "  7,\n",
       "  7,\n",
       "  14,\n",
       "  14,\n",
       "  14,\n",
       "  3,\n",
       "  12,\n",
       "  7,\n",
       "  14,\n",
       "  7,\n",
       "  14,\n",
       "  -1,\n",
       "  -1,\n",
       "  -1,\n",
       "  7,\n",
       "  -1,\n",
       "  7,\n",
       "  5,\n",
       "  -1,\n",
       "  -1,\n",
       "  5,\n",
       "  5,\n",
       "  5,\n",
       "  5,\n",
       "  5,\n",
       "  5,\n",
       "  5,\n",
       "  -1,\n",
       "  -1,\n",
       "  5,\n",
       "  5,\n",
       "  5,\n",
       "  -1,\n",
       "  5,\n",
       "  -1,\n",
       "  5,\n",
       "  -1,\n",
       "  -1,\n",
       "  15,\n",
       "  5,\n",
       "  23,\n",
       "  5,\n",
       "  -1,\n",
       "  19,\n",
       "  5,\n",
       "  -1,\n",
       "  23,\n",
       "  23,\n",
       "  23,\n",
       "  -1,\n",
       "  -1,\n",
       "  -1,\n",
       "  5,\n",
       "  -1,\n",
       "  23,\n",
       "  -1,\n",
       "  23,\n",
       "  23,\n",
       "  0,\n",
       "  -1,\n",
       "  -1,\n",
       "  17,\n",
       "  -1,\n",
       "  17,\n",
       "  23,\n",
       "  1,\n",
       "  23,\n",
       "  0,\n",
       "  -1,\n",
       "  17,\n",
       "  23,\n",
       "  23,\n",
       "  17,\n",
       "  -1,\n",
       "  -1,\n",
       "  23,\n",
       "  23,\n",
       "  23,\n",
       "  -1,\n",
       "  3,\n",
       "  14,\n",
       "  -1,\n",
       "  7,\n",
       "  -1,\n",
       "  -1,\n",
       "  -1,\n",
       "  14,\n",
       "  -1,\n",
       "  7,\n",
       "  -1,\n",
       "  -1,\n",
       "  -1,\n",
       "  -1,\n",
       "  -1,\n",
       "  14,\n",
       "  7,\n",
       "  7,\n",
       "  -1,\n",
       "  7,\n",
       "  14,\n",
       "  -1,\n",
       "  -1,\n",
       "  14,\n",
       "  -1,\n",
       "  -1,\n",
       "  22,\n",
       "  -1,\n",
       "  -1,\n",
       "  -1,\n",
       "  1,\n",
       "  8,\n",
       "  -1,\n",
       "  -1,\n",
       "  -1,\n",
       "  16,\n",
       "  16,\n",
       "  17,\n",
       "  16,\n",
       "  -1,\n",
       "  12,\n",
       "  -1,\n",
       "  -1,\n",
       "  -1,\n",
       "  -1,\n",
       "  11,\n",
       "  -1,\n",
       "  12,\n",
       "  22,\n",
       "  22,\n",
       "  22,\n",
       "  22,\n",
       "  22,\n",
       "  12,\n",
       "  8,\n",
       "  -1,\n",
       "  -1,\n",
       "  8,\n",
       "  -1,\n",
       "  16,\n",
       "  -1,\n",
       "  -1,\n",
       "  -1,\n",
       "  -1,\n",
       "  18,\n",
       "  -1,\n",
       "  -1,\n",
       "  -1,\n",
       "  20,\n",
       "  -1,\n",
       "  -1,\n",
       "  -1,\n",
       "  11,\n",
       "  ...],\n",
       " array([1., 0., 0., ..., 1., 1., 0.]))"
      ]
     },
     "execution_count": 6,
     "metadata": {},
     "output_type": "execute_result"
    }
   ],
   "source": [
    "from bertopic.representation import KeyBERTInspired\n",
    "\n",
    "# Sets random seed for reprodicibility\n",
    "\n",
    "from umap import UMAP\n",
    "umap_model = UMAP(random_state=250)\n",
    "\n",
    "# Select vectorizer to remove stopwrods: https://maartengr.github.io/BERTopic/getting_started/tips_and_tricks/tips_and_tricks.html#removing-stop-words\n",
    "\n",
    "from sklearn.feature_extraction.text import CountVectorizer\n",
    "vectorizer_model = CountVectorizer(stop_words=\"english\")\n",
    "\n",
    "\n",
    "# Create and deploy bertopic model\n",
    "\n",
    "topic_model = BERTopic(verbose=\"True\", umap_model=umap_model, vectorizer_model=vectorizer_model)\n",
    "\n",
    "# Using min_topic_size\n",
    "# topic_model = BERTopic(verbose=\"True\", umap_model=umap_model, vectorizer_model=vectorizer_model, nr_topics=14, min_topic_size = 20)\n",
    "\n",
    "\n",
    "topic_model.fit_transform(response_df.to_list())"
   ]
  },
  {
   "cell_type": "markdown",
   "metadata": {},
   "source": [
    "### Visualize Raw Model"
   ]
  },
  {
   "cell_type": "code",
   "execution_count": 7,
   "metadata": {},
   "outputs": [],
   "source": [
    "# topic_model.visualize_topics()"
   ]
  },
  {
   "cell_type": "code",
   "execution_count": 8,
   "metadata": {},
   "outputs": [
    {
     "data": {
      "text/html": [
       "<div>\n",
       "<style scoped>\n",
       "    .dataframe tbody tr th:only-of-type {\n",
       "        vertical-align: middle;\n",
       "    }\n",
       "\n",
       "    .dataframe tbody tr th {\n",
       "        vertical-align: top;\n",
       "    }\n",
       "\n",
       "    .dataframe thead th {\n",
       "        text-align: right;\n",
       "    }\n",
       "</style>\n",
       "<table border=\"1\" class=\"dataframe\">\n",
       "  <thead>\n",
       "    <tr style=\"text-align: right;\">\n",
       "      <th></th>\n",
       "      <th>Topic</th>\n",
       "      <th>Count</th>\n",
       "      <th>Name</th>\n",
       "      <th>Representation</th>\n",
       "      <th>Representative_Docs</th>\n",
       "    </tr>\n",
       "  </thead>\n",
       "  <tbody>\n",
       "    <tr>\n",
       "      <th>0</th>\n",
       "      <td>-1</td>\n",
       "      <td>607</td>\n",
       "      <td>-1_indigenous_cer_pipeline_opr</td>\n",
       "      <td>[indigenous, cer, pipeline, opr, companies, en...</td>\n",
       "      <td>[At present, the Environmental Protection Plan...</td>\n",
       "    </tr>\n",
       "    <tr>\n",
       "      <th>1</th>\n",
       "      <td>0</td>\n",
       "      <td>82</td>\n",
       "      <td>0_indigenous_oversight_pipeline_monitoring</td>\n",
       "      <td>[indigenous, oversight, pipeline, monitoring, ...</td>\n",
       "      <td>[Involvement of Indigenous peoples in pipeline...</td>\n",
       "    </tr>\n",
       "    <tr>\n",
       "      <th>2</th>\n",
       "      <td>1</td>\n",
       "      <td>69</td>\n",
       "      <td>1_nations_rights_nation_cer</td>\n",
       "      <td>[nations, rights, nation, cer, indigenous, pro...</td>\n",
       "      <td>[Currently, there are no explicit requirements...</td>\n",
       "    </tr>\n",
       "    <tr>\n",
       "      <th>3</th>\n",
       "      <td>2</td>\n",
       "      <td>67</td>\n",
       "      <td>2_indigenous_peoples_reconciliation_opr</td>\n",
       "      <td>[indigenous, peoples, reconciliation, opr, und...</td>\n",
       "      <td>[As an overarching comment on the Review proce...</td>\n",
       "    </tr>\n",
       "    <tr>\n",
       "      <th>4</th>\n",
       "      <td>3</td>\n",
       "      <td>66</td>\n",
       "      <td>3_emergency_response_management_indigenous</td>\n",
       "      <td>[emergency, response, management, indigenous, ...</td>\n",
       "      <td>[As noted in the Discussion Paper (paraphrased...</td>\n",
       "    </tr>\n",
       "    <tr>\n",
       "      <th>5</th>\n",
       "      <td>4</td>\n",
       "      <td>65</td>\n",
       "      <td>4_heritage_resources_sites_cultural</td>\n",
       "      <td>[heritage, resources, sites, cultural, indigen...</td>\n",
       "      <td>[In practice, companies are subject to applica...</td>\n",
       "    </tr>\n",
       "    <tr>\n",
       "      <th>6</th>\n",
       "      <td>5</td>\n",
       "      <td>60</td>\n",
       "      <td>5_women_gba_plus_gender</td>\n",
       "      <td>[women, gba, plus, gender, violence, harassmen...</td>\n",
       "      <td>[Systems and structures in Canada are fraught ...</td>\n",
       "    </tr>\n",
       "    <tr>\n",
       "      <th>7</th>\n",
       "      <td>6</td>\n",
       "      <td>52</td>\n",
       "      <td>6_compliance_cer_tc_technical</td>\n",
       "      <td>[compliance, cer, tc, technical, guidance, ene...</td>\n",
       "      <td>[Olitech’s recommendations with respect to com...</td>\n",
       "    </tr>\n",
       "    <tr>\n",
       "      <th>8</th>\n",
       "      <td>7</td>\n",
       "      <td>45</td>\n",
       "      <td>7_safety_management_requirements_process</td>\n",
       "      <td>[safety, management, requirements, process, ri...</td>\n",
       "      <td>[The OPR does not specifically include process...</td>\n",
       "    </tr>\n",
       "    <tr>\n",
       "      <th>9</th>\n",
       "      <td>8</td>\n",
       "      <td>44</td>\n",
       "      <td>8_knowledge_indigenous_use_traditional</td>\n",
       "      <td>[knowledge, indigenous, use, traditional, cont...</td>\n",
       "      <td>[It is our understanding that the federal gove...</td>\n",
       "    </tr>\n",
       "    <tr>\n",
       "      <th>10</th>\n",
       "      <td>9</td>\n",
       "      <td>33</td>\n",
       "      <td>9_contaminated_contamination_site_remediation</td>\n",
       "      <td>[contaminated, contamination, site, remediatio...</td>\n",
       "      <td>[Contaminated site management should also incl...</td>\n",
       "    </tr>\n",
       "    <tr>\n",
       "      <th>11</th>\n",
       "      <td>10</td>\n",
       "      <td>30</td>\n",
       "      <td>10_community_communication_engagement_communities</td>\n",
       "      <td>[community, communication, engagement, communi...</td>\n",
       "      <td>[•    Accessible communication: Regional RCC r...</td>\n",
       "    </tr>\n",
       "    <tr>\n",
       "      <th>12</th>\n",
       "      <td>11</td>\n",
       "      <td>26</td>\n",
       "      <td>11_pipeline_gwichin_pipelines_regulations</td>\n",
       "      <td>[pipeline, gwichin, pipelines, regulations, di...</td>\n",
       "      <td>[Canadian Natural is the operator of a few CER...</td>\n",
       "    </tr>\n",
       "    <tr>\n",
       "      <th>13</th>\n",
       "      <td>12</td>\n",
       "      <td>25</td>\n",
       "      <td>12_environmental_protection_impacts_plans</td>\n",
       "      <td>[environmental, protection, impacts, plans, me...</td>\n",
       "      <td>[Indigenous Communities should be involved in ...</td>\n",
       "    </tr>\n",
       "    <tr>\n",
       "      <th>14</th>\n",
       "      <td>13</td>\n",
       "      <td>21</td>\n",
       "      <td>13_mno_regions_mtis_impacted</td>\n",
       "      <td>[mno, regions, mtis, impacted, mns, need, comp...</td>\n",
       "      <td>[• Companies must develop protocols for chance...</td>\n",
       "    </tr>\n",
       "    <tr>\n",
       "      <th>15</th>\n",
       "      <td>14</td>\n",
       "      <td>20</td>\n",
       "      <td>14_safety_nations_indigenous_inherent</td>\n",
       "      <td>[safety, nations, indigenous, inherent, rights...</td>\n",
       "      <td>[Standard requirements that must be present in...</td>\n",
       "    </tr>\n",
       "    <tr>\n",
       "      <th>16</th>\n",
       "      <td>15</td>\n",
       "      <td>19</td>\n",
       "      <td>15_mtis_metis_settlements_database</td>\n",
       "      <td>[mtis, metis, settlements, database, companies...</td>\n",
       "      <td>[•\\tMétis should have access to the entire pip...</td>\n",
       "    </tr>\n",
       "    <tr>\n",
       "      <th>17</th>\n",
       "      <td>16</td>\n",
       "      <td>19</td>\n",
       "      <td>16_pipeline_spill_hcss_regulations</td>\n",
       "      <td>[pipeline, spill, hcss, regulations, pipelines...</td>\n",
       "      <td>[Improvement opportunities:\\nSimplification of...</td>\n",
       "    </tr>\n",
       "    <tr>\n",
       "      <th>18</th>\n",
       "      <td>17</td>\n",
       "      <td>18</td>\n",
       "      <td>17_contractor_contractors_management_safety</td>\n",
       "      <td>[contractor, contractors, management, safety, ...</td>\n",
       "      <td>[Both CCPS and Energy Safety Canada provide a ...</td>\n",
       "    </tr>\n",
       "    <tr>\n",
       "      <th>19</th>\n",
       "      <td>18</td>\n",
       "      <td>18</td>\n",
       "      <td>18_energy_timelines_onshore_canadian</td>\n",
       "      <td>[energy, timelines, onshore, canadian, tc, reg...</td>\n",
       "      <td>[The purpose of the Onshore Pipeline Regulatio...</td>\n",
       "    </tr>\n",
       "    <tr>\n",
       "      <th>20</th>\n",
       "      <td>19</td>\n",
       "      <td>17</td>\n",
       "      <td>19_communication_engagement_indigenous_communi...</td>\n",
       "      <td>[communication, engagement, indigenous, commun...</td>\n",
       "      <td>[Transparent, respectful communication should ...</td>\n",
       "    </tr>\n",
       "    <tr>\n",
       "      <th>21</th>\n",
       "      <td>20</td>\n",
       "      <td>17</td>\n",
       "      <td>20_land_communities_knowledge_community</td>\n",
       "      <td>[land, communities, knowledge, community, area...</td>\n",
       "      <td>[-Knowledge and awareness to workers and contr...</td>\n",
       "    </tr>\n",
       "    <tr>\n",
       "      <th>22</th>\n",
       "      <td>21</td>\n",
       "      <td>17</td>\n",
       "      <td>21_pipeline_status_assessment_change</td>\n",
       "      <td>[pipeline, status, assessment, change, use, ab...</td>\n",
       "      <td>[Change in pipeline use and status: The OPR sh...</td>\n",
       "    </tr>\n",
       "    <tr>\n",
       "      <th>23</th>\n",
       "      <td>22</td>\n",
       "      <td>15</td>\n",
       "      <td>22_bmps_risk_environment_indigenous</td>\n",
       "      <td>[bmps, risk, environment, indigenous, assessin...</td>\n",
       "      <td>[Enhanced requirements for management systems ...</td>\n",
       "    </tr>\n",
       "    <tr>\n",
       "      <th>24</th>\n",
       "      <td>23</td>\n",
       "      <td>14</td>\n",
       "      <td>23_contractors_contractor_code_conduct</td>\n",
       "      <td>[contractors, contractor, code, conduct, artic...</td>\n",
       "      <td>[Nations should receive notification on which ...</td>\n",
       "    </tr>\n",
       "    <tr>\n",
       "      <th>25</th>\n",
       "      <td>24</td>\n",
       "      <td>13</td>\n",
       "      <td>24_quality_assurance_specifications_management</td>\n",
       "      <td>[quality, assurance, specifications, managemen...</td>\n",
       "      <td>[Clauses 9, 14, 15, 16, 17, 23, 25, 40 and 41 ...</td>\n",
       "    </tr>\n",
       "  </tbody>\n",
       "</table>\n",
       "</div>"
      ],
      "text/plain": [
       "    Topic  Count                                               Name  \\\n",
       "0      -1    607                     -1_indigenous_cer_pipeline_opr   \n",
       "1       0     82         0_indigenous_oversight_pipeline_monitoring   \n",
       "2       1     69                        1_nations_rights_nation_cer   \n",
       "3       2     67            2_indigenous_peoples_reconciliation_opr   \n",
       "4       3     66         3_emergency_response_management_indigenous   \n",
       "5       4     65                4_heritage_resources_sites_cultural   \n",
       "6       5     60                            5_women_gba_plus_gender   \n",
       "7       6     52                      6_compliance_cer_tc_technical   \n",
       "8       7     45           7_safety_management_requirements_process   \n",
       "9       8     44             8_knowledge_indigenous_use_traditional   \n",
       "10      9     33      9_contaminated_contamination_site_remediation   \n",
       "11     10     30  10_community_communication_engagement_communities   \n",
       "12     11     26          11_pipeline_gwichin_pipelines_regulations   \n",
       "13     12     25          12_environmental_protection_impacts_plans   \n",
       "14     13     21                       13_mno_regions_mtis_impacted   \n",
       "15     14     20              14_safety_nations_indigenous_inherent   \n",
       "16     15     19                 15_mtis_metis_settlements_database   \n",
       "17     16     19                 16_pipeline_spill_hcss_regulations   \n",
       "18     17     18        17_contractor_contractors_management_safety   \n",
       "19     18     18               18_energy_timelines_onshore_canadian   \n",
       "20     19     17  19_communication_engagement_indigenous_communi...   \n",
       "21     20     17            20_land_communities_knowledge_community   \n",
       "22     21     17               21_pipeline_status_assessment_change   \n",
       "23     22     15                22_bmps_risk_environment_indigenous   \n",
       "24     23     14             23_contractors_contractor_code_conduct   \n",
       "25     24     13     24_quality_assurance_specifications_management   \n",
       "\n",
       "                                       Representation  \\\n",
       "0   [indigenous, cer, pipeline, opr, companies, en...   \n",
       "1   [indigenous, oversight, pipeline, monitoring, ...   \n",
       "2   [nations, rights, nation, cer, indigenous, pro...   \n",
       "3   [indigenous, peoples, reconciliation, opr, und...   \n",
       "4   [emergency, response, management, indigenous, ...   \n",
       "5   [heritage, resources, sites, cultural, indigen...   \n",
       "6   [women, gba, plus, gender, violence, harassmen...   \n",
       "7   [compliance, cer, tc, technical, guidance, ene...   \n",
       "8   [safety, management, requirements, process, ri...   \n",
       "9   [knowledge, indigenous, use, traditional, cont...   \n",
       "10  [contaminated, contamination, site, remediatio...   \n",
       "11  [community, communication, engagement, communi...   \n",
       "12  [pipeline, gwichin, pipelines, regulations, di...   \n",
       "13  [environmental, protection, impacts, plans, me...   \n",
       "14  [mno, regions, mtis, impacted, mns, need, comp...   \n",
       "15  [safety, nations, indigenous, inherent, rights...   \n",
       "16  [mtis, metis, settlements, database, companies...   \n",
       "17  [pipeline, spill, hcss, regulations, pipelines...   \n",
       "18  [contractor, contractors, management, safety, ...   \n",
       "19  [energy, timelines, onshore, canadian, tc, reg...   \n",
       "20  [communication, engagement, indigenous, commun...   \n",
       "21  [land, communities, knowledge, community, area...   \n",
       "22  [pipeline, status, assessment, change, use, ab...   \n",
       "23  [bmps, risk, environment, indigenous, assessin...   \n",
       "24  [contractors, contractor, code, conduct, artic...   \n",
       "25  [quality, assurance, specifications, managemen...   \n",
       "\n",
       "                                  Representative_Docs  \n",
       "0   [At present, the Environmental Protection Plan...  \n",
       "1   [Involvement of Indigenous peoples in pipeline...  \n",
       "2   [Currently, there are no explicit requirements...  \n",
       "3   [As an overarching comment on the Review proce...  \n",
       "4   [As noted in the Discussion Paper (paraphrased...  \n",
       "5   [In practice, companies are subject to applica...  \n",
       "6   [Systems and structures in Canada are fraught ...  \n",
       "7   [Olitech’s recommendations with respect to com...  \n",
       "8   [The OPR does not specifically include process...  \n",
       "9   [It is our understanding that the federal gove...  \n",
       "10  [Contaminated site management should also incl...  \n",
       "11  [•    Accessible communication: Regional RCC r...  \n",
       "12  [Canadian Natural is the operator of a few CER...  \n",
       "13  [Indigenous Communities should be involved in ...  \n",
       "14  [• Companies must develop protocols for chance...  \n",
       "15  [Standard requirements that must be present in...  \n",
       "16  [•\\tMétis should have access to the entire pip...  \n",
       "17  [Improvement opportunities:\\nSimplification of...  \n",
       "18  [Both CCPS and Energy Safety Canada provide a ...  \n",
       "19  [The purpose of the Onshore Pipeline Regulatio...  \n",
       "20  [Transparent, respectful communication should ...  \n",
       "21  [-Knowledge and awareness to workers and contr...  \n",
       "22  [Change in pipeline use and status: The OPR sh...  \n",
       "23  [Enhanced requirements for management systems ...  \n",
       "24  [Nations should receive notification on which ...  \n",
       "25  [Clauses 9, 14, 15, 16, 17, 23, 25, 40 and 41 ...  "
      ]
     },
     "execution_count": 8,
     "metadata": {},
     "output_type": "execute_result"
    }
   ],
   "source": [
    "topic_model.get_topic_info()"
   ]
  },
  {
   "cell_type": "code",
   "execution_count": 9,
   "metadata": {},
   "outputs": [],
   "source": [
    "# topic_model.visualize_heatmap()"
   ]
  },
  {
   "cell_type": "markdown",
   "metadata": {},
   "source": [
    "## Removing Outliers & Saving Model"
   ]
  },
  {
   "cell_type": "code",
   "execution_count": 10,
   "metadata": {},
   "outputs": [
    {
     "data": {
      "application/vnd.jupyter.widget-view+json": {
       "model_id": "c5838f0d13194546a28821707262a336",
       "version_major": 2,
       "version_minor": 0
      },
      "text/plain": [
       "Batches:   0%|          | 0/47 [00:00<?, ?it/s]"
      ]
     },
     "metadata": {},
     "output_type": "display_data"
    },
    {
     "name": "stderr",
     "output_type": "stream",
     "text": [
      "2023-08-02 10:30:44,176 - BERTopic - Transformed documents to Embeddings\n",
      "2023-08-02 10:30:49,837 - BERTopic - Reduced dimensionality\n",
      "2023-08-02 10:30:49,913 - BERTopic - Clustered reduced embeddings\n"
     ]
    }
   ],
   "source": [
    "# Train Model\n",
    "topics, probs = topic_model.fit_transform(response_df.to_list())\n",
    "\n",
    "# Use the \"c-TF-IDF\" strategy with a threshold\n",
    "new_topics = topic_model.reduce_outliers(response_df.to_list(), topics , strategy=\"c-tf-idf\", threshold=0.1)\n",
    "\n",
    "\n",
    "# Reduce all outliers that are left with the \"distributions\" strategy\n",
    "# new_topics = topic_model.reduce_outliers(response_df.to_list(), topics, strategy=\"distributions\")\n",
    "\n",
    "# Update topics\n",
    "topic_model.update_topics(response_df.to_list(), topics=new_topics)"
   ]
  },
  {
   "cell_type": "markdown",
   "metadata": {},
   "source": [
    "### Change Names based on Most Frequent Words"
   ]
  },
  {
   "cell_type": "markdown",
   "metadata": {},
   "source": [
    "#### Name based on Top N words per Topic"
   ]
  },
  {
   "cell_type": "code",
   "execution_count": 11,
   "metadata": {},
   "outputs": [
    {
     "data": {
      "text/plain": [
       "['-1, the, of, be, to, in',\n",
       " '0, indigenous, the, of, and, to',\n",
       " '1, to, nations, and, the, rights',\n",
       " '2, the, indigenous, and, of, to',\n",
       " '3, emergency, response, and, the, management',\n",
       " '4, heritage, resources, and, to, of',\n",
       " '5, and, of, to, the, women',\n",
       " '6, compliance, the, cer, and, to',\n",
       " '7, safety, management, requirements, system, process',\n",
       " '8, knowledge, indigenous, the, of, and',\n",
       " '9, contaminated, contamination, remediation, site, the',\n",
       " '10, engagement, community, the, they, what',\n",
       " '11, the, and, of, to, in',\n",
       " '12, environmental, protection, and, the, to',\n",
       " '13, mno, mtis, regions, be, companies',\n",
       " '14, safety, to, should, indigenous, and',\n",
       " '15, mtis, metis, the, would, and',\n",
       " '16, the, of, to, is, that',\n",
       " '17, contractor, contractors, management, the, to',\n",
       " '18, to, of, the, and, in',\n",
       " '19, communication, engagement, and, to, the',\n",
       " '20, land, communities, area, knowledge, we',\n",
       " '21, pipeline, the, to, that, and',\n",
       " '22, risk, bmps, and, environment, the',\n",
       " '23, contractors, and, their, indigenous, or',\n",
       " '24, quality, assurance, the, and, requirements']"
      ]
     },
     "execution_count": 11,
     "metadata": {},
     "output_type": "execute_result"
    }
   ],
   "source": [
    "# First, we define our topic labels with .generate_topic_labels in which we can customize our topic labels:\n",
    "\n",
    "topic_labels = topic_model.generate_topic_labels(nr_words=5,\n",
    "                                            topic_prefix=True,\n",
    "                                            separator=\", \")\n",
    "\n",
    "topic_labels"
   ]
  },
  {
   "cell_type": "code",
   "execution_count": 12,
   "metadata": {},
   "outputs": [
    {
     "data": {
      "text/plain": [
       "['-1, the, of, be, to, in',\n",
       " '0, indigenous, the, of, and, to',\n",
       " '1, to, nations, and, the, rights',\n",
       " '2, the, indigenous, and, of, to',\n",
       " '3, emergency, response, and, the, management',\n",
       " '4, heritage, resources, and, to, of',\n",
       " '5, and, of, to, the, women',\n",
       " '6, compliance, the, cer, and, to',\n",
       " '7, safety, management, requirements, system, process',\n",
       " '8, knowledge, indigenous, the, of, and',\n",
       " '9, contaminated, contamination, remediation, site, the',\n",
       " '10, engagement, community, the, they, what',\n",
       " '11, the, and, of, to, in',\n",
       " '12, environmental, protection, and, the, to',\n",
       " '13, mno, mtis, regions, be, companies',\n",
       " '14, safety, to, should, indigenous, and',\n",
       " '15, mtis, metis, the, would, and',\n",
       " '16, the, of, to, is, that',\n",
       " '17, contractor, contractors, management, the, to',\n",
       " '18, to, of, the, and, in',\n",
       " '19, communication, engagement, and, to, the',\n",
       " '20, land, communities, area, knowledge, we',\n",
       " '21, pipeline, the, to, that, and',\n",
       " '22, risk, bmps, and, environment, the',\n",
       " '23, contractors, and, their, indigenous, or',\n",
       " '24, quality, assurance, the, and, requirements']"
      ]
     },
     "execution_count": 12,
     "metadata": {},
     "output_type": "execute_result"
    }
   ],
   "source": [
    "# Then, we pass these topic_labels to our topic model which can be accessed at any time with .custom_labels_:\n",
    "    \n",
    "topic_model.set_topic_labels(topic_labels)\n",
    "topic_model.custom_labels_\n"
   ]
  },
  {
   "cell_type": "markdown",
   "metadata": {},
   "source": [
    "### Save BERTOPIC Model"
   ]
  },
  {
   "cell_type": "code",
   "execution_count": 13,
   "metadata": {},
   "outputs": [],
   "source": [
    "path = \"/Users/Sebastian/OneDrive/2023 Summer/CER-Theme-Classification/Visualizing First Data/Models-Sebastian/Saved BERTOPIC Models\"\n",
    "\n",
    "# Saved as light model in Pytorch\n",
    "embedding_model = \"sentence-transformers/all-MiniLM-L6-v2\"\n",
    "topic_model.save(path, serialization=\"pytorch\", save_ctfidf=True, save_embedding_model=embedding_model)"
   ]
  },
  {
   "cell_type": "markdown",
   "metadata": {},
   "source": [
    "## Visualize After Removing  Outliers"
   ]
  },
  {
   "cell_type": "code",
   "execution_count": 14,
   "metadata": {},
   "outputs": [
    {
     "data": {
      "application/vnd.plotly.v1+json": {
       "config": {
        "plotlyServerURL": "https://plot.ly"
       },
       "data": [
        {
         "customdata": [
          [
           0,
           "indigenous | the | of | and | to",
           139
          ],
          [
           1,
           "to | nations | and | the | rights",
           120
          ],
          [
           2,
           "the | indigenous | and | of | to",
           93
          ],
          [
           3,
           "emergency | response | and | the | management",
           78
          ],
          [
           4,
           "heritage | resources | and | to | of",
           84
          ],
          [
           5,
           "and | of | to | the | women",
           80
          ],
          [
           6,
           "compliance | the | cer | and | to",
           99
          ],
          [
           7,
           "safety | management | requirements | system | process",
           93
          ],
          [
           8,
           "knowledge | indigenous | the | of | and",
           59
          ],
          [
           9,
           "contaminated | contamination | remediation | site | the",
           38
          ],
          [
           10,
           "engagement | community | the | they | what",
           51
          ],
          [
           11,
           "the | and | of | to | in",
           48
          ],
          [
           12,
           "environmental | protection | and | the | to",
           61
          ],
          [
           13,
           "mno | mtis | regions | be | companies",
           23
          ],
          [
           14,
           "safety | to | should | indigenous | and",
           24
          ],
          [
           15,
           "mtis | metis | the | would | and",
           23
          ],
          [
           16,
           "the | of | to | is | that",
           36
          ],
          [
           17,
           "contractor | contractors | management | the | to",
           27
          ],
          [
           18,
           "to | of | the | and | in",
           31
          ],
          [
           19,
           "communication | engagement | and | to | the",
           58
          ],
          [
           20,
           "land | communities | area | knowledge | we",
           25
          ],
          [
           21,
           "pipeline | the | to | that | and",
           31
          ],
          [
           22,
           "risk | bmps | and | environment | the",
           21
          ],
          [
           23,
           "contractors | and | their | indigenous | or",
           22
          ],
          [
           24,
           "quality | assurance | the | and | requirements",
           30
          ]
         ],
         "hovertemplate": "<b>Topic %{customdata[0]}</b><br>%{customdata[1]}<br>Size: %{customdata[2]}",
         "legendgroup": "",
         "marker": {
          "color": "#B0BEC5",
          "line": {
           "color": "DarkSlateGrey",
           "width": 2
          },
          "size": [
           139,
           120,
           93,
           78,
           84,
           80,
           99,
           93,
           59,
           38,
           51,
           48,
           61,
           23,
           24,
           23,
           36,
           27,
           31,
           58,
           25,
           31,
           21,
           22,
           30
          ],
          "sizemode": "area",
          "sizeref": 0.086875,
          "symbol": "circle"
         },
         "mode": "markers",
         "name": "",
         "orientation": "v",
         "showlegend": false,
         "type": "scatter",
         "x": [
          16.420398712158203,
          15.91925048828125,
          15.640129089355469,
          16.38090705871582,
          15.354199409484863,
          15.066866874694824,
          14.549723625183105,
          14.213221549987793,
          16.93853759765625,
          18.004100799560547,
          3.1337690353393555,
          15.881627082824707,
          18.284908294677734,
          2.6810734272003174,
          16.053401947021484,
          2.760265827178955,
          15.365421295166016,
          14.884880065917969,
          14.809957504272461,
          3.1753876209259033,
          17.079097747802734,
          15.727927207946777,
          18.440235137939453,
          15.219477653503418,
          13.985674858093262
         ],
         "xaxis": "x",
         "y": [
          8.141173362731934,
          5.034758567810059,
          4.471673965454102,
          7.874123573303223,
          4.787375450134277,
          9.069930076599121,
          9.425127983093262,
          9.816924095153809,
          8.052218437194824,
          13.612977981567383,
          8.498468399047852,
          8.290822982788086,
          13.891606330871582,
          -0.7300452589988708,
          5.266287803649902,
          -0.6507988572120667,
          8.559659004211426,
          4.089213848114014,
          9.061172485351562,
          8.456878662109375,
          7.842005252838135,
          7.847102642059326,
          14.045438766479492,
          4.267399787902832,
          10.055607795715332
         ],
         "yaxis": "y"
        }
       ],
       "layout": {
        "annotations": [
         {
          "showarrow": false,
          "text": "D1",
          "x": 2.2789124131202696,
          "y": 7.656351266801357,
          "yshift": 10
         },
         {
          "showarrow": false,
          "text": "D2",
          "x": 11.74259141087532,
          "xshift": 10,
          "y": 16.152254581451416
         }
        ],
        "height": 650,
        "hoverlabel": {
         "bgcolor": "white",
         "font": {
          "family": "Rockwell",
          "size": 16
         }
        },
        "legend": {
         "itemsizing": "constant",
         "tracegroupgap": 0
        },
        "margin": {
         "t": 60
        },
        "shapes": [
         {
          "line": {
           "color": "#CFD8DC",
           "width": 2
          },
          "type": "line",
          "x0": 11.74259141087532,
          "x1": 11.74259141087532,
          "y0": -0.8395520478487015,
          "y1": 16.152254581451416
         },
         {
          "line": {
           "color": "#9E9E9E",
           "width": 2
          },
          "type": "line",
          "x0": 2.2789124131202696,
          "x1": 21.20627040863037,
          "y0": 7.656351266801357,
          "y1": 7.656351266801357
         }
        ],
        "sliders": [
         {
          "active": 0,
          "pad": {
           "t": 50
          },
          "steps": [
           {
            "args": [
             {
              "marker.color": [
               [
                "red",
                "#B0BEC5",
                "#B0BEC5",
                "#B0BEC5",
                "#B0BEC5",
                "#B0BEC5",
                "#B0BEC5",
                "#B0BEC5",
                "#B0BEC5",
                "#B0BEC5",
                "#B0BEC5",
                "#B0BEC5",
                "#B0BEC5",
                "#B0BEC5",
                "#B0BEC5",
                "#B0BEC5",
                "#B0BEC5",
                "#B0BEC5",
                "#B0BEC5",
                "#B0BEC5",
                "#B0BEC5",
                "#B0BEC5",
                "#B0BEC5",
                "#B0BEC5",
                "#B0BEC5"
               ]
              ]
             }
            ],
            "label": "Topic 0",
            "method": "update"
           },
           {
            "args": [
             {
              "marker.color": [
               [
                "#B0BEC5",
                "red",
                "#B0BEC5",
                "#B0BEC5",
                "#B0BEC5",
                "#B0BEC5",
                "#B0BEC5",
                "#B0BEC5",
                "#B0BEC5",
                "#B0BEC5",
                "#B0BEC5",
                "#B0BEC5",
                "#B0BEC5",
                "#B0BEC5",
                "#B0BEC5",
                "#B0BEC5",
                "#B0BEC5",
                "#B0BEC5",
                "#B0BEC5",
                "#B0BEC5",
                "#B0BEC5",
                "#B0BEC5",
                "#B0BEC5",
                "#B0BEC5",
                "#B0BEC5"
               ]
              ]
             }
            ],
            "label": "Topic 1",
            "method": "update"
           },
           {
            "args": [
             {
              "marker.color": [
               [
                "#B0BEC5",
                "#B0BEC5",
                "red",
                "#B0BEC5",
                "#B0BEC5",
                "#B0BEC5",
                "#B0BEC5",
                "#B0BEC5",
                "#B0BEC5",
                "#B0BEC5",
                "#B0BEC5",
                "#B0BEC5",
                "#B0BEC5",
                "#B0BEC5",
                "#B0BEC5",
                "#B0BEC5",
                "#B0BEC5",
                "#B0BEC5",
                "#B0BEC5",
                "#B0BEC5",
                "#B0BEC5",
                "#B0BEC5",
                "#B0BEC5",
                "#B0BEC5",
                "#B0BEC5"
               ]
              ]
             }
            ],
            "label": "Topic 2",
            "method": "update"
           },
           {
            "args": [
             {
              "marker.color": [
               [
                "#B0BEC5",
                "#B0BEC5",
                "#B0BEC5",
                "red",
                "#B0BEC5",
                "#B0BEC5",
                "#B0BEC5",
                "#B0BEC5",
                "#B0BEC5",
                "#B0BEC5",
                "#B0BEC5",
                "#B0BEC5",
                "#B0BEC5",
                "#B0BEC5",
                "#B0BEC5",
                "#B0BEC5",
                "#B0BEC5",
                "#B0BEC5",
                "#B0BEC5",
                "#B0BEC5",
                "#B0BEC5",
                "#B0BEC5",
                "#B0BEC5",
                "#B0BEC5",
                "#B0BEC5"
               ]
              ]
             }
            ],
            "label": "Topic 3",
            "method": "update"
           },
           {
            "args": [
             {
              "marker.color": [
               [
                "#B0BEC5",
                "#B0BEC5",
                "#B0BEC5",
                "#B0BEC5",
                "red",
                "#B0BEC5",
                "#B0BEC5",
                "#B0BEC5",
                "#B0BEC5",
                "#B0BEC5",
                "#B0BEC5",
                "#B0BEC5",
                "#B0BEC5",
                "#B0BEC5",
                "#B0BEC5",
                "#B0BEC5",
                "#B0BEC5",
                "#B0BEC5",
                "#B0BEC5",
                "#B0BEC5",
                "#B0BEC5",
                "#B0BEC5",
                "#B0BEC5",
                "#B0BEC5",
                "#B0BEC5"
               ]
              ]
             }
            ],
            "label": "Topic 4",
            "method": "update"
           },
           {
            "args": [
             {
              "marker.color": [
               [
                "#B0BEC5",
                "#B0BEC5",
                "#B0BEC5",
                "#B0BEC5",
                "#B0BEC5",
                "red",
                "#B0BEC5",
                "#B0BEC5",
                "#B0BEC5",
                "#B0BEC5",
                "#B0BEC5",
                "#B0BEC5",
                "#B0BEC5",
                "#B0BEC5",
                "#B0BEC5",
                "#B0BEC5",
                "#B0BEC5",
                "#B0BEC5",
                "#B0BEC5",
                "#B0BEC5",
                "#B0BEC5",
                "#B0BEC5",
                "#B0BEC5",
                "#B0BEC5",
                "#B0BEC5"
               ]
              ]
             }
            ],
            "label": "Topic 5",
            "method": "update"
           },
           {
            "args": [
             {
              "marker.color": [
               [
                "#B0BEC5",
                "#B0BEC5",
                "#B0BEC5",
                "#B0BEC5",
                "#B0BEC5",
                "#B0BEC5",
                "red",
                "#B0BEC5",
                "#B0BEC5",
                "#B0BEC5",
                "#B0BEC5",
                "#B0BEC5",
                "#B0BEC5",
                "#B0BEC5",
                "#B0BEC5",
                "#B0BEC5",
                "#B0BEC5",
                "#B0BEC5",
                "#B0BEC5",
                "#B0BEC5",
                "#B0BEC5",
                "#B0BEC5",
                "#B0BEC5",
                "#B0BEC5",
                "#B0BEC5"
               ]
              ]
             }
            ],
            "label": "Topic 6",
            "method": "update"
           },
           {
            "args": [
             {
              "marker.color": [
               [
                "#B0BEC5",
                "#B0BEC5",
                "#B0BEC5",
                "#B0BEC5",
                "#B0BEC5",
                "#B0BEC5",
                "#B0BEC5",
                "red",
                "#B0BEC5",
                "#B0BEC5",
                "#B0BEC5",
                "#B0BEC5",
                "#B0BEC5",
                "#B0BEC5",
                "#B0BEC5",
                "#B0BEC5",
                "#B0BEC5",
                "#B0BEC5",
                "#B0BEC5",
                "#B0BEC5",
                "#B0BEC5",
                "#B0BEC5",
                "#B0BEC5",
                "#B0BEC5",
                "#B0BEC5"
               ]
              ]
             }
            ],
            "label": "Topic 7",
            "method": "update"
           },
           {
            "args": [
             {
              "marker.color": [
               [
                "#B0BEC5",
                "#B0BEC5",
                "#B0BEC5",
                "#B0BEC5",
                "#B0BEC5",
                "#B0BEC5",
                "#B0BEC5",
                "#B0BEC5",
                "red",
                "#B0BEC5",
                "#B0BEC5",
                "#B0BEC5",
                "#B0BEC5",
                "#B0BEC5",
                "#B0BEC5",
                "#B0BEC5",
                "#B0BEC5",
                "#B0BEC5",
                "#B0BEC5",
                "#B0BEC5",
                "#B0BEC5",
                "#B0BEC5",
                "#B0BEC5",
                "#B0BEC5",
                "#B0BEC5"
               ]
              ]
             }
            ],
            "label": "Topic 8",
            "method": "update"
           },
           {
            "args": [
             {
              "marker.color": [
               [
                "#B0BEC5",
                "#B0BEC5",
                "#B0BEC5",
                "#B0BEC5",
                "#B0BEC5",
                "#B0BEC5",
                "#B0BEC5",
                "#B0BEC5",
                "#B0BEC5",
                "red",
                "#B0BEC5",
                "#B0BEC5",
                "#B0BEC5",
                "#B0BEC5",
                "#B0BEC5",
                "#B0BEC5",
                "#B0BEC5",
                "#B0BEC5",
                "#B0BEC5",
                "#B0BEC5",
                "#B0BEC5",
                "#B0BEC5",
                "#B0BEC5",
                "#B0BEC5",
                "#B0BEC5"
               ]
              ]
             }
            ],
            "label": "Topic 9",
            "method": "update"
           },
           {
            "args": [
             {
              "marker.color": [
               [
                "#B0BEC5",
                "#B0BEC5",
                "#B0BEC5",
                "#B0BEC5",
                "#B0BEC5",
                "#B0BEC5",
                "#B0BEC5",
                "#B0BEC5",
                "#B0BEC5",
                "#B0BEC5",
                "red",
                "#B0BEC5",
                "#B0BEC5",
                "#B0BEC5",
                "#B0BEC5",
                "#B0BEC5",
                "#B0BEC5",
                "#B0BEC5",
                "#B0BEC5",
                "#B0BEC5",
                "#B0BEC5",
                "#B0BEC5",
                "#B0BEC5",
                "#B0BEC5",
                "#B0BEC5"
               ]
              ]
             }
            ],
            "label": "Topic 10",
            "method": "update"
           },
           {
            "args": [
             {
              "marker.color": [
               [
                "#B0BEC5",
                "#B0BEC5",
                "#B0BEC5",
                "#B0BEC5",
                "#B0BEC5",
                "#B0BEC5",
                "#B0BEC5",
                "#B0BEC5",
                "#B0BEC5",
                "#B0BEC5",
                "#B0BEC5",
                "red",
                "#B0BEC5",
                "#B0BEC5",
                "#B0BEC5",
                "#B0BEC5",
                "#B0BEC5",
                "#B0BEC5",
                "#B0BEC5",
                "#B0BEC5",
                "#B0BEC5",
                "#B0BEC5",
                "#B0BEC5",
                "#B0BEC5",
                "#B0BEC5"
               ]
              ]
             }
            ],
            "label": "Topic 11",
            "method": "update"
           },
           {
            "args": [
             {
              "marker.color": [
               [
                "#B0BEC5",
                "#B0BEC5",
                "#B0BEC5",
                "#B0BEC5",
                "#B0BEC5",
                "#B0BEC5",
                "#B0BEC5",
                "#B0BEC5",
                "#B0BEC5",
                "#B0BEC5",
                "#B0BEC5",
                "#B0BEC5",
                "red",
                "#B0BEC5",
                "#B0BEC5",
                "#B0BEC5",
                "#B0BEC5",
                "#B0BEC5",
                "#B0BEC5",
                "#B0BEC5",
                "#B0BEC5",
                "#B0BEC5",
                "#B0BEC5",
                "#B0BEC5",
                "#B0BEC5"
               ]
              ]
             }
            ],
            "label": "Topic 12",
            "method": "update"
           },
           {
            "args": [
             {
              "marker.color": [
               [
                "#B0BEC5",
                "#B0BEC5",
                "#B0BEC5",
                "#B0BEC5",
                "#B0BEC5",
                "#B0BEC5",
                "#B0BEC5",
                "#B0BEC5",
                "#B0BEC5",
                "#B0BEC5",
                "#B0BEC5",
                "#B0BEC5",
                "#B0BEC5",
                "red",
                "#B0BEC5",
                "#B0BEC5",
                "#B0BEC5",
                "#B0BEC5",
                "#B0BEC5",
                "#B0BEC5",
                "#B0BEC5",
                "#B0BEC5",
                "#B0BEC5",
                "#B0BEC5",
                "#B0BEC5"
               ]
              ]
             }
            ],
            "label": "Topic 13",
            "method": "update"
           },
           {
            "args": [
             {
              "marker.color": [
               [
                "#B0BEC5",
                "#B0BEC5",
                "#B0BEC5",
                "#B0BEC5",
                "#B0BEC5",
                "#B0BEC5",
                "#B0BEC5",
                "#B0BEC5",
                "#B0BEC5",
                "#B0BEC5",
                "#B0BEC5",
                "#B0BEC5",
                "#B0BEC5",
                "#B0BEC5",
                "red",
                "#B0BEC5",
                "#B0BEC5",
                "#B0BEC5",
                "#B0BEC5",
                "#B0BEC5",
                "#B0BEC5",
                "#B0BEC5",
                "#B0BEC5",
                "#B0BEC5",
                "#B0BEC5"
               ]
              ]
             }
            ],
            "label": "Topic 14",
            "method": "update"
           },
           {
            "args": [
             {
              "marker.color": [
               [
                "#B0BEC5",
                "#B0BEC5",
                "#B0BEC5",
                "#B0BEC5",
                "#B0BEC5",
                "#B0BEC5",
                "#B0BEC5",
                "#B0BEC5",
                "#B0BEC5",
                "#B0BEC5",
                "#B0BEC5",
                "#B0BEC5",
                "#B0BEC5",
                "#B0BEC5",
                "#B0BEC5",
                "red",
                "#B0BEC5",
                "#B0BEC5",
                "#B0BEC5",
                "#B0BEC5",
                "#B0BEC5",
                "#B0BEC5",
                "#B0BEC5",
                "#B0BEC5",
                "#B0BEC5"
               ]
              ]
             }
            ],
            "label": "Topic 15",
            "method": "update"
           },
           {
            "args": [
             {
              "marker.color": [
               [
                "#B0BEC5",
                "#B0BEC5",
                "#B0BEC5",
                "#B0BEC5",
                "#B0BEC5",
                "#B0BEC5",
                "#B0BEC5",
                "#B0BEC5",
                "#B0BEC5",
                "#B0BEC5",
                "#B0BEC5",
                "#B0BEC5",
                "#B0BEC5",
                "#B0BEC5",
                "#B0BEC5",
                "#B0BEC5",
                "red",
                "#B0BEC5",
                "#B0BEC5",
                "#B0BEC5",
                "#B0BEC5",
                "#B0BEC5",
                "#B0BEC5",
                "#B0BEC5",
                "#B0BEC5"
               ]
              ]
             }
            ],
            "label": "Topic 16",
            "method": "update"
           },
           {
            "args": [
             {
              "marker.color": [
               [
                "#B0BEC5",
                "#B0BEC5",
                "#B0BEC5",
                "#B0BEC5",
                "#B0BEC5",
                "#B0BEC5",
                "#B0BEC5",
                "#B0BEC5",
                "#B0BEC5",
                "#B0BEC5",
                "#B0BEC5",
                "#B0BEC5",
                "#B0BEC5",
                "#B0BEC5",
                "#B0BEC5",
                "#B0BEC5",
                "#B0BEC5",
                "red",
                "#B0BEC5",
                "#B0BEC5",
                "#B0BEC5",
                "#B0BEC5",
                "#B0BEC5",
                "#B0BEC5",
                "#B0BEC5"
               ]
              ]
             }
            ],
            "label": "Topic 17",
            "method": "update"
           },
           {
            "args": [
             {
              "marker.color": [
               [
                "#B0BEC5",
                "#B0BEC5",
                "#B0BEC5",
                "#B0BEC5",
                "#B0BEC5",
                "#B0BEC5",
                "#B0BEC5",
                "#B0BEC5",
                "#B0BEC5",
                "#B0BEC5",
                "#B0BEC5",
                "#B0BEC5",
                "#B0BEC5",
                "#B0BEC5",
                "#B0BEC5",
                "#B0BEC5",
                "#B0BEC5",
                "#B0BEC5",
                "red",
                "#B0BEC5",
                "#B0BEC5",
                "#B0BEC5",
                "#B0BEC5",
                "#B0BEC5",
                "#B0BEC5"
               ]
              ]
             }
            ],
            "label": "Topic 18",
            "method": "update"
           },
           {
            "args": [
             {
              "marker.color": [
               [
                "#B0BEC5",
                "#B0BEC5",
                "#B0BEC5",
                "#B0BEC5",
                "#B0BEC5",
                "#B0BEC5",
                "#B0BEC5",
                "#B0BEC5",
                "#B0BEC5",
                "#B0BEC5",
                "#B0BEC5",
                "#B0BEC5",
                "#B0BEC5",
                "#B0BEC5",
                "#B0BEC5",
                "#B0BEC5",
                "#B0BEC5",
                "#B0BEC5",
                "#B0BEC5",
                "red",
                "#B0BEC5",
                "#B0BEC5",
                "#B0BEC5",
                "#B0BEC5",
                "#B0BEC5"
               ]
              ]
             }
            ],
            "label": "Topic 19",
            "method": "update"
           },
           {
            "args": [
             {
              "marker.color": [
               [
                "#B0BEC5",
                "#B0BEC5",
                "#B0BEC5",
                "#B0BEC5",
                "#B0BEC5",
                "#B0BEC5",
                "#B0BEC5",
                "#B0BEC5",
                "#B0BEC5",
                "#B0BEC5",
                "#B0BEC5",
                "#B0BEC5",
                "#B0BEC5",
                "#B0BEC5",
                "#B0BEC5",
                "#B0BEC5",
                "#B0BEC5",
                "#B0BEC5",
                "#B0BEC5",
                "#B0BEC5",
                "red",
                "#B0BEC5",
                "#B0BEC5",
                "#B0BEC5",
                "#B0BEC5"
               ]
              ]
             }
            ],
            "label": "Topic 20",
            "method": "update"
           },
           {
            "args": [
             {
              "marker.color": [
               [
                "#B0BEC5",
                "#B0BEC5",
                "#B0BEC5",
                "#B0BEC5",
                "#B0BEC5",
                "#B0BEC5",
                "#B0BEC5",
                "#B0BEC5",
                "#B0BEC5",
                "#B0BEC5",
                "#B0BEC5",
                "#B0BEC5",
                "#B0BEC5",
                "#B0BEC5",
                "#B0BEC5",
                "#B0BEC5",
                "#B0BEC5",
                "#B0BEC5",
                "#B0BEC5",
                "#B0BEC5",
                "#B0BEC5",
                "red",
                "#B0BEC5",
                "#B0BEC5",
                "#B0BEC5"
               ]
              ]
             }
            ],
            "label": "Topic 21",
            "method": "update"
           },
           {
            "args": [
             {
              "marker.color": [
               [
                "#B0BEC5",
                "#B0BEC5",
                "#B0BEC5",
                "#B0BEC5",
                "#B0BEC5",
                "#B0BEC5",
                "#B0BEC5",
                "#B0BEC5",
                "#B0BEC5",
                "#B0BEC5",
                "#B0BEC5",
                "#B0BEC5",
                "#B0BEC5",
                "#B0BEC5",
                "#B0BEC5",
                "#B0BEC5",
                "#B0BEC5",
                "#B0BEC5",
                "#B0BEC5",
                "#B0BEC5",
                "#B0BEC5",
                "#B0BEC5",
                "red",
                "#B0BEC5",
                "#B0BEC5"
               ]
              ]
             }
            ],
            "label": "Topic 22",
            "method": "update"
           },
           {
            "args": [
             {
              "marker.color": [
               [
                "#B0BEC5",
                "#B0BEC5",
                "#B0BEC5",
                "#B0BEC5",
                "#B0BEC5",
                "#B0BEC5",
                "#B0BEC5",
                "#B0BEC5",
                "#B0BEC5",
                "#B0BEC5",
                "#B0BEC5",
                "#B0BEC5",
                "#B0BEC5",
                "#B0BEC5",
                "#B0BEC5",
                "#B0BEC5",
                "#B0BEC5",
                "#B0BEC5",
                "#B0BEC5",
                "#B0BEC5",
                "#B0BEC5",
                "#B0BEC5",
                "#B0BEC5",
                "red",
                "#B0BEC5"
               ]
              ]
             }
            ],
            "label": "Topic 23",
            "method": "update"
           },
           {
            "args": [
             {
              "marker.color": [
               [
                "#B0BEC5",
                "#B0BEC5",
                "#B0BEC5",
                "#B0BEC5",
                "#B0BEC5",
                "#B0BEC5",
                "#B0BEC5",
                "#B0BEC5",
                "#B0BEC5",
                "#B0BEC5",
                "#B0BEC5",
                "#B0BEC5",
                "#B0BEC5",
                "#B0BEC5",
                "#B0BEC5",
                "#B0BEC5",
                "#B0BEC5",
                "#B0BEC5",
                "#B0BEC5",
                "#B0BEC5",
                "#B0BEC5",
                "#B0BEC5",
                "#B0BEC5",
                "#B0BEC5",
                "red"
               ]
              ]
             }
            ],
            "label": "Topic 24",
            "method": "update"
           }
          ]
         }
        ],
        "template": {
         "data": {
          "bar": [
           {
            "error_x": {
             "color": "rgb(36,36,36)"
            },
            "error_y": {
             "color": "rgb(36,36,36)"
            },
            "marker": {
             "line": {
              "color": "white",
              "width": 0.5
             },
             "pattern": {
              "fillmode": "overlay",
              "size": 10,
              "solidity": 0.2
             }
            },
            "type": "bar"
           }
          ],
          "barpolar": [
           {
            "marker": {
             "line": {
              "color": "white",
              "width": 0.5
             },
             "pattern": {
              "fillmode": "overlay",
              "size": 10,
              "solidity": 0.2
             }
            },
            "type": "barpolar"
           }
          ],
          "carpet": [
           {
            "aaxis": {
             "endlinecolor": "rgb(36,36,36)",
             "gridcolor": "white",
             "linecolor": "white",
             "minorgridcolor": "white",
             "startlinecolor": "rgb(36,36,36)"
            },
            "baxis": {
             "endlinecolor": "rgb(36,36,36)",
             "gridcolor": "white",
             "linecolor": "white",
             "minorgridcolor": "white",
             "startlinecolor": "rgb(36,36,36)"
            },
            "type": "carpet"
           }
          ],
          "choropleth": [
           {
            "colorbar": {
             "outlinewidth": 1,
             "tickcolor": "rgb(36,36,36)",
             "ticks": "outside"
            },
            "type": "choropleth"
           }
          ],
          "contour": [
           {
            "colorbar": {
             "outlinewidth": 1,
             "tickcolor": "rgb(36,36,36)",
             "ticks": "outside"
            },
            "colorscale": [
             [
              0,
              "#440154"
             ],
             [
              0.1111111111111111,
              "#482878"
             ],
             [
              0.2222222222222222,
              "#3e4989"
             ],
             [
              0.3333333333333333,
              "#31688e"
             ],
             [
              0.4444444444444444,
              "#26828e"
             ],
             [
              0.5555555555555556,
              "#1f9e89"
             ],
             [
              0.6666666666666666,
              "#35b779"
             ],
             [
              0.7777777777777778,
              "#6ece58"
             ],
             [
              0.8888888888888888,
              "#b5de2b"
             ],
             [
              1,
              "#fde725"
             ]
            ],
            "type": "contour"
           }
          ],
          "contourcarpet": [
           {
            "colorbar": {
             "outlinewidth": 1,
             "tickcolor": "rgb(36,36,36)",
             "ticks": "outside"
            },
            "type": "contourcarpet"
           }
          ],
          "heatmap": [
           {
            "colorbar": {
             "outlinewidth": 1,
             "tickcolor": "rgb(36,36,36)",
             "ticks": "outside"
            },
            "colorscale": [
             [
              0,
              "#440154"
             ],
             [
              0.1111111111111111,
              "#482878"
             ],
             [
              0.2222222222222222,
              "#3e4989"
             ],
             [
              0.3333333333333333,
              "#31688e"
             ],
             [
              0.4444444444444444,
              "#26828e"
             ],
             [
              0.5555555555555556,
              "#1f9e89"
             ],
             [
              0.6666666666666666,
              "#35b779"
             ],
             [
              0.7777777777777778,
              "#6ece58"
             ],
             [
              0.8888888888888888,
              "#b5de2b"
             ],
             [
              1,
              "#fde725"
             ]
            ],
            "type": "heatmap"
           }
          ],
          "heatmapgl": [
           {
            "colorbar": {
             "outlinewidth": 1,
             "tickcolor": "rgb(36,36,36)",
             "ticks": "outside"
            },
            "colorscale": [
             [
              0,
              "#440154"
             ],
             [
              0.1111111111111111,
              "#482878"
             ],
             [
              0.2222222222222222,
              "#3e4989"
             ],
             [
              0.3333333333333333,
              "#31688e"
             ],
             [
              0.4444444444444444,
              "#26828e"
             ],
             [
              0.5555555555555556,
              "#1f9e89"
             ],
             [
              0.6666666666666666,
              "#35b779"
             ],
             [
              0.7777777777777778,
              "#6ece58"
             ],
             [
              0.8888888888888888,
              "#b5de2b"
             ],
             [
              1,
              "#fde725"
             ]
            ],
            "type": "heatmapgl"
           }
          ],
          "histogram": [
           {
            "marker": {
             "line": {
              "color": "white",
              "width": 0.6
             }
            },
            "type": "histogram"
           }
          ],
          "histogram2d": [
           {
            "colorbar": {
             "outlinewidth": 1,
             "tickcolor": "rgb(36,36,36)",
             "ticks": "outside"
            },
            "colorscale": [
             [
              0,
              "#440154"
             ],
             [
              0.1111111111111111,
              "#482878"
             ],
             [
              0.2222222222222222,
              "#3e4989"
             ],
             [
              0.3333333333333333,
              "#31688e"
             ],
             [
              0.4444444444444444,
              "#26828e"
             ],
             [
              0.5555555555555556,
              "#1f9e89"
             ],
             [
              0.6666666666666666,
              "#35b779"
             ],
             [
              0.7777777777777778,
              "#6ece58"
             ],
             [
              0.8888888888888888,
              "#b5de2b"
             ],
             [
              1,
              "#fde725"
             ]
            ],
            "type": "histogram2d"
           }
          ],
          "histogram2dcontour": [
           {
            "colorbar": {
             "outlinewidth": 1,
             "tickcolor": "rgb(36,36,36)",
             "ticks": "outside"
            },
            "colorscale": [
             [
              0,
              "#440154"
             ],
             [
              0.1111111111111111,
              "#482878"
             ],
             [
              0.2222222222222222,
              "#3e4989"
             ],
             [
              0.3333333333333333,
              "#31688e"
             ],
             [
              0.4444444444444444,
              "#26828e"
             ],
             [
              0.5555555555555556,
              "#1f9e89"
             ],
             [
              0.6666666666666666,
              "#35b779"
             ],
             [
              0.7777777777777778,
              "#6ece58"
             ],
             [
              0.8888888888888888,
              "#b5de2b"
             ],
             [
              1,
              "#fde725"
             ]
            ],
            "type": "histogram2dcontour"
           }
          ],
          "mesh3d": [
           {
            "colorbar": {
             "outlinewidth": 1,
             "tickcolor": "rgb(36,36,36)",
             "ticks": "outside"
            },
            "type": "mesh3d"
           }
          ],
          "parcoords": [
           {
            "line": {
             "colorbar": {
              "outlinewidth": 1,
              "tickcolor": "rgb(36,36,36)",
              "ticks": "outside"
             }
            },
            "type": "parcoords"
           }
          ],
          "pie": [
           {
            "automargin": true,
            "type": "pie"
           }
          ],
          "scatter": [
           {
            "fillpattern": {
             "fillmode": "overlay",
             "size": 10,
             "solidity": 0.2
            },
            "type": "scatter"
           }
          ],
          "scatter3d": [
           {
            "line": {
             "colorbar": {
              "outlinewidth": 1,
              "tickcolor": "rgb(36,36,36)",
              "ticks": "outside"
             }
            },
            "marker": {
             "colorbar": {
              "outlinewidth": 1,
              "tickcolor": "rgb(36,36,36)",
              "ticks": "outside"
             }
            },
            "type": "scatter3d"
           }
          ],
          "scattercarpet": [
           {
            "marker": {
             "colorbar": {
              "outlinewidth": 1,
              "tickcolor": "rgb(36,36,36)",
              "ticks": "outside"
             }
            },
            "type": "scattercarpet"
           }
          ],
          "scattergeo": [
           {
            "marker": {
             "colorbar": {
              "outlinewidth": 1,
              "tickcolor": "rgb(36,36,36)",
              "ticks": "outside"
             }
            },
            "type": "scattergeo"
           }
          ],
          "scattergl": [
           {
            "marker": {
             "colorbar": {
              "outlinewidth": 1,
              "tickcolor": "rgb(36,36,36)",
              "ticks": "outside"
             }
            },
            "type": "scattergl"
           }
          ],
          "scattermapbox": [
           {
            "marker": {
             "colorbar": {
              "outlinewidth": 1,
              "tickcolor": "rgb(36,36,36)",
              "ticks": "outside"
             }
            },
            "type": "scattermapbox"
           }
          ],
          "scatterpolar": [
           {
            "marker": {
             "colorbar": {
              "outlinewidth": 1,
              "tickcolor": "rgb(36,36,36)",
              "ticks": "outside"
             }
            },
            "type": "scatterpolar"
           }
          ],
          "scatterpolargl": [
           {
            "marker": {
             "colorbar": {
              "outlinewidth": 1,
              "tickcolor": "rgb(36,36,36)",
              "ticks": "outside"
             }
            },
            "type": "scatterpolargl"
           }
          ],
          "scatterternary": [
           {
            "marker": {
             "colorbar": {
              "outlinewidth": 1,
              "tickcolor": "rgb(36,36,36)",
              "ticks": "outside"
             }
            },
            "type": "scatterternary"
           }
          ],
          "surface": [
           {
            "colorbar": {
             "outlinewidth": 1,
             "tickcolor": "rgb(36,36,36)",
             "ticks": "outside"
            },
            "colorscale": [
             [
              0,
              "#440154"
             ],
             [
              0.1111111111111111,
              "#482878"
             ],
             [
              0.2222222222222222,
              "#3e4989"
             ],
             [
              0.3333333333333333,
              "#31688e"
             ],
             [
              0.4444444444444444,
              "#26828e"
             ],
             [
              0.5555555555555556,
              "#1f9e89"
             ],
             [
              0.6666666666666666,
              "#35b779"
             ],
             [
              0.7777777777777778,
              "#6ece58"
             ],
             [
              0.8888888888888888,
              "#b5de2b"
             ],
             [
              1,
              "#fde725"
             ]
            ],
            "type": "surface"
           }
          ],
          "table": [
           {
            "cells": {
             "fill": {
              "color": "rgb(237,237,237)"
             },
             "line": {
              "color": "white"
             }
            },
            "header": {
             "fill": {
              "color": "rgb(217,217,217)"
             },
             "line": {
              "color": "white"
             }
            },
            "type": "table"
           }
          ]
         },
         "layout": {
          "annotationdefaults": {
           "arrowhead": 0,
           "arrowwidth": 1
          },
          "autotypenumbers": "strict",
          "coloraxis": {
           "colorbar": {
            "outlinewidth": 1,
            "tickcolor": "rgb(36,36,36)",
            "ticks": "outside"
           }
          },
          "colorscale": {
           "diverging": [
            [
             0,
             "rgb(103,0,31)"
            ],
            [
             0.1,
             "rgb(178,24,43)"
            ],
            [
             0.2,
             "rgb(214,96,77)"
            ],
            [
             0.3,
             "rgb(244,165,130)"
            ],
            [
             0.4,
             "rgb(253,219,199)"
            ],
            [
             0.5,
             "rgb(247,247,247)"
            ],
            [
             0.6,
             "rgb(209,229,240)"
            ],
            [
             0.7,
             "rgb(146,197,222)"
            ],
            [
             0.8,
             "rgb(67,147,195)"
            ],
            [
             0.9,
             "rgb(33,102,172)"
            ],
            [
             1,
             "rgb(5,48,97)"
            ]
           ],
           "sequential": [
            [
             0,
             "#440154"
            ],
            [
             0.1111111111111111,
             "#482878"
            ],
            [
             0.2222222222222222,
             "#3e4989"
            ],
            [
             0.3333333333333333,
             "#31688e"
            ],
            [
             0.4444444444444444,
             "#26828e"
            ],
            [
             0.5555555555555556,
             "#1f9e89"
            ],
            [
             0.6666666666666666,
             "#35b779"
            ],
            [
             0.7777777777777778,
             "#6ece58"
            ],
            [
             0.8888888888888888,
             "#b5de2b"
            ],
            [
             1,
             "#fde725"
            ]
           ],
           "sequentialminus": [
            [
             0,
             "#440154"
            ],
            [
             0.1111111111111111,
             "#482878"
            ],
            [
             0.2222222222222222,
             "#3e4989"
            ],
            [
             0.3333333333333333,
             "#31688e"
            ],
            [
             0.4444444444444444,
             "#26828e"
            ],
            [
             0.5555555555555556,
             "#1f9e89"
            ],
            [
             0.6666666666666666,
             "#35b779"
            ],
            [
             0.7777777777777778,
             "#6ece58"
            ],
            [
             0.8888888888888888,
             "#b5de2b"
            ],
            [
             1,
             "#fde725"
            ]
           ]
          },
          "colorway": [
           "#1F77B4",
           "#FF7F0E",
           "#2CA02C",
           "#D62728",
           "#9467BD",
           "#8C564B",
           "#E377C2",
           "#7F7F7F",
           "#BCBD22",
           "#17BECF"
          ],
          "font": {
           "color": "rgb(36,36,36)"
          },
          "geo": {
           "bgcolor": "white",
           "lakecolor": "white",
           "landcolor": "white",
           "showlakes": true,
           "showland": true,
           "subunitcolor": "white"
          },
          "hoverlabel": {
           "align": "left"
          },
          "hovermode": "closest",
          "mapbox": {
           "style": "light"
          },
          "paper_bgcolor": "white",
          "plot_bgcolor": "white",
          "polar": {
           "angularaxis": {
            "gridcolor": "rgb(232,232,232)",
            "linecolor": "rgb(36,36,36)",
            "showgrid": false,
            "showline": true,
            "ticks": "outside"
           },
           "bgcolor": "white",
           "radialaxis": {
            "gridcolor": "rgb(232,232,232)",
            "linecolor": "rgb(36,36,36)",
            "showgrid": false,
            "showline": true,
            "ticks": "outside"
           }
          },
          "scene": {
           "xaxis": {
            "backgroundcolor": "white",
            "gridcolor": "rgb(232,232,232)",
            "gridwidth": 2,
            "linecolor": "rgb(36,36,36)",
            "showbackground": true,
            "showgrid": false,
            "showline": true,
            "ticks": "outside",
            "zeroline": false,
            "zerolinecolor": "rgb(36,36,36)"
           },
           "yaxis": {
            "backgroundcolor": "white",
            "gridcolor": "rgb(232,232,232)",
            "gridwidth": 2,
            "linecolor": "rgb(36,36,36)",
            "showbackground": true,
            "showgrid": false,
            "showline": true,
            "ticks": "outside",
            "zeroline": false,
            "zerolinecolor": "rgb(36,36,36)"
           },
           "zaxis": {
            "backgroundcolor": "white",
            "gridcolor": "rgb(232,232,232)",
            "gridwidth": 2,
            "linecolor": "rgb(36,36,36)",
            "showbackground": true,
            "showgrid": false,
            "showline": true,
            "ticks": "outside",
            "zeroline": false,
            "zerolinecolor": "rgb(36,36,36)"
           }
          },
          "shapedefaults": {
           "fillcolor": "black",
           "line": {
            "width": 0
           },
           "opacity": 0.3
          },
          "ternary": {
           "aaxis": {
            "gridcolor": "rgb(232,232,232)",
            "linecolor": "rgb(36,36,36)",
            "showgrid": false,
            "showline": true,
            "ticks": "outside"
           },
           "baxis": {
            "gridcolor": "rgb(232,232,232)",
            "linecolor": "rgb(36,36,36)",
            "showgrid": false,
            "showline": true,
            "ticks": "outside"
           },
           "bgcolor": "white",
           "caxis": {
            "gridcolor": "rgb(232,232,232)",
            "linecolor": "rgb(36,36,36)",
            "showgrid": false,
            "showline": true,
            "ticks": "outside"
           }
          },
          "title": {
           "x": 0.05
          },
          "xaxis": {
           "automargin": true,
           "gridcolor": "rgb(232,232,232)",
           "linecolor": "rgb(36,36,36)",
           "showgrid": false,
           "showline": true,
           "ticks": "outside",
           "title": {
            "standoff": 15
           },
           "zeroline": false,
           "zerolinecolor": "rgb(36,36,36)"
          },
          "yaxis": {
           "automargin": true,
           "gridcolor": "rgb(232,232,232)",
           "linecolor": "rgb(36,36,36)",
           "showgrid": false,
           "showline": true,
           "ticks": "outside",
           "title": {
            "standoff": 15
           },
           "zeroline": false,
           "zerolinecolor": "rgb(36,36,36)"
          }
         }
        },
        "title": {
         "font": {
          "color": "Black",
          "size": 22
         },
         "text": "<b>Intertopic Distance Map</b>",
         "x": 0.5,
         "xanchor": "center",
         "y": 0.95,
         "yanchor": "top"
        },
        "width": 650,
        "xaxis": {
         "anchor": "y",
         "domain": [
          0,
          1
         ],
         "range": [
          2.2789124131202696,
          21.20627040863037
         ],
         "title": {
          "text": ""
         },
         "visible": false
        },
        "yaxis": {
         "anchor": "x",
         "domain": [
          0,
          1
         ],
         "range": [
          -0.8395520478487015,
          16.152254581451416
         ],
         "title": {
          "text": ""
         },
         "visible": false
        }
       }
      }
     },
     "metadata": {},
     "output_type": "display_data"
    }
   ],
   "source": [
    "topic_model.visualize_topics()"
   ]
  },
  {
   "cell_type": "code",
   "execution_count": 15,
   "metadata": {},
   "outputs": [
    {
     "data": {
      "text/html": [
       "<div>\n",
       "<style scoped>\n",
       "    .dataframe tbody tr th:only-of-type {\n",
       "        vertical-align: middle;\n",
       "    }\n",
       "\n",
       "    .dataframe tbody tr th {\n",
       "        vertical-align: top;\n",
       "    }\n",
       "\n",
       "    .dataframe thead th {\n",
       "        text-align: right;\n",
       "    }\n",
       "</style>\n",
       "<table border=\"1\" class=\"dataframe\">\n",
       "  <thead>\n",
       "    <tr style=\"text-align: right;\">\n",
       "      <th></th>\n",
       "      <th>Topic</th>\n",
       "      <th>Count</th>\n",
       "      <th>Name</th>\n",
       "      <th>CustomName</th>\n",
       "      <th>Representation</th>\n",
       "      <th>Representative_Docs</th>\n",
       "    </tr>\n",
       "  </thead>\n",
       "  <tbody>\n",
       "    <tr>\n",
       "      <th>0</th>\n",
       "      <td>-1</td>\n",
       "      <td>85</td>\n",
       "      <td>-1_the_of_be_to</td>\n",
       "      <td>-1, the, of, be, to, in</td>\n",
       "      <td>[the, of, be, to, in, is, and, data, for, can]</td>\n",
       "      <td>[At present, the Environmental Protection Plan...</td>\n",
       "    </tr>\n",
       "    <tr>\n",
       "      <th>1</th>\n",
       "      <td>0</td>\n",
       "      <td>139</td>\n",
       "      <td>0_indigenous_the_of_and</td>\n",
       "      <td>0, indigenous, the, of, and, to</td>\n",
       "      <td>[indigenous, the, of, and, to, in, pipeline, m...</td>\n",
       "      <td>[Involvement of Indigenous peoples in pipeline...</td>\n",
       "    </tr>\n",
       "    <tr>\n",
       "      <th>2</th>\n",
       "      <td>1</td>\n",
       "      <td>120</td>\n",
       "      <td>1_to_nations_and_the</td>\n",
       "      <td>1, to, nations, and, the, rights</td>\n",
       "      <td>[to, nations, and, the, rights, or, treaty, na...</td>\n",
       "      <td>[Currently, there are no explicit requirements...</td>\n",
       "    </tr>\n",
       "    <tr>\n",
       "      <th>3</th>\n",
       "      <td>2</td>\n",
       "      <td>93</td>\n",
       "      <td>2_the_indigenous_and_of</td>\n",
       "      <td>2, the, indigenous, and, of, to</td>\n",
       "      <td>[the, indigenous, and, of, to, peoples, reconc...</td>\n",
       "      <td>[As an overarching comment on the Review proce...</td>\n",
       "    </tr>\n",
       "    <tr>\n",
       "      <th>4</th>\n",
       "      <td>3</td>\n",
       "      <td>78</td>\n",
       "      <td>3_emergency_response_and_the</td>\n",
       "      <td>3, emergency, response, and, the, management</td>\n",
       "      <td>[emergency, response, and, the, management, to...</td>\n",
       "      <td>[As noted in the Discussion Paper (paraphrased...</td>\n",
       "    </tr>\n",
       "    <tr>\n",
       "      <th>5</th>\n",
       "      <td>4</td>\n",
       "      <td>84</td>\n",
       "      <td>4_heritage_resources_and_to</td>\n",
       "      <td>4, heritage, resources, and, to, of</td>\n",
       "      <td>[heritage, resources, and, to, of, the, sites,...</td>\n",
       "      <td>[In practice, companies are subject to applica...</td>\n",
       "    </tr>\n",
       "    <tr>\n",
       "      <th>6</th>\n",
       "      <td>5</td>\n",
       "      <td>80</td>\n",
       "      <td>5_and_of_to_the</td>\n",
       "      <td>5, and, of, to, the, women</td>\n",
       "      <td>[and, of, to, the, women, in, gba, plus, for, ...</td>\n",
       "      <td>[Systems and structures in Canada are fraught ...</td>\n",
       "    </tr>\n",
       "    <tr>\n",
       "      <th>7</th>\n",
       "      <td>6</td>\n",
       "      <td>99</td>\n",
       "      <td>6_compliance_the_cer_and</td>\n",
       "      <td>6, compliance, the, cer, and, to</td>\n",
       "      <td>[compliance, the, cer, and, to, of, industry, ...</td>\n",
       "      <td>[Olitech’s recommendations with respect to com...</td>\n",
       "    </tr>\n",
       "    <tr>\n",
       "      <th>8</th>\n",
       "      <td>7</td>\n",
       "      <td>93</td>\n",
       "      <td>7_safety_management_requirements_system</td>\n",
       "      <td>7, safety, management, requirements, system, p...</td>\n",
       "      <td>[safety, management, requirements, system, pro...</td>\n",
       "      <td>[The OPR does not specifically include process...</td>\n",
       "    </tr>\n",
       "    <tr>\n",
       "      <th>9</th>\n",
       "      <td>8</td>\n",
       "      <td>59</td>\n",
       "      <td>8_knowledge_indigenous_the_of</td>\n",
       "      <td>8, knowledge, indigenous, the, of, and</td>\n",
       "      <td>[knowledge, indigenous, the, of, and, be, in, ...</td>\n",
       "      <td>[It is our understanding that the federal gove...</td>\n",
       "    </tr>\n",
       "    <tr>\n",
       "      <th>10</th>\n",
       "      <td>9</td>\n",
       "      <td>38</td>\n",
       "      <td>9_contaminated_contamination_remediation_site</td>\n",
       "      <td>9, contaminated, contamination, remediation, s...</td>\n",
       "      <td>[contaminated, contamination, remediation, sit...</td>\n",
       "      <td>[Contaminated site management should also incl...</td>\n",
       "    </tr>\n",
       "    <tr>\n",
       "      <th>11</th>\n",
       "      <td>10</td>\n",
       "      <td>51</td>\n",
       "      <td>10_engagement_community_the_they</td>\n",
       "      <td>10, engagement, community, the, they, what</td>\n",
       "      <td>[engagement, community, the, they, what, to, c...</td>\n",
       "      <td>[•    Accessible communication: Regional RCC r...</td>\n",
       "    </tr>\n",
       "    <tr>\n",
       "      <th>12</th>\n",
       "      <td>11</td>\n",
       "      <td>48</td>\n",
       "      <td>11_the_and_of_to</td>\n",
       "      <td>11, the, and, of, to, in</td>\n",
       "      <td>[the, and, of, to, in, is, pipelines, pipeline...</td>\n",
       "      <td>[Canadian Natural is the operator of a few CER...</td>\n",
       "    </tr>\n",
       "    <tr>\n",
       "      <th>13</th>\n",
       "      <td>12</td>\n",
       "      <td>61</td>\n",
       "      <td>12_environmental_protection_and_the</td>\n",
       "      <td>12, environmental, protection, and, the, to</td>\n",
       "      <td>[environmental, protection, and, the, to, prog...</td>\n",
       "      <td>[Indigenous Communities should be involved in ...</td>\n",
       "    </tr>\n",
       "    <tr>\n",
       "      <th>14</th>\n",
       "      <td>13</td>\n",
       "      <td>23</td>\n",
       "      <td>13_mno_mtis_regions_be</td>\n",
       "      <td>13, mno, mtis, regions, be, companies</td>\n",
       "      <td>[mno, mtis, regions, be, companies, and, to, c...</td>\n",
       "      <td>[• Companies must develop protocols for chance...</td>\n",
       "    </tr>\n",
       "    <tr>\n",
       "      <th>15</th>\n",
       "      <td>14</td>\n",
       "      <td>24</td>\n",
       "      <td>14_safety_to_should_indigenous</td>\n",
       "      <td>14, safety, to, should, indigenous, and</td>\n",
       "      <td>[safety, to, should, indigenous, and, serious,...</td>\n",
       "      <td>[Standard requirements that must be present in...</td>\n",
       "    </tr>\n",
       "    <tr>\n",
       "      <th>16</th>\n",
       "      <td>15</td>\n",
       "      <td>23</td>\n",
       "      <td>15_mtis_metis_the_would</td>\n",
       "      <td>15, mtis, metis, the, would, and</td>\n",
       "      <td>[mtis, metis, the, would, and, to, be, compani...</td>\n",
       "      <td>[•\\tMétis should have access to the entire pip...</td>\n",
       "    </tr>\n",
       "    <tr>\n",
       "      <th>17</th>\n",
       "      <td>16</td>\n",
       "      <td>36</td>\n",
       "      <td>16_the_of_to_is</td>\n",
       "      <td>16, the, of, to, is, that</td>\n",
       "      <td>[the, of, to, is, that, pipeline, in, for, and...</td>\n",
       "      <td>[Improvement opportunities:\\nSimplification of...</td>\n",
       "    </tr>\n",
       "    <tr>\n",
       "      <th>18</th>\n",
       "      <td>17</td>\n",
       "      <td>27</td>\n",
       "      <td>17_contractor_contractors_management_the</td>\n",
       "      <td>17, contractor, contractors, management, the, to</td>\n",
       "      <td>[contractor, contractors, management, the, to,...</td>\n",
       "      <td>[Both CCPS and Energy Safety Canada provide a ...</td>\n",
       "    </tr>\n",
       "    <tr>\n",
       "      <th>19</th>\n",
       "      <td>18</td>\n",
       "      <td>31</td>\n",
       "      <td>18_to_of_the_and</td>\n",
       "      <td>18, to, of, the, and, in</td>\n",
       "      <td>[to, of, the, and, in, energy, that, for, cer,...</td>\n",
       "      <td>[The purpose of the Onshore Pipeline Regulatio...</td>\n",
       "    </tr>\n",
       "    <tr>\n",
       "      <th>20</th>\n",
       "      <td>19</td>\n",
       "      <td>58</td>\n",
       "      <td>19_communication_engagement_and_to</td>\n",
       "      <td>19, communication, engagement, and, to, the</td>\n",
       "      <td>[communication, engagement, and, to, the, with...</td>\n",
       "      <td>[Transparent, respectful communication should ...</td>\n",
       "    </tr>\n",
       "    <tr>\n",
       "      <th>21</th>\n",
       "      <td>20</td>\n",
       "      <td>25</td>\n",
       "      <td>20_land_communities_area_knowledge</td>\n",
       "      <td>20, land, communities, area, knowledge, we</td>\n",
       "      <td>[land, communities, area, knowledge, we, be, t...</td>\n",
       "      <td>[-Knowledge and awareness to workers and contr...</td>\n",
       "    </tr>\n",
       "    <tr>\n",
       "      <th>22</th>\n",
       "      <td>21</td>\n",
       "      <td>31</td>\n",
       "      <td>21_pipeline_the_to_that</td>\n",
       "      <td>21, pipeline, the, to, that, and</td>\n",
       "      <td>[pipeline, the, to, that, and, change, of, sta...</td>\n",
       "      <td>[Change in pipeline use and status: The OPR sh...</td>\n",
       "    </tr>\n",
       "    <tr>\n",
       "      <th>23</th>\n",
       "      <td>22</td>\n",
       "      <td>21</td>\n",
       "      <td>22_risk_bmps_and_environment</td>\n",
       "      <td>22, risk, bmps, and, environment, the</td>\n",
       "      <td>[risk, bmps, and, environment, the, indigenous...</td>\n",
       "      <td>[Enhanced requirements for management systems ...</td>\n",
       "    </tr>\n",
       "    <tr>\n",
       "      <th>24</th>\n",
       "      <td>23</td>\n",
       "      <td>22</td>\n",
       "      <td>23_contractors_and_their_indigenous</td>\n",
       "      <td>23, contractors, and, their, indigenous, or</td>\n",
       "      <td>[contractors, and, their, indigenous, or, arti...</td>\n",
       "      <td>[Nations should receive notification on which ...</td>\n",
       "    </tr>\n",
       "    <tr>\n",
       "      <th>25</th>\n",
       "      <td>24</td>\n",
       "      <td>30</td>\n",
       "      <td>24_quality_assurance_the_and</td>\n",
       "      <td>24, quality, assurance, the, and, requirements</td>\n",
       "      <td>[quality, assurance, the, and, requirements, s...</td>\n",
       "      <td>[Clauses 9, 14, 15, 16, 17, 23, 25, 40 and 41 ...</td>\n",
       "    </tr>\n",
       "  </tbody>\n",
       "</table>\n",
       "</div>"
      ],
      "text/plain": [
       "    Topic  Count                                           Name  \\\n",
       "0      -1     85                                -1_the_of_be_to   \n",
       "1       0    139                        0_indigenous_the_of_and   \n",
       "2       1    120                           1_to_nations_and_the   \n",
       "3       2     93                        2_the_indigenous_and_of   \n",
       "4       3     78                   3_emergency_response_and_the   \n",
       "5       4     84                    4_heritage_resources_and_to   \n",
       "6       5     80                                5_and_of_to_the   \n",
       "7       6     99                       6_compliance_the_cer_and   \n",
       "8       7     93        7_safety_management_requirements_system   \n",
       "9       8     59                  8_knowledge_indigenous_the_of   \n",
       "10      9     38  9_contaminated_contamination_remediation_site   \n",
       "11     10     51               10_engagement_community_the_they   \n",
       "12     11     48                               11_the_and_of_to   \n",
       "13     12     61            12_environmental_protection_and_the   \n",
       "14     13     23                         13_mno_mtis_regions_be   \n",
       "15     14     24                 14_safety_to_should_indigenous   \n",
       "16     15     23                        15_mtis_metis_the_would   \n",
       "17     16     36                                16_the_of_to_is   \n",
       "18     17     27       17_contractor_contractors_management_the   \n",
       "19     18     31                               18_to_of_the_and   \n",
       "20     19     58             19_communication_engagement_and_to   \n",
       "21     20     25             20_land_communities_area_knowledge   \n",
       "22     21     31                        21_pipeline_the_to_that   \n",
       "23     22     21                   22_risk_bmps_and_environment   \n",
       "24     23     22            23_contractors_and_their_indigenous   \n",
       "25     24     30                   24_quality_assurance_the_and   \n",
       "\n",
       "                                           CustomName  \\\n",
       "0                             -1, the, of, be, to, in   \n",
       "1                     0, indigenous, the, of, and, to   \n",
       "2                    1, to, nations, and, the, rights   \n",
       "3                     2, the, indigenous, and, of, to   \n",
       "4        3, emergency, response, and, the, management   \n",
       "5                 4, heritage, resources, and, to, of   \n",
       "6                          5, and, of, to, the, women   \n",
       "7                    6, compliance, the, cer, and, to   \n",
       "8   7, safety, management, requirements, system, p...   \n",
       "9              8, knowledge, indigenous, the, of, and   \n",
       "10  9, contaminated, contamination, remediation, s...   \n",
       "11         10, engagement, community, the, they, what   \n",
       "12                           11, the, and, of, to, in   \n",
       "13        12, environmental, protection, and, the, to   \n",
       "14              13, mno, mtis, regions, be, companies   \n",
       "15            14, safety, to, should, indigenous, and   \n",
       "16                   15, mtis, metis, the, would, and   \n",
       "17                          16, the, of, to, is, that   \n",
       "18   17, contractor, contractors, management, the, to   \n",
       "19                           18, to, of, the, and, in   \n",
       "20        19, communication, engagement, and, to, the   \n",
       "21         20, land, communities, area, knowledge, we   \n",
       "22                   21, pipeline, the, to, that, and   \n",
       "23              22, risk, bmps, and, environment, the   \n",
       "24        23, contractors, and, their, indigenous, or   \n",
       "25     24, quality, assurance, the, and, requirements   \n",
       "\n",
       "                                       Representation  \\\n",
       "0      [the, of, be, to, in, is, and, data, for, can]   \n",
       "1   [indigenous, the, of, and, to, in, pipeline, m...   \n",
       "2   [to, nations, and, the, rights, or, treaty, na...   \n",
       "3   [the, indigenous, and, of, to, peoples, reconc...   \n",
       "4   [emergency, response, and, the, management, to...   \n",
       "5   [heritage, resources, and, to, of, the, sites,...   \n",
       "6   [and, of, to, the, women, in, gba, plus, for, ...   \n",
       "7   [compliance, the, cer, and, to, of, industry, ...   \n",
       "8   [safety, management, requirements, system, pro...   \n",
       "9   [knowledge, indigenous, the, of, and, be, in, ...   \n",
       "10  [contaminated, contamination, remediation, sit...   \n",
       "11  [engagement, community, the, they, what, to, c...   \n",
       "12  [the, and, of, to, in, is, pipelines, pipeline...   \n",
       "13  [environmental, protection, and, the, to, prog...   \n",
       "14  [mno, mtis, regions, be, companies, and, to, c...   \n",
       "15  [safety, to, should, indigenous, and, serious,...   \n",
       "16  [mtis, metis, the, would, and, to, be, compani...   \n",
       "17  [the, of, to, is, that, pipeline, in, for, and...   \n",
       "18  [contractor, contractors, management, the, to,...   \n",
       "19  [to, of, the, and, in, energy, that, for, cer,...   \n",
       "20  [communication, engagement, and, to, the, with...   \n",
       "21  [land, communities, area, knowledge, we, be, t...   \n",
       "22  [pipeline, the, to, that, and, change, of, sta...   \n",
       "23  [risk, bmps, and, environment, the, indigenous...   \n",
       "24  [contractors, and, their, indigenous, or, arti...   \n",
       "25  [quality, assurance, the, and, requirements, s...   \n",
       "\n",
       "                                  Representative_Docs  \n",
       "0   [At present, the Environmental Protection Plan...  \n",
       "1   [Involvement of Indigenous peoples in pipeline...  \n",
       "2   [Currently, there are no explicit requirements...  \n",
       "3   [As an overarching comment on the Review proce...  \n",
       "4   [As noted in the Discussion Paper (paraphrased...  \n",
       "5   [In practice, companies are subject to applica...  \n",
       "6   [Systems and structures in Canada are fraught ...  \n",
       "7   [Olitech’s recommendations with respect to com...  \n",
       "8   [The OPR does not specifically include process...  \n",
       "9   [It is our understanding that the federal gove...  \n",
       "10  [Contaminated site management should also incl...  \n",
       "11  [•    Accessible communication: Regional RCC r...  \n",
       "12  [Canadian Natural is the operator of a few CER...  \n",
       "13  [Indigenous Communities should be involved in ...  \n",
       "14  [• Companies must develop protocols for chance...  \n",
       "15  [Standard requirements that must be present in...  \n",
       "16  [•\\tMétis should have access to the entire pip...  \n",
       "17  [Improvement opportunities:\\nSimplification of...  \n",
       "18  [Both CCPS and Energy Safety Canada provide a ...  \n",
       "19  [The purpose of the Onshore Pipeline Regulatio...  \n",
       "20  [Transparent, respectful communication should ...  \n",
       "21  [-Knowledge and awareness to workers and contr...  \n",
       "22  [Change in pipeline use and status: The OPR sh...  \n",
       "23  [Enhanced requirements for management systems ...  \n",
       "24  [Nations should receive notification on which ...  \n",
       "25  [Clauses 9, 14, 15, 16, 17, 23, 25, 40 and 41 ...  "
      ]
     },
     "execution_count": 15,
     "metadata": {},
     "output_type": "execute_result"
    }
   ],
   "source": [
    "topic_model.get_topic_info()"
   ]
  },
  {
   "cell_type": "code",
   "execution_count": 16,
   "metadata": {},
   "outputs": [
    {
     "data": {
      "application/vnd.plotly.v1+json": {
       "config": {
        "plotlyServerURL": "https://plot.ly"
       },
       "data": [
        {
         "coloraxis": "coloraxis",
         "hovertemplate": "x: %{x}<br>y: %{y}<br>Similarity Score: %{z}<extra></extra>",
         "name": "0",
         "type": "heatmap",
         "x": [
          "0_indigenous_the_of",
          "1_to_nations_and",
          "2_the_indigenous_and",
          "3_emergency_response_and",
          "4_heritage_resources_and",
          "5_and_of_to",
          "6_compliance_the_cer",
          "7_safety_management_require...",
          "8_knowledge_indigenous_the",
          "9_contaminated_contaminatio...",
          "10_engagement_community_the",
          "11_the_and_of",
          "12_environmental_protection...",
          "13_mno_mtis_regions",
          "14_safety_to_should",
          "15_mtis_metis_the",
          "16_the_of_to",
          "17_contractor_contractors_m...",
          "18_to_of_the",
          "19_communication_engagement...",
          "20_land_communities_area",
          "21_pipeline_the_to",
          "22_risk_bmps_and",
          "23_contractors_and_their",
          "24_quality_assurance_the"
         ],
         "xaxis": "x",
         "y": [
          "0_indigenous_the_of",
          "1_to_nations_and",
          "2_the_indigenous_and",
          "3_emergency_response_and",
          "4_heritage_resources_and",
          "5_and_of_to",
          "6_compliance_the_cer",
          "7_safety_management_require...",
          "8_knowledge_indigenous_the",
          "9_contaminated_contaminatio...",
          "10_engagement_community_the",
          "11_the_and_of",
          "12_environmental_protection...",
          "13_mno_mtis_regions",
          "14_safety_to_should",
          "15_mtis_metis_the",
          "16_the_of_to",
          "17_contractor_contractors_m...",
          "18_to_of_the",
          "19_communication_engagement...",
          "20_land_communities_area",
          "21_pipeline_the_to",
          "22_risk_bmps_and",
          "23_contractors_and_their",
          "24_quality_assurance_the"
         ],
         "yaxis": "y",
         "z": [
          [
           1,
           0.8948524106758664,
           0.9431995407567637,
           0.902161118780173,
           0.8577420765604946,
           0.9426327497050606,
           0.9090947145413549,
           0.8318819437565574,
           0.9094094979501708,
           0.7612037206726074,
           0.8580777445463266,
           0.9470846844032452,
           0.8654274318247046,
           0.7757568594612436,
           0.8402058054734332,
           0.8082361651127726,
           0.9399228808984075,
           0.7501259215070679,
           0.9365027365136648,
           0.8904149112186969,
           0.8421940926511524,
           0.9320009205723344,
           0.8832673792948833,
           0.8567110857037958,
           0.775572687663539
          ],
          [
           0.8948524106758664,
           1,
           0.9169232442844304,
           0.8607987064440356,
           0.8620100529368244,
           0.8900025812681469,
           0.8683430788690081,
           0.8007303005300295,
           0.8692512670692043,
           0.7187819681846658,
           0.8369166044130181,
           0.8632584769512751,
           0.8354753228200329,
           0.7915283734369802,
           0.8731531949833635,
           0.7748320423672868,
           0.8661478249406235,
           0.7179066661135873,
           0.8779140547457038,
           0.8645993742124898,
           0.8411950433037307,
           0.8798143463400168,
           0.8456984092229828,
           0.8805655199787153,
           0.7324833040059375
          ],
          [
           0.9431995407567637,
           0.9169232442844304,
           0.9999999999999991,
           0.8859125496092073,
           0.8881046659401318,
           0.9329301401157745,
           0.8938128828802243,
           0.815020199892285,
           0.909075742751927,
           0.7550427347534924,
           0.8745316608203907,
           0.9081255444338974,
           0.8552136390583316,
           0.7778169982847757,
           0.8356459476283842,
           0.8047713938652254,
           0.9189553240312649,
           0.733798203981151,
           0.9238484287591429,
           0.8782761110942235,
           0.8570111354379597,
           0.901051759096877,
           0.8929963152777337,
           0.8858636709491692,
           0.7655932164770407
          ],
          [
           0.902161118780173,
           0.8607987064440356,
           0.8859125496092073,
           0.9999999999999997,
           0.8073015293014751,
           0.8823872399288452,
           0.8619503174622976,
           0.8504041026054354,
           0.8571659522130777,
           0.7833891757942163,
           0.8415393565841764,
           0.8622225434807788,
           0.8514316894241194,
           0.8056084164098403,
           0.852933773724572,
           0.8005763702705695,
           0.8729437844168171,
           0.7388283656111796,
           0.8840798942533453,
           0.8589307701816908,
           0.8256288466031385,
           0.8707985560919866,
           0.8625648307964731,
           0.8244973971362929,
           0.7688493320006481
          ],
          [
           0.8577420765604946,
           0.8620100529368244,
           0.8881046659401318,
           0.8073015293014751,
           0.9999999999999997,
           0.8532477197029235,
           0.8275514611775856,
           0.7697089325739245,
           0.8672248915619523,
           0.7369039117178862,
           0.7928888742819287,
           0.8054735497349047,
           0.818900075199944,
           0.7633803216760722,
           0.8009181822794311,
           0.7743856234246573,
           0.8100593892949952,
           0.7000175913035093,
           0.8185746457895381,
           0.7884262260837422,
           0.8487300484181398,
           0.7945329635553962,
           0.8607066797593474,
           0.8369841267357215,
           0.7463371332565244
          ],
          [
           0.9426327497050606,
           0.8900025812681469,
           0.9329301401157745,
           0.8823872399288452,
           0.8532477197029235,
           1.0000000000000007,
           0.908765122714485,
           0.8046845274506255,
           0.8726112337100964,
           0.7398263472630027,
           0.8255134722394033,
           0.9251391708162604,
           0.8551834272075228,
           0.7791590424975543,
           0.8212903363356969,
           0.7927204178469482,
           0.9317696707851664,
           0.7121587450436275,
           0.9477582941449653,
           0.8762669874901776,
           0.8136762729614221,
           0.9039615841303414,
           0.891156840916776,
           0.8601676076585445,
           0.7655886062334138
          ],
          [
           0.9090947145413549,
           0.8683430788690081,
           0.8938128828802243,
           0.8619503174622976,
           0.8275514611775856,
           0.908765122714485,
           0.9999999999999997,
           0.8723405115747429,
           0.8530803744297939,
           0.7710627846427864,
           0.8373293474586827,
           0.9060959440481661,
           0.8729419502776774,
           0.7648998486465561,
           0.8266078468087632,
           0.778505931555619,
           0.9131565502066734,
           0.7878065810026342,
           0.9308908247618606,
           0.8816575019426796,
           0.8182915970827114,
           0.885366235895549,
           0.8629396910045037,
           0.843089227547859,
           0.8284073798858363
          ],
          [
           0.8318819437565574,
           0.8007303005300295,
           0.815020199892285,
           0.8504041026054354,
           0.7697089325739245,
           0.8046845274506255,
           0.8723405115747429,
           1,
           0.8087880626525452,
           0.7716511540489388,
           0.7842508138313324,
           0.8184019056620375,
           0.8556345483617007,
           0.7463398922677416,
           0.8521448727522911,
           0.7629527446958906,
           0.8180992963627627,
           0.8127448706785136,
           0.8272282207559386,
           0.8187840196301752,
           0.7900951020747335,
           0.8184585362241217,
           0.8292494526046724,
           0.7672895098694301,
           0.8474537831054445
          ],
          [
           0.9094094979501708,
           0.8692512670692043,
           0.909075742751927,
           0.8571659522130777,
           0.8672248915619523,
           0.8726112337100964,
           0.8530803744297939,
           0.8087880626525452,
           0.9999999999999998,
           0.7425458777112166,
           0.8397986068897947,
           0.8620033790746875,
           0.8356106845647364,
           0.7573038249090878,
           0.8432887254955601,
           0.7862700003100589,
           0.8750197330122812,
           0.7149308757252495,
           0.8787278420620304,
           0.8615351469059034,
           0.8816545432363457,
           0.8645978531488078,
           0.8698595197737978,
           0.8357056444908896,
           0.7774736315336525
          ],
          [
           0.7612037206726074,
           0.7187819681846658,
           0.7550427347534924,
           0.7833891757942163,
           0.7369039117178862,
           0.7398263472630027,
           0.7710627846427864,
           0.7716511540489388,
           0.7425458777112166,
           1,
           0.7173093003994033,
           0.7353426365190452,
           0.8190379446656111,
           0.6796973958515021,
           0.7404562114890609,
           0.6700530079394408,
           0.7439787726441361,
           0.6395316707514666,
           0.7452371211828055,
           0.7147820420513002,
           0.7448210217427429,
           0.7427525220075442,
           0.7770783138375844,
           0.6893819387157417,
           0.7088165128268271
          ],
          [
           0.8580777445463266,
           0.8369166044130181,
           0.8745316608203907,
           0.8415393565841764,
           0.7928888742819287,
           0.8255134722394033,
           0.8373293474586827,
           0.7842508138313324,
           0.8397986068897947,
           0.7173093003994033,
           1,
           0.8181412777532713,
           0.8167176200532857,
           0.7511348166216878,
           0.7969317786279497,
           0.7711696668325827,
           0.8339983635957062,
           0.7030004081634418,
           0.8371567992020046,
           0.9296769180645947,
           0.8740267164680665,
           0.8349308391604443,
           0.8274280728073238,
           0.7955535704152629,
           0.7242395554392556
          ],
          [
           0.9470846844032452,
           0.8632584769512751,
           0.9081255444338974,
           0.8622225434807788,
           0.8054735497349047,
           0.9251391708162604,
           0.9060959440481661,
           0.8184019056620375,
           0.8620033790746875,
           0.7353426365190452,
           0.8181412777532713,
           0.9999999999999996,
           0.8405779261489201,
           0.7506106649077947,
           0.7860997586251002,
           0.7738275608085026,
           0.9842523651762853,
           0.7368128898683167,
           0.9591909914308148,
           0.8719644083796485,
           0.8037309993969481,
           0.9602843844208844,
           0.85889473385803,
           0.830937990116383,
           0.7680052184848121
          ],
          [
           0.8654274318247046,
           0.8354753228200329,
           0.8552136390583316,
           0.8514316894241194,
           0.818900075199944,
           0.8551834272075228,
           0.8729419502776774,
           0.8556345483617007,
           0.8356106845647364,
           0.8190379446656111,
           0.8167176200532857,
           0.8405779261489201,
           1.0000000000000004,
           0.7368072210510166,
           0.8565051388925986,
           0.734351508513474,
           0.8525609106768601,
           0.746161391568658,
           0.8708796018386974,
           0.8435683818769637,
           0.8210163000141977,
           0.8425387242360067,
           0.8987122127663889,
           0.7916375205555468,
           0.7972026565798765
          ],
          [
           0.7757568594612436,
           0.7915283734369802,
           0.7778169982847757,
           0.8056084164098403,
           0.7633803216760722,
           0.7791590424975543,
           0.7648998486465561,
           0.7463398922677416,
           0.7573038249090878,
           0.6796973958515021,
           0.7511348166216878,
           0.7506106649077947,
           0.7368072210510166,
           1.0000000000000004,
           0.7335561921267361,
           0.8521747389609954,
           0.7554259115888147,
           0.6949666111082935,
           0.7596073476132057,
           0.767470866440713,
           0.785788309361031,
           0.7624272207691476,
           0.7728334222474431,
           0.778201463475275,
           0.6775148838859122
          ],
          [
           0.8402058054734332,
           0.8731531949833635,
           0.8356459476283842,
           0.852933773724572,
           0.8009181822794311,
           0.8212903363356969,
           0.8266078468087632,
           0.8521448727522911,
           0.8432887254955601,
           0.7404562114890609,
           0.7969317786279497,
           0.7860997586251002,
           0.8565051388925986,
           0.7335561921267361,
           1.0000000000000004,
           0.7427452659716008,
           0.8065757708409051,
           0.6988142006263445,
           0.8118086579374468,
           0.8169638680613825,
           0.7922005158610441,
           0.8080377554143736,
           0.8552634386749394,
           0.7996704495925263,
           0.7552510665615424
          ],
          [
           0.8082361651127726,
           0.7748320423672868,
           0.8047713938652254,
           0.8005763702705695,
           0.7743856234246573,
           0.7927204178469482,
           0.778505931555619,
           0.7629527446958906,
           0.7862700003100589,
           0.6700530079394408,
           0.7711696668325827,
           0.7738275608085026,
           0.734351508513474,
           0.8521747389609954,
           0.7427452659716008,
           1.0000000000000002,
           0.7811287786230618,
           0.7141337485827636,
           0.7700588506193258,
           0.7831579292348128,
           0.7898133360401729,
           0.7817954633245674,
           0.7905297420367625,
           0.7868315714589611,
           0.696077422590015
          ],
          [
           0.9399228808984075,
           0.8661478249406235,
           0.9189553240312649,
           0.8729437844168171,
           0.8100593892949952,
           0.9317696707851664,
           0.9131565502066734,
           0.8180992963627627,
           0.8750197330122812,
           0.7439787726441361,
           0.8339983635957062,
           0.9842523651762853,
           0.8525609106768601,
           0.7554259115888147,
           0.8065757708409051,
           0.7811287786230618,
           0.9999999999999993,
           0.729567713521265,
           0.9745754764483519,
           0.8870730738555093,
           0.8145543452111206,
           0.9599601830145119,
           0.8647945276313753,
           0.834149445681053,
           0.7720899907135287
          ],
          [
           0.7501259215070679,
           0.7179066661135873,
           0.733798203981151,
           0.7388283656111796,
           0.7000175913035093,
           0.7121587450436275,
           0.7878065810026342,
           0.8127448706785136,
           0.7149308757252495,
           0.6395316707514666,
           0.7030004081634418,
           0.7368128898683167,
           0.746161391568658,
           0.6949666111082935,
           0.6988142006263445,
           0.7141337485827636,
           0.729567713521265,
           0.9999999999999998,
           0.7191265670359539,
           0.7404173642373764,
           0.7027358737358472,
           0.7288426721564488,
           0.7147023196844866,
           0.8530180748823892,
           0.7264437498372553
          ],
          [
           0.9365027365136648,
           0.8779140547457038,
           0.9238484287591429,
           0.8840798942533453,
           0.8185746457895381,
           0.9477582941449653,
           0.9308908247618606,
           0.8272282207559386,
           0.8787278420620304,
           0.7452371211828055,
           0.8371567992020046,
           0.9591909914308148,
           0.8708796018386974,
           0.7596073476132057,
           0.8118086579374468,
           0.7700588506193258,
           0.9745754764483519,
           0.7191265670359539,
           1,
           0.8985275655556384,
           0.8187950900050989,
           0.9383000110575802,
           0.8772151084528811,
           0.8310422960405275,
           0.7788468084562152
          ],
          [
           0.8904149112186969,
           0.8645993742124898,
           0.8782761110942235,
           0.8589307701816908,
           0.7884262260837422,
           0.8762669874901776,
           0.8816575019426796,
           0.8187840196301752,
           0.8615351469059034,
           0.7147820420513002,
           0.9296769180645947,
           0.8719644083796485,
           0.8435683818769637,
           0.767470866440713,
           0.8169638680613825,
           0.7831579292348128,
           0.8870730738555093,
           0.7404173642373764,
           0.8985275655556384,
           1.0000000000000009,
           0.8239610743700727,
           0.8879190271284276,
           0.8294111459889326,
           0.814079896836327,
           0.7587770187662366
          ],
          [
           0.8421940926511524,
           0.8411950433037307,
           0.8570111354379597,
           0.8256288466031385,
           0.8487300484181398,
           0.8136762729614221,
           0.8182915970827114,
           0.7900951020747335,
           0.8816545432363457,
           0.7448210217427429,
           0.8740267164680665,
           0.8037309993969481,
           0.8210163000141977,
           0.785788309361031,
           0.7922005158610441,
           0.7898133360401729,
           0.8145543452111206,
           0.7027358737358472,
           0.8187950900050989,
           0.8239610743700727,
           0.9999999999999996,
           0.8125702188045687,
           0.8564196192111659,
           0.7830530260838302,
           0.7404257280749704
          ],
          [
           0.9320009205723344,
           0.8798143463400168,
           0.901051759096877,
           0.8707985560919866,
           0.7945329635553962,
           0.9039615841303414,
           0.885366235895549,
           0.8184585362241217,
           0.8645978531488078,
           0.7427525220075442,
           0.8349308391604443,
           0.9602843844208844,
           0.8425387242360067,
           0.7624272207691476,
           0.8080377554143736,
           0.7817954633245674,
           0.9599601830145119,
           0.7288426721564488,
           0.9383000110575802,
           0.8879190271284276,
           0.8125702188045687,
           0.9999999999999998,
           0.8503120154554945,
           0.8376479943618523,
           0.7696788712394795
          ],
          [
           0.8832673792948833,
           0.8456984092229828,
           0.8929963152777337,
           0.8625648307964731,
           0.8607066797593474,
           0.891156840916776,
           0.8629396910045037,
           0.8292494526046724,
           0.8698595197737978,
           0.7770783138375844,
           0.8274280728073238,
           0.85889473385803,
           0.8987122127663889,
           0.7728334222474431,
           0.8552634386749394,
           0.7905297420367625,
           0.8647945276313753,
           0.7147023196844866,
           0.8772151084528811,
           0.8294111459889326,
           0.8564196192111659,
           0.8503120154554945,
           1.0000000000000002,
           0.8318049527105154,
           0.7823388281015446
          ],
          [
           0.8567110857037958,
           0.8805655199787153,
           0.8858636709491692,
           0.8244973971362929,
           0.8369841267357215,
           0.8601676076585445,
           0.843089227547859,
           0.7672895098694301,
           0.8357056444908896,
           0.6893819387157417,
           0.7955535704152629,
           0.830937990116383,
           0.7916375205555468,
           0.778201463475275,
           0.7996704495925263,
           0.7868315714589611,
           0.834149445681053,
           0.8530180748823892,
           0.8310422960405275,
           0.814079896836327,
           0.7830530260838302,
           0.8376479943618523,
           0.8318049527105154,
           1,
           0.7203594406805144
          ],
          [
           0.775572687663539,
           0.7324833040059375,
           0.7655932164770407,
           0.7688493320006481,
           0.7463371332565244,
           0.7655886062334138,
           0.8284073798858363,
           0.8474537831054445,
           0.7774736315336525,
           0.7088165128268271,
           0.7242395554392556,
           0.7680052184848121,
           0.7972026565798765,
           0.6775148838859122,
           0.7552510665615424,
           0.696077422590015,
           0.7720899907135287,
           0.7264437498372553,
           0.7788468084562152,
           0.7587770187662366,
           0.7404257280749704,
           0.7696788712394795,
           0.7823388281015446,
           0.7203594406805144,
           0.9999999999999998
          ]
         ]
        }
       ],
       "layout": {
        "coloraxis": {
         "colorbar": {
          "title": {
           "text": "Similarity Score"
          }
         },
         "colorscale": [
          [
           0,
           "rgb(247,252,240)"
          ],
          [
           0.125,
           "rgb(224,243,219)"
          ],
          [
           0.25,
           "rgb(204,235,197)"
          ],
          [
           0.375,
           "rgb(168,221,181)"
          ],
          [
           0.5,
           "rgb(123,204,196)"
          ],
          [
           0.625,
           "rgb(78,179,211)"
          ],
          [
           0.75,
           "rgb(43,140,190)"
          ],
          [
           0.875,
           "rgb(8,104,172)"
          ],
          [
           1,
           "rgb(8,64,129)"
          ]
         ]
        },
        "height": 800,
        "hoverlabel": {
         "bgcolor": "white",
         "font": {
          "family": "Rockwell",
          "size": 16
         }
        },
        "legend": {
         "title": {
          "text": "Trend"
         }
        },
        "margin": {
         "t": 60
        },
        "showlegend": true,
        "template": {
         "data": {
          "bar": [
           {
            "error_x": {
             "color": "#2a3f5f"
            },
            "error_y": {
             "color": "#2a3f5f"
            },
            "marker": {
             "line": {
              "color": "#E5ECF6",
              "width": 0.5
             },
             "pattern": {
              "fillmode": "overlay",
              "size": 10,
              "solidity": 0.2
             }
            },
            "type": "bar"
           }
          ],
          "barpolar": [
           {
            "marker": {
             "line": {
              "color": "#E5ECF6",
              "width": 0.5
             },
             "pattern": {
              "fillmode": "overlay",
              "size": 10,
              "solidity": 0.2
             }
            },
            "type": "barpolar"
           }
          ],
          "carpet": [
           {
            "aaxis": {
             "endlinecolor": "#2a3f5f",
             "gridcolor": "white",
             "linecolor": "white",
             "minorgridcolor": "white",
             "startlinecolor": "#2a3f5f"
            },
            "baxis": {
             "endlinecolor": "#2a3f5f",
             "gridcolor": "white",
             "linecolor": "white",
             "minorgridcolor": "white",
             "startlinecolor": "#2a3f5f"
            },
            "type": "carpet"
           }
          ],
          "choropleth": [
           {
            "colorbar": {
             "outlinewidth": 0,
             "ticks": ""
            },
            "type": "choropleth"
           }
          ],
          "contour": [
           {
            "colorbar": {
             "outlinewidth": 0,
             "ticks": ""
            },
            "colorscale": [
             [
              0,
              "#0d0887"
             ],
             [
              0.1111111111111111,
              "#46039f"
             ],
             [
              0.2222222222222222,
              "#7201a8"
             ],
             [
              0.3333333333333333,
              "#9c179e"
             ],
             [
              0.4444444444444444,
              "#bd3786"
             ],
             [
              0.5555555555555556,
              "#d8576b"
             ],
             [
              0.6666666666666666,
              "#ed7953"
             ],
             [
              0.7777777777777778,
              "#fb9f3a"
             ],
             [
              0.8888888888888888,
              "#fdca26"
             ],
             [
              1,
              "#f0f921"
             ]
            ],
            "type": "contour"
           }
          ],
          "contourcarpet": [
           {
            "colorbar": {
             "outlinewidth": 0,
             "ticks": ""
            },
            "type": "contourcarpet"
           }
          ],
          "heatmap": [
           {
            "colorbar": {
             "outlinewidth": 0,
             "ticks": ""
            },
            "colorscale": [
             [
              0,
              "#0d0887"
             ],
             [
              0.1111111111111111,
              "#46039f"
             ],
             [
              0.2222222222222222,
              "#7201a8"
             ],
             [
              0.3333333333333333,
              "#9c179e"
             ],
             [
              0.4444444444444444,
              "#bd3786"
             ],
             [
              0.5555555555555556,
              "#d8576b"
             ],
             [
              0.6666666666666666,
              "#ed7953"
             ],
             [
              0.7777777777777778,
              "#fb9f3a"
             ],
             [
              0.8888888888888888,
              "#fdca26"
             ],
             [
              1,
              "#f0f921"
             ]
            ],
            "type": "heatmap"
           }
          ],
          "heatmapgl": [
           {
            "colorbar": {
             "outlinewidth": 0,
             "ticks": ""
            },
            "colorscale": [
             [
              0,
              "#0d0887"
             ],
             [
              0.1111111111111111,
              "#46039f"
             ],
             [
              0.2222222222222222,
              "#7201a8"
             ],
             [
              0.3333333333333333,
              "#9c179e"
             ],
             [
              0.4444444444444444,
              "#bd3786"
             ],
             [
              0.5555555555555556,
              "#d8576b"
             ],
             [
              0.6666666666666666,
              "#ed7953"
             ],
             [
              0.7777777777777778,
              "#fb9f3a"
             ],
             [
              0.8888888888888888,
              "#fdca26"
             ],
             [
              1,
              "#f0f921"
             ]
            ],
            "type": "heatmapgl"
           }
          ],
          "histogram": [
           {
            "marker": {
             "pattern": {
              "fillmode": "overlay",
              "size": 10,
              "solidity": 0.2
             }
            },
            "type": "histogram"
           }
          ],
          "histogram2d": [
           {
            "colorbar": {
             "outlinewidth": 0,
             "ticks": ""
            },
            "colorscale": [
             [
              0,
              "#0d0887"
             ],
             [
              0.1111111111111111,
              "#46039f"
             ],
             [
              0.2222222222222222,
              "#7201a8"
             ],
             [
              0.3333333333333333,
              "#9c179e"
             ],
             [
              0.4444444444444444,
              "#bd3786"
             ],
             [
              0.5555555555555556,
              "#d8576b"
             ],
             [
              0.6666666666666666,
              "#ed7953"
             ],
             [
              0.7777777777777778,
              "#fb9f3a"
             ],
             [
              0.8888888888888888,
              "#fdca26"
             ],
             [
              1,
              "#f0f921"
             ]
            ],
            "type": "histogram2d"
           }
          ],
          "histogram2dcontour": [
           {
            "colorbar": {
             "outlinewidth": 0,
             "ticks": ""
            },
            "colorscale": [
             [
              0,
              "#0d0887"
             ],
             [
              0.1111111111111111,
              "#46039f"
             ],
             [
              0.2222222222222222,
              "#7201a8"
             ],
             [
              0.3333333333333333,
              "#9c179e"
             ],
             [
              0.4444444444444444,
              "#bd3786"
             ],
             [
              0.5555555555555556,
              "#d8576b"
             ],
             [
              0.6666666666666666,
              "#ed7953"
             ],
             [
              0.7777777777777778,
              "#fb9f3a"
             ],
             [
              0.8888888888888888,
              "#fdca26"
             ],
             [
              1,
              "#f0f921"
             ]
            ],
            "type": "histogram2dcontour"
           }
          ],
          "mesh3d": [
           {
            "colorbar": {
             "outlinewidth": 0,
             "ticks": ""
            },
            "type": "mesh3d"
           }
          ],
          "parcoords": [
           {
            "line": {
             "colorbar": {
              "outlinewidth": 0,
              "ticks": ""
             }
            },
            "type": "parcoords"
           }
          ],
          "pie": [
           {
            "automargin": true,
            "type": "pie"
           }
          ],
          "scatter": [
           {
            "fillpattern": {
             "fillmode": "overlay",
             "size": 10,
             "solidity": 0.2
            },
            "type": "scatter"
           }
          ],
          "scatter3d": [
           {
            "line": {
             "colorbar": {
              "outlinewidth": 0,
              "ticks": ""
             }
            },
            "marker": {
             "colorbar": {
              "outlinewidth": 0,
              "ticks": ""
             }
            },
            "type": "scatter3d"
           }
          ],
          "scattercarpet": [
           {
            "marker": {
             "colorbar": {
              "outlinewidth": 0,
              "ticks": ""
             }
            },
            "type": "scattercarpet"
           }
          ],
          "scattergeo": [
           {
            "marker": {
             "colorbar": {
              "outlinewidth": 0,
              "ticks": ""
             }
            },
            "type": "scattergeo"
           }
          ],
          "scattergl": [
           {
            "marker": {
             "colorbar": {
              "outlinewidth": 0,
              "ticks": ""
             }
            },
            "type": "scattergl"
           }
          ],
          "scattermapbox": [
           {
            "marker": {
             "colorbar": {
              "outlinewidth": 0,
              "ticks": ""
             }
            },
            "type": "scattermapbox"
           }
          ],
          "scatterpolar": [
           {
            "marker": {
             "colorbar": {
              "outlinewidth": 0,
              "ticks": ""
             }
            },
            "type": "scatterpolar"
           }
          ],
          "scatterpolargl": [
           {
            "marker": {
             "colorbar": {
              "outlinewidth": 0,
              "ticks": ""
             }
            },
            "type": "scatterpolargl"
           }
          ],
          "scatterternary": [
           {
            "marker": {
             "colorbar": {
              "outlinewidth": 0,
              "ticks": ""
             }
            },
            "type": "scatterternary"
           }
          ],
          "surface": [
           {
            "colorbar": {
             "outlinewidth": 0,
             "ticks": ""
            },
            "colorscale": [
             [
              0,
              "#0d0887"
             ],
             [
              0.1111111111111111,
              "#46039f"
             ],
             [
              0.2222222222222222,
              "#7201a8"
             ],
             [
              0.3333333333333333,
              "#9c179e"
             ],
             [
              0.4444444444444444,
              "#bd3786"
             ],
             [
              0.5555555555555556,
              "#d8576b"
             ],
             [
              0.6666666666666666,
              "#ed7953"
             ],
             [
              0.7777777777777778,
              "#fb9f3a"
             ],
             [
              0.8888888888888888,
              "#fdca26"
             ],
             [
              1,
              "#f0f921"
             ]
            ],
            "type": "surface"
           }
          ],
          "table": [
           {
            "cells": {
             "fill": {
              "color": "#EBF0F8"
             },
             "line": {
              "color": "white"
             }
            },
            "header": {
             "fill": {
              "color": "#C8D4E3"
             },
             "line": {
              "color": "white"
             }
            },
            "type": "table"
           }
          ]
         },
         "layout": {
          "annotationdefaults": {
           "arrowcolor": "#2a3f5f",
           "arrowhead": 0,
           "arrowwidth": 1
          },
          "autotypenumbers": "strict",
          "coloraxis": {
           "colorbar": {
            "outlinewidth": 0,
            "ticks": ""
           }
          },
          "colorscale": {
           "diverging": [
            [
             0,
             "#8e0152"
            ],
            [
             0.1,
             "#c51b7d"
            ],
            [
             0.2,
             "#de77ae"
            ],
            [
             0.3,
             "#f1b6da"
            ],
            [
             0.4,
             "#fde0ef"
            ],
            [
             0.5,
             "#f7f7f7"
            ],
            [
             0.6,
             "#e6f5d0"
            ],
            [
             0.7,
             "#b8e186"
            ],
            [
             0.8,
             "#7fbc41"
            ],
            [
             0.9,
             "#4d9221"
            ],
            [
             1,
             "#276419"
            ]
           ],
           "sequential": [
            [
             0,
             "#0d0887"
            ],
            [
             0.1111111111111111,
             "#46039f"
            ],
            [
             0.2222222222222222,
             "#7201a8"
            ],
            [
             0.3333333333333333,
             "#9c179e"
            ],
            [
             0.4444444444444444,
             "#bd3786"
            ],
            [
             0.5555555555555556,
             "#d8576b"
            ],
            [
             0.6666666666666666,
             "#ed7953"
            ],
            [
             0.7777777777777778,
             "#fb9f3a"
            ],
            [
             0.8888888888888888,
             "#fdca26"
            ],
            [
             1,
             "#f0f921"
            ]
           ],
           "sequentialminus": [
            [
             0,
             "#0d0887"
            ],
            [
             0.1111111111111111,
             "#46039f"
            ],
            [
             0.2222222222222222,
             "#7201a8"
            ],
            [
             0.3333333333333333,
             "#9c179e"
            ],
            [
             0.4444444444444444,
             "#bd3786"
            ],
            [
             0.5555555555555556,
             "#d8576b"
            ],
            [
             0.6666666666666666,
             "#ed7953"
            ],
            [
             0.7777777777777778,
             "#fb9f3a"
            ],
            [
             0.8888888888888888,
             "#fdca26"
            ],
            [
             1,
             "#f0f921"
            ]
           ]
          },
          "colorway": [
           "#636efa",
           "#EF553B",
           "#00cc96",
           "#ab63fa",
           "#FFA15A",
           "#19d3f3",
           "#FF6692",
           "#B6E880",
           "#FF97FF",
           "#FECB52"
          ],
          "font": {
           "color": "#2a3f5f"
          },
          "geo": {
           "bgcolor": "white",
           "lakecolor": "white",
           "landcolor": "#E5ECF6",
           "showlakes": true,
           "showland": true,
           "subunitcolor": "white"
          },
          "hoverlabel": {
           "align": "left"
          },
          "hovermode": "closest",
          "mapbox": {
           "style": "light"
          },
          "paper_bgcolor": "white",
          "plot_bgcolor": "#E5ECF6",
          "polar": {
           "angularaxis": {
            "gridcolor": "white",
            "linecolor": "white",
            "ticks": ""
           },
           "bgcolor": "#E5ECF6",
           "radialaxis": {
            "gridcolor": "white",
            "linecolor": "white",
            "ticks": ""
           }
          },
          "scene": {
           "xaxis": {
            "backgroundcolor": "#E5ECF6",
            "gridcolor": "white",
            "gridwidth": 2,
            "linecolor": "white",
            "showbackground": true,
            "ticks": "",
            "zerolinecolor": "white"
           },
           "yaxis": {
            "backgroundcolor": "#E5ECF6",
            "gridcolor": "white",
            "gridwidth": 2,
            "linecolor": "white",
            "showbackground": true,
            "ticks": "",
            "zerolinecolor": "white"
           },
           "zaxis": {
            "backgroundcolor": "#E5ECF6",
            "gridcolor": "white",
            "gridwidth": 2,
            "linecolor": "white",
            "showbackground": true,
            "ticks": "",
            "zerolinecolor": "white"
           }
          },
          "shapedefaults": {
           "line": {
            "color": "#2a3f5f"
           }
          },
          "ternary": {
           "aaxis": {
            "gridcolor": "white",
            "linecolor": "white",
            "ticks": ""
           },
           "baxis": {
            "gridcolor": "white",
            "linecolor": "white",
            "ticks": ""
           },
           "bgcolor": "#E5ECF6",
           "caxis": {
            "gridcolor": "white",
            "linecolor": "white",
            "ticks": ""
           }
          },
          "title": {
           "x": 0.05
          },
          "xaxis": {
           "automargin": true,
           "gridcolor": "white",
           "linecolor": "white",
           "ticks": "",
           "title": {
            "standoff": 15
           },
           "zerolinecolor": "white",
           "zerolinewidth": 2
          },
          "yaxis": {
           "automargin": true,
           "gridcolor": "white",
           "linecolor": "white",
           "ticks": "",
           "title": {
            "standoff": 15
           },
           "zerolinecolor": "white",
           "zerolinewidth": 2
          }
         }
        },
        "title": {
         "font": {
          "color": "Black",
          "size": 22
         },
         "text": "<b>Similarity Matrix</b>",
         "x": 0.55,
         "xanchor": "center",
         "y": 0.95,
         "yanchor": "top"
        },
        "width": 800,
        "xaxis": {
         "anchor": "y",
         "constrain": "domain",
         "domain": [
          0,
          1
         ],
         "scaleanchor": "y"
        },
        "yaxis": {
         "anchor": "x",
         "autorange": "reversed",
         "constrain": "domain",
         "domain": [
          0,
          1
         ]
        }
       }
      }
     },
     "metadata": {},
     "output_type": "display_data"
    }
   ],
   "source": [
    "topic_model.visualize_heatmap()"
   ]
  },
  {
   "cell_type": "markdown",
   "metadata": {},
   "source": [
    "### BERTOPIC by Class"
   ]
  },
  {
   "cell_type": "code",
   "execution_count": 17,
   "metadata": {},
   "outputs": [
    {
     "name": "stderr",
     "output_type": "stream",
     "text": [
      "6it [00:00, 10.25it/s]\n"
     ]
    }
   ],
   "source": [
    "topics_per_class = topic_model.topics_per_class(response_df.to_list(), classes=class_df.to_list())\n"
   ]
  },
  {
   "cell_type": "code",
   "execution_count": 18,
   "metadata": {},
   "outputs": [
    {
     "data": {
      "application/vnd.plotly.v1+json": {
       "config": {
        "plotlyServerURL": "https://plot.ly"
       },
       "data": [
        {
         "hoverinfo": "text",
         "hovertext": [
          "<b>Topic 0</b><br>Words: indigenous, the, and, of, to",
          "<b>Topic 0</b><br>Words: indigenous, in, of, monitoring, oversight",
          "<b>Topic 0</b><br>Words: frequency, inspection, indigenous, governments, should"
         ],
         "marker": {
          "color": "#E69F00"
         },
         "name": "0_indigenous_the_of_and",
         "orientation": "h",
         "type": "bar",
         "visible": true,
         "x": [
          129,
          8,
          2
         ],
         "y": [
          "Indigenous",
          "Industry",
          "Government (Fed/ Prov)"
         ]
        },
        {
         "hoverinfo": "text",
         "hovertext": [
          "<b>Topic 1</b><br>Words: to, nations, and, the, rights"
         ],
         "marker": {
          "color": "#56B4E9"
         },
         "name": "1_to_nations_and_the",
         "orientation": "h",
         "type": "bar",
         "visible": "legendonly",
         "x": [
          120
         ],
         "y": [
          "Indigenous"
         ]
        },
        {
         "hoverinfo": "text",
         "hovertext": [
          "<b>Topic 2</b><br>Words: the, indigenous, and, to, of",
          "<b>Topic 2</b><br>Words: the, reconciliation, indigenous, of, and",
          "<b>Topic 2</b><br>Words: declaration, peoples, bc, indigenous, act"
         ],
         "marker": {
          "color": "#009E73"
         },
         "name": "2_the_indigenous_and_of",
         "orientation": "h",
         "type": "bar",
         "visible": "legendonly",
         "x": [
          80,
          12,
          1
         ],
         "y": [
          "Indigenous",
          "Industry",
          "Government (Fed/ Prov)"
         ]
        },
        {
         "hoverinfo": "text",
         "hovertext": [
          "<b>Topic 3</b><br>Words: emergency, and, response, indigenous, the",
          "<b>Topic 3</b><br>Words: emergency, response, and, the, an",
          "<b>Topic 3</b><br>Words: emergency, response, the, and, be",
          "<b>Topic 3</b><br>Words: public, comment, for, emergency, send",
          "<b>Topic 3</b><br>Words: emergency, response, the, and, public"
         ],
         "marker": {
          "color": "#F0E442"
         },
         "name": "3_emergency_response_and_the",
         "orientation": "h",
         "type": "bar",
         "visible": "legendonly",
         "x": [
          54,
          6,
          9,
          1,
          8
         ],
         "y": [
          "Indigenous",
          "Industry",
          "Municipality",
          "Government (Fed/ Prov)",
          "Other Interested Party"
         ]
        },
        {
         "hoverinfo": "text",
         "hovertext": [
          "<b>Topic 4</b><br>Words: heritage, resources, and, to, of",
          "<b>Topic 4</b><br>Words: heritage, resources, and, the, of",
          "<b>Topic 4</b><br>Words: regional, land, use, plans, dehcho"
         ],
         "marker": {
          "color": "#D55E00"
         },
         "name": "4_heritage_resources_and_to",
         "orientation": "h",
         "type": "bar",
         "visible": "legendonly",
         "x": [
          72,
          11,
          1
         ],
         "y": [
          "Indigenous",
          "Industry",
          "Government (Fed/ Prov)"
         ]
        },
        {
         "hoverinfo": "text",
         "hovertext": [
          "<b>Topic 5</b><br>Words: and, women, to, of, the",
          "<b>Topic 5</b><br>Words: gba, plus, and, of, in",
          "<b>Topic 5</b><br>Words: women, many, characteristics, gba, how"
         ],
         "marker": {
          "color": "#0072B2"
         },
         "name": "5_and_of_to_the",
         "orientation": "h",
         "type": "bar",
         "visible": "legendonly",
         "x": [
          67,
          12,
          1
         ],
         "y": [
          "Indigenous",
          "Industry",
          "Government (Fed/ Prov)"
         ]
        },
        {
         "hoverinfo": "text",
         "hovertext": [
          "<b>Topic 6</b><br>Words: compliance, the, cer, and, to",
          "<b>Topic 6</b><br>Words: the, compliance, industry, cer, and",
          "<b>Topic 6</b><br>Words: standardizing, faster, consistency, verification, up",
          "<b>Topic 6</b><br>Words: compliance, data, commissions, the, industry",
          "<b>Topic 6</b><br>Words: compliance, technical, cer, promotion, requirements",
          "<b>Topic 6</b><br>Words: httpswwwcerrecgccaensafetyenvironmentindustryperformanceinteractivepipeline, interactive, map, ontario, conservation"
         ],
         "marker": {
          "color": "#CC79A7"
         },
         "name": "6_compliance_the_cer_and",
         "orientation": "h",
         "type": "bar",
         "visible": "legendonly",
         "x": [
          42,
          49,
          2,
          2,
          3,
          1
         ],
         "y": [
          "Indigenous",
          "Industry",
          "Municipality",
          "Government (Fed/ Prov)",
          "Other Interested Party",
          "Environmental NGO"
         ]
        },
        {
         "hoverinfo": "text",
         "hovertext": [
          "<b>Topic 7</b><br>Words: safety, management, process, and, the",
          "<b>Topic 7</b><br>Words: safety, management, requirements, csa, the",
          "<b>Topic 7</b><br>Words: organizational, human, and, safety, hazards",
          "<b>Topic 7</b><br>Words: safety, the, nwt, arctic, northern",
          "<b>Topic 7</b><br>Words: safety, management, process, system, requirements"
         ],
         "marker": {
          "color": "#E69F00"
         },
         "name": "7_safety_management_requirements_system",
         "orientation": "h",
         "type": "bar",
         "visible": "legendonly",
         "x": [
          38,
          28,
          2,
          2,
          23
         ],
         "y": [
          "Indigenous",
          "Industry",
          "Municipality",
          "Government (Fed/ Prov)",
          "Other Interested Party"
         ]
        },
        {
         "hoverinfo": "text",
         "hovertext": [
          "<b>Topic 8</b><br>Words: knowledge, indigenous, the, of, and",
          "<b>Topic 8</b><br>Words: knowledge, indigenous, should, is, federal",
          "<b>Topic 8</b><br>Words: knowledge, lower, technologies, aspects, attracting"
         ],
         "marker": {
          "color": "#56B4E9"
         },
         "name": "8_knowledge_indigenous_the_of",
         "orientation": "h",
         "type": "bar",
         "visible": "legendonly",
         "x": [
          54,
          4,
          1
         ],
         "y": [
          "Indigenous",
          "Industry",
          "Government (Fed/ Prov)"
         ]
        },
        {
         "hoverinfo": "text",
         "hovertext": [
          "<b>Topic 12</b><br>Words: environmental, protection, and, the, to",
          "<b>Topic 12</b><br>Words: environmental, protection, program, epps, the",
          "<b>Topic 12</b><br>Words: behavioral, assure, sufficiently, protective, comply",
          "<b>Topic 12</b><br>Words: environmental, system, protection, management, or"
         ],
         "marker": {
          "color": "#009E73"
         },
         "name": "12_environmental_protection_and_the",
         "orientation": "h",
         "type": "bar",
         "visible": "legendonly",
         "x": [
          48,
          9,
          1,
          3
         ],
         "y": [
          "Indigenous",
          "Industry",
          "Government (Fed/ Prov)",
          "Other Interested Party"
         ]
        }
       ],
       "layout": {
        "height": 900,
        "hoverlabel": {
         "bgcolor": "white",
         "font": {
          "family": "Rockwell",
          "size": 16
         }
        },
        "legend": {
         "title": {
          "text": "<b>Global Topic Representation"
         }
        },
        "template": {
         "data": {
          "bar": [
           {
            "error_x": {
             "color": "rgb(36,36,36)"
            },
            "error_y": {
             "color": "rgb(36,36,36)"
            },
            "marker": {
             "line": {
              "color": "white",
              "width": 0.5
             },
             "pattern": {
              "fillmode": "overlay",
              "size": 10,
              "solidity": 0.2
             }
            },
            "type": "bar"
           }
          ],
          "barpolar": [
           {
            "marker": {
             "line": {
              "color": "white",
              "width": 0.5
             },
             "pattern": {
              "fillmode": "overlay",
              "size": 10,
              "solidity": 0.2
             }
            },
            "type": "barpolar"
           }
          ],
          "carpet": [
           {
            "aaxis": {
             "endlinecolor": "rgb(36,36,36)",
             "gridcolor": "white",
             "linecolor": "white",
             "minorgridcolor": "white",
             "startlinecolor": "rgb(36,36,36)"
            },
            "baxis": {
             "endlinecolor": "rgb(36,36,36)",
             "gridcolor": "white",
             "linecolor": "white",
             "minorgridcolor": "white",
             "startlinecolor": "rgb(36,36,36)"
            },
            "type": "carpet"
           }
          ],
          "choropleth": [
           {
            "colorbar": {
             "outlinewidth": 1,
             "tickcolor": "rgb(36,36,36)",
             "ticks": "outside"
            },
            "type": "choropleth"
           }
          ],
          "contour": [
           {
            "colorbar": {
             "outlinewidth": 1,
             "tickcolor": "rgb(36,36,36)",
             "ticks": "outside"
            },
            "colorscale": [
             [
              0,
              "#440154"
             ],
             [
              0.1111111111111111,
              "#482878"
             ],
             [
              0.2222222222222222,
              "#3e4989"
             ],
             [
              0.3333333333333333,
              "#31688e"
             ],
             [
              0.4444444444444444,
              "#26828e"
             ],
             [
              0.5555555555555556,
              "#1f9e89"
             ],
             [
              0.6666666666666666,
              "#35b779"
             ],
             [
              0.7777777777777778,
              "#6ece58"
             ],
             [
              0.8888888888888888,
              "#b5de2b"
             ],
             [
              1,
              "#fde725"
             ]
            ],
            "type": "contour"
           }
          ],
          "contourcarpet": [
           {
            "colorbar": {
             "outlinewidth": 1,
             "tickcolor": "rgb(36,36,36)",
             "ticks": "outside"
            },
            "type": "contourcarpet"
           }
          ],
          "heatmap": [
           {
            "colorbar": {
             "outlinewidth": 1,
             "tickcolor": "rgb(36,36,36)",
             "ticks": "outside"
            },
            "colorscale": [
             [
              0,
              "#440154"
             ],
             [
              0.1111111111111111,
              "#482878"
             ],
             [
              0.2222222222222222,
              "#3e4989"
             ],
             [
              0.3333333333333333,
              "#31688e"
             ],
             [
              0.4444444444444444,
              "#26828e"
             ],
             [
              0.5555555555555556,
              "#1f9e89"
             ],
             [
              0.6666666666666666,
              "#35b779"
             ],
             [
              0.7777777777777778,
              "#6ece58"
             ],
             [
              0.8888888888888888,
              "#b5de2b"
             ],
             [
              1,
              "#fde725"
             ]
            ],
            "type": "heatmap"
           }
          ],
          "heatmapgl": [
           {
            "colorbar": {
             "outlinewidth": 1,
             "tickcolor": "rgb(36,36,36)",
             "ticks": "outside"
            },
            "colorscale": [
             [
              0,
              "#440154"
             ],
             [
              0.1111111111111111,
              "#482878"
             ],
             [
              0.2222222222222222,
              "#3e4989"
             ],
             [
              0.3333333333333333,
              "#31688e"
             ],
             [
              0.4444444444444444,
              "#26828e"
             ],
             [
              0.5555555555555556,
              "#1f9e89"
             ],
             [
              0.6666666666666666,
              "#35b779"
             ],
             [
              0.7777777777777778,
              "#6ece58"
             ],
             [
              0.8888888888888888,
              "#b5de2b"
             ],
             [
              1,
              "#fde725"
             ]
            ],
            "type": "heatmapgl"
           }
          ],
          "histogram": [
           {
            "marker": {
             "line": {
              "color": "white",
              "width": 0.6
             }
            },
            "type": "histogram"
           }
          ],
          "histogram2d": [
           {
            "colorbar": {
             "outlinewidth": 1,
             "tickcolor": "rgb(36,36,36)",
             "ticks": "outside"
            },
            "colorscale": [
             [
              0,
              "#440154"
             ],
             [
              0.1111111111111111,
              "#482878"
             ],
             [
              0.2222222222222222,
              "#3e4989"
             ],
             [
              0.3333333333333333,
              "#31688e"
             ],
             [
              0.4444444444444444,
              "#26828e"
             ],
             [
              0.5555555555555556,
              "#1f9e89"
             ],
             [
              0.6666666666666666,
              "#35b779"
             ],
             [
              0.7777777777777778,
              "#6ece58"
             ],
             [
              0.8888888888888888,
              "#b5de2b"
             ],
             [
              1,
              "#fde725"
             ]
            ],
            "type": "histogram2d"
           }
          ],
          "histogram2dcontour": [
           {
            "colorbar": {
             "outlinewidth": 1,
             "tickcolor": "rgb(36,36,36)",
             "ticks": "outside"
            },
            "colorscale": [
             [
              0,
              "#440154"
             ],
             [
              0.1111111111111111,
              "#482878"
             ],
             [
              0.2222222222222222,
              "#3e4989"
             ],
             [
              0.3333333333333333,
              "#31688e"
             ],
             [
              0.4444444444444444,
              "#26828e"
             ],
             [
              0.5555555555555556,
              "#1f9e89"
             ],
             [
              0.6666666666666666,
              "#35b779"
             ],
             [
              0.7777777777777778,
              "#6ece58"
             ],
             [
              0.8888888888888888,
              "#b5de2b"
             ],
             [
              1,
              "#fde725"
             ]
            ],
            "type": "histogram2dcontour"
           }
          ],
          "mesh3d": [
           {
            "colorbar": {
             "outlinewidth": 1,
             "tickcolor": "rgb(36,36,36)",
             "ticks": "outside"
            },
            "type": "mesh3d"
           }
          ],
          "parcoords": [
           {
            "line": {
             "colorbar": {
              "outlinewidth": 1,
              "tickcolor": "rgb(36,36,36)",
              "ticks": "outside"
             }
            },
            "type": "parcoords"
           }
          ],
          "pie": [
           {
            "automargin": true,
            "type": "pie"
           }
          ],
          "scatter": [
           {
            "fillpattern": {
             "fillmode": "overlay",
             "size": 10,
             "solidity": 0.2
            },
            "type": "scatter"
           }
          ],
          "scatter3d": [
           {
            "line": {
             "colorbar": {
              "outlinewidth": 1,
              "tickcolor": "rgb(36,36,36)",
              "ticks": "outside"
             }
            },
            "marker": {
             "colorbar": {
              "outlinewidth": 1,
              "tickcolor": "rgb(36,36,36)",
              "ticks": "outside"
             }
            },
            "type": "scatter3d"
           }
          ],
          "scattercarpet": [
           {
            "marker": {
             "colorbar": {
              "outlinewidth": 1,
              "tickcolor": "rgb(36,36,36)",
              "ticks": "outside"
             }
            },
            "type": "scattercarpet"
           }
          ],
          "scattergeo": [
           {
            "marker": {
             "colorbar": {
              "outlinewidth": 1,
              "tickcolor": "rgb(36,36,36)",
              "ticks": "outside"
             }
            },
            "type": "scattergeo"
           }
          ],
          "scattergl": [
           {
            "marker": {
             "colorbar": {
              "outlinewidth": 1,
              "tickcolor": "rgb(36,36,36)",
              "ticks": "outside"
             }
            },
            "type": "scattergl"
           }
          ],
          "scattermapbox": [
           {
            "marker": {
             "colorbar": {
              "outlinewidth": 1,
              "tickcolor": "rgb(36,36,36)",
              "ticks": "outside"
             }
            },
            "type": "scattermapbox"
           }
          ],
          "scatterpolar": [
           {
            "marker": {
             "colorbar": {
              "outlinewidth": 1,
              "tickcolor": "rgb(36,36,36)",
              "ticks": "outside"
             }
            },
            "type": "scatterpolar"
           }
          ],
          "scatterpolargl": [
           {
            "marker": {
             "colorbar": {
              "outlinewidth": 1,
              "tickcolor": "rgb(36,36,36)",
              "ticks": "outside"
             }
            },
            "type": "scatterpolargl"
           }
          ],
          "scatterternary": [
           {
            "marker": {
             "colorbar": {
              "outlinewidth": 1,
              "tickcolor": "rgb(36,36,36)",
              "ticks": "outside"
             }
            },
            "type": "scatterternary"
           }
          ],
          "surface": [
           {
            "colorbar": {
             "outlinewidth": 1,
             "tickcolor": "rgb(36,36,36)",
             "ticks": "outside"
            },
            "colorscale": [
             [
              0,
              "#440154"
             ],
             [
              0.1111111111111111,
              "#482878"
             ],
             [
              0.2222222222222222,
              "#3e4989"
             ],
             [
              0.3333333333333333,
              "#31688e"
             ],
             [
              0.4444444444444444,
              "#26828e"
             ],
             [
              0.5555555555555556,
              "#1f9e89"
             ],
             [
              0.6666666666666666,
              "#35b779"
             ],
             [
              0.7777777777777778,
              "#6ece58"
             ],
             [
              0.8888888888888888,
              "#b5de2b"
             ],
             [
              1,
              "#fde725"
             ]
            ],
            "type": "surface"
           }
          ],
          "table": [
           {
            "cells": {
             "fill": {
              "color": "rgb(237,237,237)"
             },
             "line": {
              "color": "white"
             }
            },
            "header": {
             "fill": {
              "color": "rgb(217,217,217)"
             },
             "line": {
              "color": "white"
             }
            },
            "type": "table"
           }
          ]
         },
         "layout": {
          "annotationdefaults": {
           "arrowhead": 0,
           "arrowwidth": 1
          },
          "autotypenumbers": "strict",
          "coloraxis": {
           "colorbar": {
            "outlinewidth": 1,
            "tickcolor": "rgb(36,36,36)",
            "ticks": "outside"
           }
          },
          "colorscale": {
           "diverging": [
            [
             0,
             "rgb(103,0,31)"
            ],
            [
             0.1,
             "rgb(178,24,43)"
            ],
            [
             0.2,
             "rgb(214,96,77)"
            ],
            [
             0.3,
             "rgb(244,165,130)"
            ],
            [
             0.4,
             "rgb(253,219,199)"
            ],
            [
             0.5,
             "rgb(247,247,247)"
            ],
            [
             0.6,
             "rgb(209,229,240)"
            ],
            [
             0.7,
             "rgb(146,197,222)"
            ],
            [
             0.8,
             "rgb(67,147,195)"
            ],
            [
             0.9,
             "rgb(33,102,172)"
            ],
            [
             1,
             "rgb(5,48,97)"
            ]
           ],
           "sequential": [
            [
             0,
             "#440154"
            ],
            [
             0.1111111111111111,
             "#482878"
            ],
            [
             0.2222222222222222,
             "#3e4989"
            ],
            [
             0.3333333333333333,
             "#31688e"
            ],
            [
             0.4444444444444444,
             "#26828e"
            ],
            [
             0.5555555555555556,
             "#1f9e89"
            ],
            [
             0.6666666666666666,
             "#35b779"
            ],
            [
             0.7777777777777778,
             "#6ece58"
            ],
            [
             0.8888888888888888,
             "#b5de2b"
            ],
            [
             1,
             "#fde725"
            ]
           ],
           "sequentialminus": [
            [
             0,
             "#440154"
            ],
            [
             0.1111111111111111,
             "#482878"
            ],
            [
             0.2222222222222222,
             "#3e4989"
            ],
            [
             0.3333333333333333,
             "#31688e"
            ],
            [
             0.4444444444444444,
             "#26828e"
            ],
            [
             0.5555555555555556,
             "#1f9e89"
            ],
            [
             0.6666666666666666,
             "#35b779"
            ],
            [
             0.7777777777777778,
             "#6ece58"
            ],
            [
             0.8888888888888888,
             "#b5de2b"
            ],
            [
             1,
             "#fde725"
            ]
           ]
          },
          "colorway": [
           "#1F77B4",
           "#FF7F0E",
           "#2CA02C",
           "#D62728",
           "#9467BD",
           "#8C564B",
           "#E377C2",
           "#7F7F7F",
           "#BCBD22",
           "#17BECF"
          ],
          "font": {
           "color": "rgb(36,36,36)"
          },
          "geo": {
           "bgcolor": "white",
           "lakecolor": "white",
           "landcolor": "white",
           "showlakes": true,
           "showland": true,
           "subunitcolor": "white"
          },
          "hoverlabel": {
           "align": "left"
          },
          "hovermode": "closest",
          "mapbox": {
           "style": "light"
          },
          "paper_bgcolor": "white",
          "plot_bgcolor": "white",
          "polar": {
           "angularaxis": {
            "gridcolor": "rgb(232,232,232)",
            "linecolor": "rgb(36,36,36)",
            "showgrid": false,
            "showline": true,
            "ticks": "outside"
           },
           "bgcolor": "white",
           "radialaxis": {
            "gridcolor": "rgb(232,232,232)",
            "linecolor": "rgb(36,36,36)",
            "showgrid": false,
            "showline": true,
            "ticks": "outside"
           }
          },
          "scene": {
           "xaxis": {
            "backgroundcolor": "white",
            "gridcolor": "rgb(232,232,232)",
            "gridwidth": 2,
            "linecolor": "rgb(36,36,36)",
            "showbackground": true,
            "showgrid": false,
            "showline": true,
            "ticks": "outside",
            "zeroline": false,
            "zerolinecolor": "rgb(36,36,36)"
           },
           "yaxis": {
            "backgroundcolor": "white",
            "gridcolor": "rgb(232,232,232)",
            "gridwidth": 2,
            "linecolor": "rgb(36,36,36)",
            "showbackground": true,
            "showgrid": false,
            "showline": true,
            "ticks": "outside",
            "zeroline": false,
            "zerolinecolor": "rgb(36,36,36)"
           },
           "zaxis": {
            "backgroundcolor": "white",
            "gridcolor": "rgb(232,232,232)",
            "gridwidth": 2,
            "linecolor": "rgb(36,36,36)",
            "showbackground": true,
            "showgrid": false,
            "showline": true,
            "ticks": "outside",
            "zeroline": false,
            "zerolinecolor": "rgb(36,36,36)"
           }
          },
          "shapedefaults": {
           "fillcolor": "black",
           "line": {
            "width": 0
           },
           "opacity": 0.3
          },
          "ternary": {
           "aaxis": {
            "gridcolor": "rgb(232,232,232)",
            "linecolor": "rgb(36,36,36)",
            "showgrid": false,
            "showline": true,
            "ticks": "outside"
           },
           "baxis": {
            "gridcolor": "rgb(232,232,232)",
            "linecolor": "rgb(36,36,36)",
            "showgrid": false,
            "showline": true,
            "ticks": "outside"
           },
           "bgcolor": "white",
           "caxis": {
            "gridcolor": "rgb(232,232,232)",
            "linecolor": "rgb(36,36,36)",
            "showgrid": false,
            "showline": true,
            "ticks": "outside"
           }
          },
          "title": {
           "x": 0.05
          },
          "xaxis": {
           "automargin": true,
           "gridcolor": "rgb(232,232,232)",
           "linecolor": "rgb(36,36,36)",
           "showgrid": false,
           "showline": true,
           "ticks": "outside",
           "title": {
            "standoff": 15
           },
           "zeroline": false,
           "zerolinecolor": "rgb(36,36,36)"
          },
          "yaxis": {
           "automargin": true,
           "gridcolor": "rgb(232,232,232)",
           "linecolor": "rgb(36,36,36)",
           "showgrid": false,
           "showline": true,
           "ticks": "outside",
           "title": {
            "standoff": 15
           },
           "zeroline": false,
           "zerolinecolor": "rgb(36,36,36)"
          }
         }
        },
        "title": {
         "font": {
          "color": "Black",
          "size": 22
         },
         "text": "<b>Topics per Class</b>",
         "x": 0.4,
         "xanchor": "center",
         "y": 0.95,
         "yanchor": "top"
        },
        "width": 1250,
        "xaxis": {
         "showgrid": true,
         "title": {
          "text": "Frequency"
         }
        },
        "yaxis": {
         "showgrid": true,
         "title": {
          "text": "Class"
         }
        }
       }
      }
     },
     "metadata": {},
     "output_type": "display_data"
    }
   ],
   "source": [
    "topic_model.visualize_topics_per_class(topics_per_class)\n"
   ]
  },
  {
   "cell_type": "markdown",
   "metadata": {},
   "source": [
    "## BERTOPIC vs CER Labelled Themes"
   ]
  },
  {
   "cell_type": "code",
   "execution_count": 51,
   "metadata": {},
   "outputs": [],
   "source": [
    "frequent['bertopics'] = topic_model.topics_"
   ]
  },
  {
   "cell_type": "code",
   "execution_count": 52,
   "metadata": {},
   "outputs": [],
   "source": [
    "themes_df = frequent.copy()\n",
    "themes_df['themes'] = themes_df['themes'].apply(lambda x: x.split(', '))"
   ]
  },
  {
   "cell_type": "code",
   "execution_count": 53,
   "metadata": {},
   "outputs": [],
   "source": [
    "from sklearn.preprocessing import MultiLabelBinarizer\n",
    "\n",
    "\n",
    "# Create the MultiLabelBinarizer object\n",
    "mlb = MultiLabelBinarizer()\n",
    "\n",
    "# Fit and transform the data to obtain the binary representation\n",
    "binary_data = mlb.fit_transform(themes_df['themes'])\n",
    "\n",
    "df_binary = pd.DataFrame(binary_data, columns=mlb.classes_)"
   ]
  },
  {
   "cell_type": "code",
   "execution_count": 54,
   "metadata": {},
   "outputs": [],
   "source": [
    "df_binary['bertopics'] = topic_model.topics_"
   ]
  },
  {
   "cell_type": "code",
   "execution_count": 55,
   "metadata": {},
   "outputs": [],
   "source": [
    "sum_df = df_binary.groupby('bertopics')[mlb.classes_].sum()"
   ]
  },
  {
   "cell_type": "code",
   "execution_count": 56,
   "metadata": {},
   "outputs": [
    {
     "data": {
      "text/html": [
       "<div>\n",
       "<style scoped>\n",
       "    .dataframe tbody tr th:only-of-type {\n",
       "        vertical-align: middle;\n",
       "    }\n",
       "\n",
       "    .dataframe tbody tr th {\n",
       "        vertical-align: top;\n",
       "    }\n",
       "\n",
       "    .dataframe thead th {\n",
       "        text-align: right;\n",
       "    }\n",
       "</style>\n",
       "<table border=\"1\" class=\"dataframe\">\n",
       "  <thead>\n",
       "    <tr style=\"text-align: right;\">\n",
       "      <th></th>\n",
       "      <th>Application Stage</th>\n",
       "      <th>Audit/ Compliance Verification</th>\n",
       "      <th>Change of Service</th>\n",
       "      <th>Clarity</th>\n",
       "      <th>Competitiveness</th>\n",
       "      <th>Damage Prevention</th>\n",
       "      <th>Emergency Management</th>\n",
       "      <th>End-of-Lifecycle</th>\n",
       "      <th>Enforcement</th>\n",
       "      <th>Engagement and Communication</th>\n",
       "      <th>...</th>\n",
       "      <th>Implementation</th>\n",
       "      <th>Integrity</th>\n",
       "      <th>Management System</th>\n",
       "      <th>Reconciliation</th>\n",
       "      <th>Regulatory Design</th>\n",
       "      <th>Safety</th>\n",
       "      <th>Security</th>\n",
       "      <th>Socio-Economic</th>\n",
       "      <th>Standards</th>\n",
       "      <th>Transparency</th>\n",
       "    </tr>\n",
       "    <tr>\n",
       "      <th>bertopics</th>\n",
       "      <th></th>\n",
       "      <th></th>\n",
       "      <th></th>\n",
       "      <th></th>\n",
       "      <th></th>\n",
       "      <th></th>\n",
       "      <th></th>\n",
       "      <th></th>\n",
       "      <th></th>\n",
       "      <th></th>\n",
       "      <th></th>\n",
       "      <th></th>\n",
       "      <th></th>\n",
       "      <th></th>\n",
       "      <th></th>\n",
       "      <th></th>\n",
       "      <th></th>\n",
       "      <th></th>\n",
       "      <th></th>\n",
       "      <th></th>\n",
       "      <th></th>\n",
       "    </tr>\n",
       "  </thead>\n",
       "  <tbody>\n",
       "    <tr>\n",
       "      <th>-1</th>\n",
       "      <td>4</td>\n",
       "      <td>7</td>\n",
       "      <td>0</td>\n",
       "      <td>15</td>\n",
       "      <td>21</td>\n",
       "      <td>0</td>\n",
       "      <td>1</td>\n",
       "      <td>1</td>\n",
       "      <td>6</td>\n",
       "      <td>15</td>\n",
       "      <td>...</td>\n",
       "      <td>10</td>\n",
       "      <td>3</td>\n",
       "      <td>1</td>\n",
       "      <td>17</td>\n",
       "      <td>10</td>\n",
       "      <td>10</td>\n",
       "      <td>2</td>\n",
       "      <td>5</td>\n",
       "      <td>2</td>\n",
       "      <td>21</td>\n",
       "    </tr>\n",
       "    <tr>\n",
       "      <th>0</th>\n",
       "      <td>22</td>\n",
       "      <td>10</td>\n",
       "      <td>7</td>\n",
       "      <td>18</td>\n",
       "      <td>22</td>\n",
       "      <td>0</td>\n",
       "      <td>9</td>\n",
       "      <td>2</td>\n",
       "      <td>11</td>\n",
       "      <td>56</td>\n",
       "      <td>...</td>\n",
       "      <td>27</td>\n",
       "      <td>2</td>\n",
       "      <td>5</td>\n",
       "      <td>125</td>\n",
       "      <td>27</td>\n",
       "      <td>5</td>\n",
       "      <td>2</td>\n",
       "      <td>30</td>\n",
       "      <td>2</td>\n",
       "      <td>30</td>\n",
       "    </tr>\n",
       "    <tr>\n",
       "      <th>1</th>\n",
       "      <td>17</td>\n",
       "      <td>10</td>\n",
       "      <td>5</td>\n",
       "      <td>16</td>\n",
       "      <td>26</td>\n",
       "      <td>0</td>\n",
       "      <td>4</td>\n",
       "      <td>2</td>\n",
       "      <td>12</td>\n",
       "      <td>83</td>\n",
       "      <td>...</td>\n",
       "      <td>17</td>\n",
       "      <td>1</td>\n",
       "      <td>6</td>\n",
       "      <td>109</td>\n",
       "      <td>31</td>\n",
       "      <td>4</td>\n",
       "      <td>6</td>\n",
       "      <td>12</td>\n",
       "      <td>2</td>\n",
       "      <td>38</td>\n",
       "    </tr>\n",
       "    <tr>\n",
       "      <th>2</th>\n",
       "      <td>21</td>\n",
       "      <td>2</td>\n",
       "      <td>1</td>\n",
       "      <td>27</td>\n",
       "      <td>21</td>\n",
       "      <td>0</td>\n",
       "      <td>1</td>\n",
       "      <td>0</td>\n",
       "      <td>3</td>\n",
       "      <td>39</td>\n",
       "      <td>...</td>\n",
       "      <td>10</td>\n",
       "      <td>0</td>\n",
       "      <td>3</td>\n",
       "      <td>90</td>\n",
       "      <td>17</td>\n",
       "      <td>1</td>\n",
       "      <td>4</td>\n",
       "      <td>21</td>\n",
       "      <td>2</td>\n",
       "      <td>8</td>\n",
       "    </tr>\n",
       "    <tr>\n",
       "      <th>3</th>\n",
       "      <td>8</td>\n",
       "      <td>7</td>\n",
       "      <td>6</td>\n",
       "      <td>22</td>\n",
       "      <td>7</td>\n",
       "      <td>0</td>\n",
       "      <td>61</td>\n",
       "      <td>1</td>\n",
       "      <td>2</td>\n",
       "      <td>48</td>\n",
       "      <td>...</td>\n",
       "      <td>13</td>\n",
       "      <td>2</td>\n",
       "      <td>7</td>\n",
       "      <td>47</td>\n",
       "      <td>12</td>\n",
       "      <td>3</td>\n",
       "      <td>1</td>\n",
       "      <td>8</td>\n",
       "      <td>5</td>\n",
       "      <td>18</td>\n",
       "    </tr>\n",
       "    <tr>\n",
       "      <th>4</th>\n",
       "      <td>18</td>\n",
       "      <td>3</td>\n",
       "      <td>0</td>\n",
       "      <td>35</td>\n",
       "      <td>19</td>\n",
       "      <td>0</td>\n",
       "      <td>3</td>\n",
       "      <td>1</td>\n",
       "      <td>4</td>\n",
       "      <td>40</td>\n",
       "      <td>...</td>\n",
       "      <td>7</td>\n",
       "      <td>0</td>\n",
       "      <td>1</td>\n",
       "      <td>67</td>\n",
       "      <td>14</td>\n",
       "      <td>1</td>\n",
       "      <td>3</td>\n",
       "      <td>68</td>\n",
       "      <td>0</td>\n",
       "      <td>8</td>\n",
       "    </tr>\n",
       "    <tr>\n",
       "      <th>5</th>\n",
       "      <td>5</td>\n",
       "      <td>2</td>\n",
       "      <td>0</td>\n",
       "      <td>23</td>\n",
       "      <td>11</td>\n",
       "      <td>0</td>\n",
       "      <td>0</td>\n",
       "      <td>0</td>\n",
       "      <td>9</td>\n",
       "      <td>18</td>\n",
       "      <td>...</td>\n",
       "      <td>11</td>\n",
       "      <td>0</td>\n",
       "      <td>2</td>\n",
       "      <td>42</td>\n",
       "      <td>11</td>\n",
       "      <td>11</td>\n",
       "      <td>2</td>\n",
       "      <td>20</td>\n",
       "      <td>1</td>\n",
       "      <td>9</td>\n",
       "    </tr>\n",
       "    <tr>\n",
       "      <th>6</th>\n",
       "      <td>7</td>\n",
       "      <td>29</td>\n",
       "      <td>1</td>\n",
       "      <td>41</td>\n",
       "      <td>37</td>\n",
       "      <td>0</td>\n",
       "      <td>0</td>\n",
       "      <td>1</td>\n",
       "      <td>8</td>\n",
       "      <td>34</td>\n",
       "      <td>...</td>\n",
       "      <td>12</td>\n",
       "      <td>3</td>\n",
       "      <td>8</td>\n",
       "      <td>16</td>\n",
       "      <td>29</td>\n",
       "      <td>2</td>\n",
       "      <td>3</td>\n",
       "      <td>1</td>\n",
       "      <td>9</td>\n",
       "      <td>35</td>\n",
       "    </tr>\n",
       "    <tr>\n",
       "      <th>7</th>\n",
       "      <td>3</td>\n",
       "      <td>25</td>\n",
       "      <td>0</td>\n",
       "      <td>36</td>\n",
       "      <td>16</td>\n",
       "      <td>0</td>\n",
       "      <td>2</td>\n",
       "      <td>0</td>\n",
       "      <td>6</td>\n",
       "      <td>9</td>\n",
       "      <td>...</td>\n",
       "      <td>11</td>\n",
       "      <td>7</td>\n",
       "      <td>27</td>\n",
       "      <td>16</td>\n",
       "      <td>23</td>\n",
       "      <td>43</td>\n",
       "      <td>0</td>\n",
       "      <td>0</td>\n",
       "      <td>25</td>\n",
       "      <td>8</td>\n",
       "    </tr>\n",
       "    <tr>\n",
       "      <th>8</th>\n",
       "      <td>6</td>\n",
       "      <td>1</td>\n",
       "      <td>0</td>\n",
       "      <td>8</td>\n",
       "      <td>8</td>\n",
       "      <td>0</td>\n",
       "      <td>0</td>\n",
       "      <td>1</td>\n",
       "      <td>1</td>\n",
       "      <td>21</td>\n",
       "      <td>...</td>\n",
       "      <td>1</td>\n",
       "      <td>0</td>\n",
       "      <td>1</td>\n",
       "      <td>58</td>\n",
       "      <td>8</td>\n",
       "      <td>0</td>\n",
       "      <td>13</td>\n",
       "      <td>15</td>\n",
       "      <td>0</td>\n",
       "      <td>9</td>\n",
       "    </tr>\n",
       "    <tr>\n",
       "      <th>9</th>\n",
       "      <td>2</td>\n",
       "      <td>1</td>\n",
       "      <td>1</td>\n",
       "      <td>9</td>\n",
       "      <td>8</td>\n",
       "      <td>0</td>\n",
       "      <td>3</td>\n",
       "      <td>1</td>\n",
       "      <td>2</td>\n",
       "      <td>11</td>\n",
       "      <td>...</td>\n",
       "      <td>4</td>\n",
       "      <td>0</td>\n",
       "      <td>0</td>\n",
       "      <td>19</td>\n",
       "      <td>2</td>\n",
       "      <td>0</td>\n",
       "      <td>1</td>\n",
       "      <td>7</td>\n",
       "      <td>0</td>\n",
       "      <td>10</td>\n",
       "    </tr>\n",
       "    <tr>\n",
       "      <th>10</th>\n",
       "      <td>2</td>\n",
       "      <td>0</td>\n",
       "      <td>0</td>\n",
       "      <td>6</td>\n",
       "      <td>3</td>\n",
       "      <td>0</td>\n",
       "      <td>2</td>\n",
       "      <td>0</td>\n",
       "      <td>1</td>\n",
       "      <td>45</td>\n",
       "      <td>...</td>\n",
       "      <td>4</td>\n",
       "      <td>0</td>\n",
       "      <td>1</td>\n",
       "      <td>28</td>\n",
       "      <td>6</td>\n",
       "      <td>0</td>\n",
       "      <td>1</td>\n",
       "      <td>3</td>\n",
       "      <td>0</td>\n",
       "      <td>18</td>\n",
       "    </tr>\n",
       "    <tr>\n",
       "      <th>11</th>\n",
       "      <td>13</td>\n",
       "      <td>8</td>\n",
       "      <td>0</td>\n",
       "      <td>7</td>\n",
       "      <td>9</td>\n",
       "      <td>0</td>\n",
       "      <td>2</td>\n",
       "      <td>2</td>\n",
       "      <td>4</td>\n",
       "      <td>23</td>\n",
       "      <td>...</td>\n",
       "      <td>5</td>\n",
       "      <td>2</td>\n",
       "      <td>4</td>\n",
       "      <td>33</td>\n",
       "      <td>14</td>\n",
       "      <td>2</td>\n",
       "      <td>0</td>\n",
       "      <td>11</td>\n",
       "      <td>3</td>\n",
       "      <td>6</td>\n",
       "    </tr>\n",
       "    <tr>\n",
       "      <th>12</th>\n",
       "      <td>15</td>\n",
       "      <td>4</td>\n",
       "      <td>0</td>\n",
       "      <td>15</td>\n",
       "      <td>7</td>\n",
       "      <td>0</td>\n",
       "      <td>2</td>\n",
       "      <td>2</td>\n",
       "      <td>1</td>\n",
       "      <td>14</td>\n",
       "      <td>...</td>\n",
       "      <td>3</td>\n",
       "      <td>1</td>\n",
       "      <td>4</td>\n",
       "      <td>31</td>\n",
       "      <td>17</td>\n",
       "      <td>0</td>\n",
       "      <td>1</td>\n",
       "      <td>12</td>\n",
       "      <td>2</td>\n",
       "      <td>12</td>\n",
       "    </tr>\n",
       "    <tr>\n",
       "      <th>13</th>\n",
       "      <td>2</td>\n",
       "      <td>0</td>\n",
       "      <td>0</td>\n",
       "      <td>7</td>\n",
       "      <td>4</td>\n",
       "      <td>0</td>\n",
       "      <td>6</td>\n",
       "      <td>0</td>\n",
       "      <td>1</td>\n",
       "      <td>20</td>\n",
       "      <td>...</td>\n",
       "      <td>6</td>\n",
       "      <td>0</td>\n",
       "      <td>0</td>\n",
       "      <td>21</td>\n",
       "      <td>2</td>\n",
       "      <td>0</td>\n",
       "      <td>0</td>\n",
       "      <td>8</td>\n",
       "      <td>0</td>\n",
       "      <td>7</td>\n",
       "    </tr>\n",
       "    <tr>\n",
       "      <th>14</th>\n",
       "      <td>0</td>\n",
       "      <td>2</td>\n",
       "      <td>0</td>\n",
       "      <td>7</td>\n",
       "      <td>6</td>\n",
       "      <td>0</td>\n",
       "      <td>2</td>\n",
       "      <td>0</td>\n",
       "      <td>1</td>\n",
       "      <td>4</td>\n",
       "      <td>...</td>\n",
       "      <td>6</td>\n",
       "      <td>0</td>\n",
       "      <td>1</td>\n",
       "      <td>16</td>\n",
       "      <td>4</td>\n",
       "      <td>10</td>\n",
       "      <td>0</td>\n",
       "      <td>3</td>\n",
       "      <td>0</td>\n",
       "      <td>7</td>\n",
       "    </tr>\n",
       "    <tr>\n",
       "      <th>15</th>\n",
       "      <td>1</td>\n",
       "      <td>0</td>\n",
       "      <td>0</td>\n",
       "      <td>6</td>\n",
       "      <td>9</td>\n",
       "      <td>0</td>\n",
       "      <td>2</td>\n",
       "      <td>0</td>\n",
       "      <td>1</td>\n",
       "      <td>12</td>\n",
       "      <td>...</td>\n",
       "      <td>1</td>\n",
       "      <td>0</td>\n",
       "      <td>2</td>\n",
       "      <td>19</td>\n",
       "      <td>2</td>\n",
       "      <td>1</td>\n",
       "      <td>0</td>\n",
       "      <td>7</td>\n",
       "      <td>0</td>\n",
       "      <td>6</td>\n",
       "    </tr>\n",
       "    <tr>\n",
       "      <th>16</th>\n",
       "      <td>2</td>\n",
       "      <td>11</td>\n",
       "      <td>2</td>\n",
       "      <td>14</td>\n",
       "      <td>13</td>\n",
       "      <td>2</td>\n",
       "      <td>8</td>\n",
       "      <td>1</td>\n",
       "      <td>5</td>\n",
       "      <td>5</td>\n",
       "      <td>...</td>\n",
       "      <td>10</td>\n",
       "      <td>5</td>\n",
       "      <td>10</td>\n",
       "      <td>6</td>\n",
       "      <td>10</td>\n",
       "      <td>5</td>\n",
       "      <td>0</td>\n",
       "      <td>1</td>\n",
       "      <td>5</td>\n",
       "      <td>10</td>\n",
       "    </tr>\n",
       "    <tr>\n",
       "      <th>17</th>\n",
       "      <td>0</td>\n",
       "      <td>4</td>\n",
       "      <td>0</td>\n",
       "      <td>8</td>\n",
       "      <td>2</td>\n",
       "      <td>0</td>\n",
       "      <td>2</td>\n",
       "      <td>0</td>\n",
       "      <td>4</td>\n",
       "      <td>4</td>\n",
       "      <td>...</td>\n",
       "      <td>2</td>\n",
       "      <td>2</td>\n",
       "      <td>1</td>\n",
       "      <td>2</td>\n",
       "      <td>2</td>\n",
       "      <td>16</td>\n",
       "      <td>0</td>\n",
       "      <td>1</td>\n",
       "      <td>2</td>\n",
       "      <td>3</td>\n",
       "    </tr>\n",
       "    <tr>\n",
       "      <th>18</th>\n",
       "      <td>8</td>\n",
       "      <td>3</td>\n",
       "      <td>5</td>\n",
       "      <td>3</td>\n",
       "      <td>16</td>\n",
       "      <td>0</td>\n",
       "      <td>3</td>\n",
       "      <td>3</td>\n",
       "      <td>5</td>\n",
       "      <td>4</td>\n",
       "      <td>...</td>\n",
       "      <td>6</td>\n",
       "      <td>3</td>\n",
       "      <td>2</td>\n",
       "      <td>13</td>\n",
       "      <td>5</td>\n",
       "      <td>2</td>\n",
       "      <td>0</td>\n",
       "      <td>3</td>\n",
       "      <td>0</td>\n",
       "      <td>3</td>\n",
       "    </tr>\n",
       "    <tr>\n",
       "      <th>19</th>\n",
       "      <td>6</td>\n",
       "      <td>4</td>\n",
       "      <td>0</td>\n",
       "      <td>17</td>\n",
       "      <td>5</td>\n",
       "      <td>0</td>\n",
       "      <td>3</td>\n",
       "      <td>0</td>\n",
       "      <td>3</td>\n",
       "      <td>53</td>\n",
       "      <td>...</td>\n",
       "      <td>2</td>\n",
       "      <td>0</td>\n",
       "      <td>2</td>\n",
       "      <td>32</td>\n",
       "      <td>13</td>\n",
       "      <td>0</td>\n",
       "      <td>1</td>\n",
       "      <td>3</td>\n",
       "      <td>0</td>\n",
       "      <td>28</td>\n",
       "    </tr>\n",
       "    <tr>\n",
       "      <th>20</th>\n",
       "      <td>1</td>\n",
       "      <td>0</td>\n",
       "      <td>0</td>\n",
       "      <td>8</td>\n",
       "      <td>1</td>\n",
       "      <td>0</td>\n",
       "      <td>0</td>\n",
       "      <td>0</td>\n",
       "      <td>1</td>\n",
       "      <td>14</td>\n",
       "      <td>...</td>\n",
       "      <td>0</td>\n",
       "      <td>0</td>\n",
       "      <td>0</td>\n",
       "      <td>21</td>\n",
       "      <td>2</td>\n",
       "      <td>0</td>\n",
       "      <td>0</td>\n",
       "      <td>7</td>\n",
       "      <td>1</td>\n",
       "      <td>1</td>\n",
       "    </tr>\n",
       "    <tr>\n",
       "      <th>21</th>\n",
       "      <td>12</td>\n",
       "      <td>1</td>\n",
       "      <td>13</td>\n",
       "      <td>4</td>\n",
       "      <td>10</td>\n",
       "      <td>0</td>\n",
       "      <td>1</td>\n",
       "      <td>15</td>\n",
       "      <td>8</td>\n",
       "      <td>5</td>\n",
       "      <td>...</td>\n",
       "      <td>1</td>\n",
       "      <td>1</td>\n",
       "      <td>2</td>\n",
       "      <td>16</td>\n",
       "      <td>8</td>\n",
       "      <td>0</td>\n",
       "      <td>0</td>\n",
       "      <td>5</td>\n",
       "      <td>0</td>\n",
       "      <td>9</td>\n",
       "    </tr>\n",
       "    <tr>\n",
       "      <th>22</th>\n",
       "      <td>3</td>\n",
       "      <td>18</td>\n",
       "      <td>0</td>\n",
       "      <td>10</td>\n",
       "      <td>2</td>\n",
       "      <td>0</td>\n",
       "      <td>1</td>\n",
       "      <td>0</td>\n",
       "      <td>2</td>\n",
       "      <td>1</td>\n",
       "      <td>...</td>\n",
       "      <td>0</td>\n",
       "      <td>1</td>\n",
       "      <td>18</td>\n",
       "      <td>18</td>\n",
       "      <td>9</td>\n",
       "      <td>1</td>\n",
       "      <td>0</td>\n",
       "      <td>8</td>\n",
       "      <td>0</td>\n",
       "      <td>1</td>\n",
       "    </tr>\n",
       "    <tr>\n",
       "      <th>23</th>\n",
       "      <td>0</td>\n",
       "      <td>1</td>\n",
       "      <td>0</td>\n",
       "      <td>3</td>\n",
       "      <td>1</td>\n",
       "      <td>0</td>\n",
       "      <td>1</td>\n",
       "      <td>0</td>\n",
       "      <td>1</td>\n",
       "      <td>10</td>\n",
       "      <td>...</td>\n",
       "      <td>5</td>\n",
       "      <td>0</td>\n",
       "      <td>0</td>\n",
       "      <td>17</td>\n",
       "      <td>3</td>\n",
       "      <td>14</td>\n",
       "      <td>0</td>\n",
       "      <td>2</td>\n",
       "      <td>0</td>\n",
       "      <td>4</td>\n",
       "    </tr>\n",
       "    <tr>\n",
       "      <th>24</th>\n",
       "      <td>1</td>\n",
       "      <td>3</td>\n",
       "      <td>0</td>\n",
       "      <td>8</td>\n",
       "      <td>6</td>\n",
       "      <td>0</td>\n",
       "      <td>0</td>\n",
       "      <td>2</td>\n",
       "      <td>2</td>\n",
       "      <td>1</td>\n",
       "      <td>...</td>\n",
       "      <td>4</td>\n",
       "      <td>18</td>\n",
       "      <td>1</td>\n",
       "      <td>4</td>\n",
       "      <td>14</td>\n",
       "      <td>4</td>\n",
       "      <td>0</td>\n",
       "      <td>0</td>\n",
       "      <td>6</td>\n",
       "      <td>3</td>\n",
       "    </tr>\n",
       "  </tbody>\n",
       "</table>\n",
       "<p>26 rows × 23 columns</p>\n",
       "</div>"
      ],
      "text/plain": [
       "           Application Stage  Audit/ Compliance Verification  \\\n",
       "bertopics                                                      \n",
       "-1                         4                               7   \n",
       " 0                        22                              10   \n",
       " 1                        17                              10   \n",
       " 2                        21                               2   \n",
       " 3                         8                               7   \n",
       " 4                        18                               3   \n",
       " 5                         5                               2   \n",
       " 6                         7                              29   \n",
       " 7                         3                              25   \n",
       " 8                         6                               1   \n",
       " 9                         2                               1   \n",
       " 10                        2                               0   \n",
       " 11                       13                               8   \n",
       " 12                       15                               4   \n",
       " 13                        2                               0   \n",
       " 14                        0                               2   \n",
       " 15                        1                               0   \n",
       " 16                        2                              11   \n",
       " 17                        0                               4   \n",
       " 18                        8                               3   \n",
       " 19                        6                               4   \n",
       " 20                        1                               0   \n",
       " 21                       12                               1   \n",
       " 22                        3                              18   \n",
       " 23                        0                               1   \n",
       " 24                        1                               3   \n",
       "\n",
       "           Change of Service  Clarity  Competitiveness  Damage Prevention  \\\n",
       "bertopics                                                                   \n",
       "-1                         0       15               21                  0   \n",
       " 0                         7       18               22                  0   \n",
       " 1                         5       16               26                  0   \n",
       " 2                         1       27               21                  0   \n",
       " 3                         6       22                7                  0   \n",
       " 4                         0       35               19                  0   \n",
       " 5                         0       23               11                  0   \n",
       " 6                         1       41               37                  0   \n",
       " 7                         0       36               16                  0   \n",
       " 8                         0        8                8                  0   \n",
       " 9                         1        9                8                  0   \n",
       " 10                        0        6                3                  0   \n",
       " 11                        0        7                9                  0   \n",
       " 12                        0       15                7                  0   \n",
       " 13                        0        7                4                  0   \n",
       " 14                        0        7                6                  0   \n",
       " 15                        0        6                9                  0   \n",
       " 16                        2       14               13                  2   \n",
       " 17                        0        8                2                  0   \n",
       " 18                        5        3               16                  0   \n",
       " 19                        0       17                5                  0   \n",
       " 20                        0        8                1                  0   \n",
       " 21                       13        4               10                  0   \n",
       " 22                        0       10                2                  0   \n",
       " 23                        0        3                1                  0   \n",
       " 24                        0        8                6                  0   \n",
       "\n",
       "           Emergency Management  End-of-Lifecycle  Enforcement  \\\n",
       "bertopics                                                        \n",
       "-1                            1                 1            6   \n",
       " 0                            9                 2           11   \n",
       " 1                            4                 2           12   \n",
       " 2                            1                 0            3   \n",
       " 3                           61                 1            2   \n",
       " 4                            3                 1            4   \n",
       " 5                            0                 0            9   \n",
       " 6                            0                 1            8   \n",
       " 7                            2                 0            6   \n",
       " 8                            0                 1            1   \n",
       " 9                            3                 1            2   \n",
       " 10                           2                 0            1   \n",
       " 11                           2                 2            4   \n",
       " 12                           2                 2            1   \n",
       " 13                           6                 0            1   \n",
       " 14                           2                 0            1   \n",
       " 15                           2                 0            1   \n",
       " 16                           8                 1            5   \n",
       " 17                           2                 0            4   \n",
       " 18                           3                 3            5   \n",
       " 19                           3                 0            3   \n",
       " 20                           0                 0            1   \n",
       " 21                           1                15            8   \n",
       " 22                           1                 0            2   \n",
       " 23                           1                 0            1   \n",
       " 24                           0                 2            2   \n",
       "\n",
       "           Engagement and Communication  ...  Implementation  Integrity  \\\n",
       "bertopics                                ...                              \n",
       "-1                                   15  ...              10          3   \n",
       " 0                                   56  ...              27          2   \n",
       " 1                                   83  ...              17          1   \n",
       " 2                                   39  ...              10          0   \n",
       " 3                                   48  ...              13          2   \n",
       " 4                                   40  ...               7          0   \n",
       " 5                                   18  ...              11          0   \n",
       " 6                                   34  ...              12          3   \n",
       " 7                                    9  ...              11          7   \n",
       " 8                                   21  ...               1          0   \n",
       " 9                                   11  ...               4          0   \n",
       " 10                                  45  ...               4          0   \n",
       " 11                                  23  ...               5          2   \n",
       " 12                                  14  ...               3          1   \n",
       " 13                                  20  ...               6          0   \n",
       " 14                                   4  ...               6          0   \n",
       " 15                                  12  ...               1          0   \n",
       " 16                                   5  ...              10          5   \n",
       " 17                                   4  ...               2          2   \n",
       " 18                                   4  ...               6          3   \n",
       " 19                                  53  ...               2          0   \n",
       " 20                                  14  ...               0          0   \n",
       " 21                                   5  ...               1          1   \n",
       " 22                                   1  ...               0          1   \n",
       " 23                                  10  ...               5          0   \n",
       " 24                                   1  ...               4         18   \n",
       "\n",
       "           Management System  Reconciliation  Regulatory Design  Safety  \\\n",
       "bertopics                                                                 \n",
       "-1                         1              17                 10      10   \n",
       " 0                         5             125                 27       5   \n",
       " 1                         6             109                 31       4   \n",
       " 2                         3              90                 17       1   \n",
       " 3                         7              47                 12       3   \n",
       " 4                         1              67                 14       1   \n",
       " 5                         2              42                 11      11   \n",
       " 6                         8              16                 29       2   \n",
       " 7                        27              16                 23      43   \n",
       " 8                         1              58                  8       0   \n",
       " 9                         0              19                  2       0   \n",
       " 10                        1              28                  6       0   \n",
       " 11                        4              33                 14       2   \n",
       " 12                        4              31                 17       0   \n",
       " 13                        0              21                  2       0   \n",
       " 14                        1              16                  4      10   \n",
       " 15                        2              19                  2       1   \n",
       " 16                       10               6                 10       5   \n",
       " 17                        1               2                  2      16   \n",
       " 18                        2              13                  5       2   \n",
       " 19                        2              32                 13       0   \n",
       " 20                        0              21                  2       0   \n",
       " 21                        2              16                  8       0   \n",
       " 22                       18              18                  9       1   \n",
       " 23                        0              17                  3      14   \n",
       " 24                        1               4                 14       4   \n",
       "\n",
       "           Security  Socio-Economic  Standards  Transparency  \n",
       "bertopics                                                     \n",
       "-1                2               5          2            21  \n",
       " 0                2              30          2            30  \n",
       " 1                6              12          2            38  \n",
       " 2                4              21          2             8  \n",
       " 3                1               8          5            18  \n",
       " 4                3              68          0             8  \n",
       " 5                2              20          1             9  \n",
       " 6                3               1          9            35  \n",
       " 7                0               0         25             8  \n",
       " 8               13              15          0             9  \n",
       " 9                1               7          0            10  \n",
       " 10               1               3          0            18  \n",
       " 11               0              11          3             6  \n",
       " 12               1              12          2            12  \n",
       " 13               0               8          0             7  \n",
       " 14               0               3          0             7  \n",
       " 15               0               7          0             6  \n",
       " 16               0               1          5            10  \n",
       " 17               0               1          2             3  \n",
       " 18               0               3          0             3  \n",
       " 19               1               3          0            28  \n",
       " 20               0               7          1             1  \n",
       " 21               0               5          0             9  \n",
       " 22               0               8          0             1  \n",
       " 23               0               2          0             4  \n",
       " 24               0               0          6             3  \n",
       "\n",
       "[26 rows x 23 columns]"
      ]
     },
     "execution_count": 56,
     "metadata": {},
     "output_type": "execute_result"
    }
   ],
   "source": [
    "sum_df"
   ]
  },
  {
   "cell_type": "code",
   "execution_count": 57,
   "metadata": {},
   "outputs": [],
   "source": [
    "df = sum_df[['Reconciliation', 'Engagement and Communication', 'Clarity', 'Transparency', 'Environment']]\n",
    "\n",
    "# Reset the index and convert it to a new column\n",
    "df = df.reset_index()"
   ]
  },
  {
   "cell_type": "code",
   "execution_count": 58,
   "metadata": {},
   "outputs": [
    {
     "data": {
      "text/html": [
       "<div>\n",
       "<style scoped>\n",
       "    .dataframe tbody tr th:only-of-type {\n",
       "        vertical-align: middle;\n",
       "    }\n",
       "\n",
       "    .dataframe tbody tr th {\n",
       "        vertical-align: top;\n",
       "    }\n",
       "\n",
       "    .dataframe thead th {\n",
       "        text-align: right;\n",
       "    }\n",
       "</style>\n",
       "<table border=\"1\" class=\"dataframe\">\n",
       "  <thead>\n",
       "    <tr style=\"text-align: right;\">\n",
       "      <th></th>\n",
       "      <th>bertopics</th>\n",
       "      <th>Reconciliation</th>\n",
       "      <th>Engagement and Communication</th>\n",
       "      <th>Clarity</th>\n",
       "      <th>Transparency</th>\n",
       "      <th>Environment</th>\n",
       "    </tr>\n",
       "  </thead>\n",
       "  <tbody>\n",
       "    <tr>\n",
       "      <th>0</th>\n",
       "      <td>-1</td>\n",
       "      <td>17</td>\n",
       "      <td>15</td>\n",
       "      <td>15</td>\n",
       "      <td>21</td>\n",
       "      <td>9</td>\n",
       "    </tr>\n",
       "    <tr>\n",
       "      <th>1</th>\n",
       "      <td>0</td>\n",
       "      <td>125</td>\n",
       "      <td>56</td>\n",
       "      <td>18</td>\n",
       "      <td>30</td>\n",
       "      <td>42</td>\n",
       "    </tr>\n",
       "    <tr>\n",
       "      <th>2</th>\n",
       "      <td>1</td>\n",
       "      <td>109</td>\n",
       "      <td>83</td>\n",
       "      <td>16</td>\n",
       "      <td>38</td>\n",
       "      <td>25</td>\n",
       "    </tr>\n",
       "    <tr>\n",
       "      <th>3</th>\n",
       "      <td>2</td>\n",
       "      <td>90</td>\n",
       "      <td>39</td>\n",
       "      <td>27</td>\n",
       "      <td>8</td>\n",
       "      <td>21</td>\n",
       "    </tr>\n",
       "    <tr>\n",
       "      <th>4</th>\n",
       "      <td>3</td>\n",
       "      <td>47</td>\n",
       "      <td>48</td>\n",
       "      <td>22</td>\n",
       "      <td>18</td>\n",
       "      <td>5</td>\n",
       "    </tr>\n",
       "    <tr>\n",
       "      <th>5</th>\n",
       "      <td>4</td>\n",
       "      <td>67</td>\n",
       "      <td>40</td>\n",
       "      <td>35</td>\n",
       "      <td>8</td>\n",
       "      <td>34</td>\n",
       "    </tr>\n",
       "    <tr>\n",
       "      <th>6</th>\n",
       "      <td>5</td>\n",
       "      <td>42</td>\n",
       "      <td>18</td>\n",
       "      <td>23</td>\n",
       "      <td>9</td>\n",
       "      <td>3</td>\n",
       "    </tr>\n",
       "    <tr>\n",
       "      <th>7</th>\n",
       "      <td>6</td>\n",
       "      <td>16</td>\n",
       "      <td>34</td>\n",
       "      <td>41</td>\n",
       "      <td>35</td>\n",
       "      <td>5</td>\n",
       "    </tr>\n",
       "    <tr>\n",
       "      <th>8</th>\n",
       "      <td>7</td>\n",
       "      <td>16</td>\n",
       "      <td>9</td>\n",
       "      <td>36</td>\n",
       "      <td>8</td>\n",
       "      <td>5</td>\n",
       "    </tr>\n",
       "    <tr>\n",
       "      <th>9</th>\n",
       "      <td>8</td>\n",
       "      <td>58</td>\n",
       "      <td>21</td>\n",
       "      <td>8</td>\n",
       "      <td>9</td>\n",
       "      <td>9</td>\n",
       "    </tr>\n",
       "    <tr>\n",
       "      <th>10</th>\n",
       "      <td>9</td>\n",
       "      <td>19</td>\n",
       "      <td>11</td>\n",
       "      <td>9</td>\n",
       "      <td>10</td>\n",
       "      <td>26</td>\n",
       "    </tr>\n",
       "    <tr>\n",
       "      <th>11</th>\n",
       "      <td>10</td>\n",
       "      <td>28</td>\n",
       "      <td>45</td>\n",
       "      <td>6</td>\n",
       "      <td>18</td>\n",
       "      <td>0</td>\n",
       "    </tr>\n",
       "    <tr>\n",
       "      <th>12</th>\n",
       "      <td>11</td>\n",
       "      <td>33</td>\n",
       "      <td>23</td>\n",
       "      <td>7</td>\n",
       "      <td>6</td>\n",
       "      <td>18</td>\n",
       "    </tr>\n",
       "    <tr>\n",
       "      <th>13</th>\n",
       "      <td>12</td>\n",
       "      <td>31</td>\n",
       "      <td>14</td>\n",
       "      <td>15</td>\n",
       "      <td>12</td>\n",
       "      <td>45</td>\n",
       "    </tr>\n",
       "    <tr>\n",
       "      <th>14</th>\n",
       "      <td>13</td>\n",
       "      <td>21</td>\n",
       "      <td>20</td>\n",
       "      <td>7</td>\n",
       "      <td>7</td>\n",
       "      <td>6</td>\n",
       "    </tr>\n",
       "    <tr>\n",
       "      <th>15</th>\n",
       "      <td>14</td>\n",
       "      <td>16</td>\n",
       "      <td>4</td>\n",
       "      <td>7</td>\n",
       "      <td>7</td>\n",
       "      <td>4</td>\n",
       "    </tr>\n",
       "    <tr>\n",
       "      <th>16</th>\n",
       "      <td>15</td>\n",
       "      <td>19</td>\n",
       "      <td>12</td>\n",
       "      <td>6</td>\n",
       "      <td>6</td>\n",
       "      <td>5</td>\n",
       "    </tr>\n",
       "    <tr>\n",
       "      <th>17</th>\n",
       "      <td>16</td>\n",
       "      <td>6</td>\n",
       "      <td>5</td>\n",
       "      <td>14</td>\n",
       "      <td>10</td>\n",
       "      <td>12</td>\n",
       "    </tr>\n",
       "    <tr>\n",
       "      <th>18</th>\n",
       "      <td>17</td>\n",
       "      <td>2</td>\n",
       "      <td>4</td>\n",
       "      <td>8</td>\n",
       "      <td>3</td>\n",
       "      <td>0</td>\n",
       "    </tr>\n",
       "    <tr>\n",
       "      <th>19</th>\n",
       "      <td>18</td>\n",
       "      <td>13</td>\n",
       "      <td>4</td>\n",
       "      <td>3</td>\n",
       "      <td>3</td>\n",
       "      <td>12</td>\n",
       "    </tr>\n",
       "    <tr>\n",
       "      <th>20</th>\n",
       "      <td>19</td>\n",
       "      <td>32</td>\n",
       "      <td>53</td>\n",
       "      <td>17</td>\n",
       "      <td>28</td>\n",
       "      <td>2</td>\n",
       "    </tr>\n",
       "    <tr>\n",
       "      <th>21</th>\n",
       "      <td>20</td>\n",
       "      <td>21</td>\n",
       "      <td>14</td>\n",
       "      <td>8</td>\n",
       "      <td>1</td>\n",
       "      <td>4</td>\n",
       "    </tr>\n",
       "    <tr>\n",
       "      <th>22</th>\n",
       "      <td>21</td>\n",
       "      <td>16</td>\n",
       "      <td>5</td>\n",
       "      <td>4</td>\n",
       "      <td>9</td>\n",
       "      <td>22</td>\n",
       "    </tr>\n",
       "    <tr>\n",
       "      <th>23</th>\n",
       "      <td>22</td>\n",
       "      <td>18</td>\n",
       "      <td>1</td>\n",
       "      <td>10</td>\n",
       "      <td>1</td>\n",
       "      <td>8</td>\n",
       "    </tr>\n",
       "    <tr>\n",
       "      <th>24</th>\n",
       "      <td>23</td>\n",
       "      <td>17</td>\n",
       "      <td>10</td>\n",
       "      <td>3</td>\n",
       "      <td>4</td>\n",
       "      <td>1</td>\n",
       "    </tr>\n",
       "    <tr>\n",
       "      <th>25</th>\n",
       "      <td>24</td>\n",
       "      <td>4</td>\n",
       "      <td>1</td>\n",
       "      <td>8</td>\n",
       "      <td>3</td>\n",
       "      <td>3</td>\n",
       "    </tr>\n",
       "  </tbody>\n",
       "</table>\n",
       "</div>"
      ],
      "text/plain": [
       "    bertopics  Reconciliation  Engagement and Communication  Clarity  \\\n",
       "0          -1              17                            15       15   \n",
       "1           0             125                            56       18   \n",
       "2           1             109                            83       16   \n",
       "3           2              90                            39       27   \n",
       "4           3              47                            48       22   \n",
       "5           4              67                            40       35   \n",
       "6           5              42                            18       23   \n",
       "7           6              16                            34       41   \n",
       "8           7              16                             9       36   \n",
       "9           8              58                            21        8   \n",
       "10          9              19                            11        9   \n",
       "11         10              28                            45        6   \n",
       "12         11              33                            23        7   \n",
       "13         12              31                            14       15   \n",
       "14         13              21                            20        7   \n",
       "15         14              16                             4        7   \n",
       "16         15              19                            12        6   \n",
       "17         16               6                             5       14   \n",
       "18         17               2                             4        8   \n",
       "19         18              13                             4        3   \n",
       "20         19              32                            53       17   \n",
       "21         20              21                            14        8   \n",
       "22         21              16                             5        4   \n",
       "23         22              18                             1       10   \n",
       "24         23              17                            10        3   \n",
       "25         24               4                             1        8   \n",
       "\n",
       "    Transparency  Environment  \n",
       "0             21            9  \n",
       "1             30           42  \n",
       "2             38           25  \n",
       "3              8           21  \n",
       "4             18            5  \n",
       "5              8           34  \n",
       "6              9            3  \n",
       "7             35            5  \n",
       "8              8            5  \n",
       "9              9            9  \n",
       "10            10           26  \n",
       "11            18            0  \n",
       "12             6           18  \n",
       "13            12           45  \n",
       "14             7            6  \n",
       "15             7            4  \n",
       "16             6            5  \n",
       "17            10           12  \n",
       "18             3            0  \n",
       "19             3           12  \n",
       "20            28            2  \n",
       "21             1            4  \n",
       "22             9           22  \n",
       "23             1            8  \n",
       "24             4            1  \n",
       "25             3            3  "
      ]
     },
     "metadata": {},
     "output_type": "display_data"
    }
   ],
   "source": [
    "display(df)"
   ]
  },
  {
   "cell_type": "code",
   "execution_count": 59,
   "metadata": {},
   "outputs": [],
   "source": [
    "# test_matrix = sum_df.pivot_table(index='theme', columns='group', values='sum_tally', aggfunc='sum')\n",
    "# test_matrix = test_matrix.fillna(0)"
   ]
  },
  {
   "cell_type": "code",
   "execution_count": 60,
   "metadata": {},
   "outputs": [
    {
     "data": {
      "text/html": [
       "<div>\n",
       "<style scoped>\n",
       "    .dataframe tbody tr th:only-of-type {\n",
       "        vertical-align: middle;\n",
       "    }\n",
       "\n",
       "    .dataframe tbody tr th {\n",
       "        vertical-align: top;\n",
       "    }\n",
       "\n",
       "    .dataframe thead th {\n",
       "        text-align: right;\n",
       "    }\n",
       "</style>\n",
       "<table border=\"1\" class=\"dataframe\">\n",
       "  <thead>\n",
       "    <tr style=\"text-align: right;\">\n",
       "      <th></th>\n",
       "      <th>BERTOPIC</th>\n",
       "      <th>CER_Themes</th>\n",
       "      <th>Count</th>\n",
       "    </tr>\n",
       "  </thead>\n",
       "  <tbody>\n",
       "    <tr>\n",
       "      <th>1</th>\n",
       "      <td>0</td>\n",
       "      <td>Reconciliation</td>\n",
       "      <td>125</td>\n",
       "    </tr>\n",
       "    <tr>\n",
       "      <th>2</th>\n",
       "      <td>1</td>\n",
       "      <td>Reconciliation</td>\n",
       "      <td>109</td>\n",
       "    </tr>\n",
       "    <tr>\n",
       "      <th>3</th>\n",
       "      <td>2</td>\n",
       "      <td>Reconciliation</td>\n",
       "      <td>90</td>\n",
       "    </tr>\n",
       "    <tr>\n",
       "      <th>28</th>\n",
       "      <td>1</td>\n",
       "      <td>Engagement and Communication</td>\n",
       "      <td>83</td>\n",
       "    </tr>\n",
       "    <tr>\n",
       "      <th>5</th>\n",
       "      <td>4</td>\n",
       "      <td>Reconciliation</td>\n",
       "      <td>67</td>\n",
       "    </tr>\n",
       "    <tr>\n",
       "      <th>...</th>\n",
       "      <td>...</td>\n",
       "      <td>...</td>\n",
       "      <td>...</td>\n",
       "    </tr>\n",
       "    <tr>\n",
       "      <th>101</th>\n",
       "      <td>22</td>\n",
       "      <td>Transparency</td>\n",
       "      <td>1</td>\n",
       "    </tr>\n",
       "    <tr>\n",
       "      <th>99</th>\n",
       "      <td>20</td>\n",
       "      <td>Transparency</td>\n",
       "      <td>1</td>\n",
       "    </tr>\n",
       "    <tr>\n",
       "      <th>128</th>\n",
       "      <td>23</td>\n",
       "      <td>Environment</td>\n",
       "      <td>1</td>\n",
       "    </tr>\n",
       "    <tr>\n",
       "      <th>115</th>\n",
       "      <td>10</td>\n",
       "      <td>Environment</td>\n",
       "      <td>0</td>\n",
       "    </tr>\n",
       "    <tr>\n",
       "      <th>122</th>\n",
       "      <td>17</td>\n",
       "      <td>Environment</td>\n",
       "      <td>0</td>\n",
       "    </tr>\n",
       "  </tbody>\n",
       "</table>\n",
       "<p>130 rows × 3 columns</p>\n",
       "</div>"
      ],
      "text/plain": [
       "     BERTOPIC                    CER_Themes  Count\n",
       "1           0                Reconciliation    125\n",
       "2           1                Reconciliation    109\n",
       "3           2                Reconciliation     90\n",
       "28          1  Engagement and Communication     83\n",
       "5           4                Reconciliation     67\n",
       "..        ...                           ...    ...\n",
       "101        22                  Transparency      1\n",
       "99         20                  Transparency      1\n",
       "128        23                   Environment      1\n",
       "115        10                   Environment      0\n",
       "122        17                   Environment      0\n",
       "\n",
       "[130 rows x 3 columns]"
      ]
     },
     "execution_count": 60,
     "metadata": {},
     "output_type": "execute_result"
    }
   ],
   "source": [
    "# Melt the DataFrame to convert columns into rows\n",
    "melted_df = df.melt(id_vars=['bertopics'], var_name='CER_Themes', value_name='Count')\n",
    "\n",
    "# Rename the 'Theme \\ Environment' column to 'Categories'\n",
    "melted_df = melted_df.rename(columns={'bertopics': 'BERTOPIC'})\n",
    "\n",
    "# Sort the DataFrame by Categories for a better presentation (optional step)\n",
    "melted_df.sort_values(by='Count', ascending=False)\n"
   ]
  },
  {
   "cell_type": "markdown",
   "metadata": {},
   "source": [
    "### Sankey Chart"
   ]
  },
  {
   "cell_type": "code",
   "execution_count": 29,
   "metadata": {},
   "outputs": [
    {
     "ename": "OSError",
     "evalue": "Cannot save file into a non-existent directory: '\\Users\\Sebastian\\OneDrive\\2023 Summer\\CER-Theme-Classification\\data'",
     "output_type": "error",
     "traceback": [
      "\u001b[1;31m---------------------------------------------------------------------------\u001b[0m",
      "\u001b[1;31mOSError\u001b[0m                                   Traceback (most recent call last)",
      "Cell \u001b[1;32mIn[29], line 6\u001b[0m\n\u001b[0;32m      4\u001b[0m \u001b[39mfrom\u001b[39;00m \u001b[39mpathlib\u001b[39;00m \u001b[39mimport\u001b[39;00m Path  \n\u001b[0;32m      5\u001b[0m filepath \u001b[39m=\u001b[39m Path(\u001b[39m'\u001b[39m\u001b[39m/Users/Sebastian/OneDrive/2023 Summer/CER-Theme-Classification/data/sankey.csv\u001b[39m\u001b[39m'\u001b[39m)\n\u001b[1;32m----> 6\u001b[0m filtered_df\u001b[39m.\u001b[39mto_csv(filepath)\n",
      "File \u001b[1;32mc:\\Users\\Sebastian\\anaconda3\\envs\\bertopicenv\\Lib\\site-packages\\pandas\\core\\generic.py:3772\u001b[0m, in \u001b[0;36mNDFrame.to_csv\u001b[1;34m(self, path_or_buf, sep, na_rep, float_format, columns, header, index, index_label, mode, encoding, compression, quoting, quotechar, lineterminator, chunksize, date_format, doublequote, escapechar, decimal, errors, storage_options)\u001b[0m\n\u001b[0;32m   3761\u001b[0m df \u001b[39m=\u001b[39m \u001b[39mself\u001b[39m \u001b[39mif\u001b[39;00m \u001b[39misinstance\u001b[39m(\u001b[39mself\u001b[39m, ABCDataFrame) \u001b[39melse\u001b[39;00m \u001b[39mself\u001b[39m\u001b[39m.\u001b[39mto_frame()\n\u001b[0;32m   3763\u001b[0m formatter \u001b[39m=\u001b[39m DataFrameFormatter(\n\u001b[0;32m   3764\u001b[0m     frame\u001b[39m=\u001b[39mdf,\n\u001b[0;32m   3765\u001b[0m     header\u001b[39m=\u001b[39mheader,\n\u001b[1;32m   (...)\u001b[0m\n\u001b[0;32m   3769\u001b[0m     decimal\u001b[39m=\u001b[39mdecimal,\n\u001b[0;32m   3770\u001b[0m )\n\u001b[1;32m-> 3772\u001b[0m \u001b[39mreturn\u001b[39;00m DataFrameRenderer(formatter)\u001b[39m.\u001b[39mto_csv(\n\u001b[0;32m   3773\u001b[0m     path_or_buf,\n\u001b[0;32m   3774\u001b[0m     lineterminator\u001b[39m=\u001b[39mlineterminator,\n\u001b[0;32m   3775\u001b[0m     sep\u001b[39m=\u001b[39msep,\n\u001b[0;32m   3776\u001b[0m     encoding\u001b[39m=\u001b[39mencoding,\n\u001b[0;32m   3777\u001b[0m     errors\u001b[39m=\u001b[39merrors,\n\u001b[0;32m   3778\u001b[0m     compression\u001b[39m=\u001b[39mcompression,\n\u001b[0;32m   3779\u001b[0m     quoting\u001b[39m=\u001b[39mquoting,\n\u001b[0;32m   3780\u001b[0m     columns\u001b[39m=\u001b[39mcolumns,\n\u001b[0;32m   3781\u001b[0m     index_label\u001b[39m=\u001b[39mindex_label,\n\u001b[0;32m   3782\u001b[0m     mode\u001b[39m=\u001b[39mmode,\n\u001b[0;32m   3783\u001b[0m     chunksize\u001b[39m=\u001b[39mchunksize,\n\u001b[0;32m   3784\u001b[0m     quotechar\u001b[39m=\u001b[39mquotechar,\n\u001b[0;32m   3785\u001b[0m     date_format\u001b[39m=\u001b[39mdate_format,\n\u001b[0;32m   3786\u001b[0m     doublequote\u001b[39m=\u001b[39mdoublequote,\n\u001b[0;32m   3787\u001b[0m     escapechar\u001b[39m=\u001b[39mescapechar,\n\u001b[0;32m   3788\u001b[0m     storage_options\u001b[39m=\u001b[39mstorage_options,\n\u001b[0;32m   3789\u001b[0m )\n",
      "File \u001b[1;32mc:\\Users\\Sebastian\\anaconda3\\envs\\bertopicenv\\Lib\\site-packages\\pandas\\io\\formats\\format.py:1186\u001b[0m, in \u001b[0;36mDataFrameRenderer.to_csv\u001b[1;34m(self, path_or_buf, encoding, sep, columns, index_label, mode, compression, quoting, quotechar, lineterminator, chunksize, date_format, doublequote, escapechar, errors, storage_options)\u001b[0m\n\u001b[0;32m   1165\u001b[0m     created_buffer \u001b[39m=\u001b[39m \u001b[39mFalse\u001b[39;00m\n\u001b[0;32m   1167\u001b[0m csv_formatter \u001b[39m=\u001b[39m CSVFormatter(\n\u001b[0;32m   1168\u001b[0m     path_or_buf\u001b[39m=\u001b[39mpath_or_buf,\n\u001b[0;32m   1169\u001b[0m     lineterminator\u001b[39m=\u001b[39mlineterminator,\n\u001b[1;32m   (...)\u001b[0m\n\u001b[0;32m   1184\u001b[0m     formatter\u001b[39m=\u001b[39m\u001b[39mself\u001b[39m\u001b[39m.\u001b[39mfmt,\n\u001b[0;32m   1185\u001b[0m )\n\u001b[1;32m-> 1186\u001b[0m csv_formatter\u001b[39m.\u001b[39msave()\n\u001b[0;32m   1188\u001b[0m \u001b[39mif\u001b[39;00m created_buffer:\n\u001b[0;32m   1189\u001b[0m     \u001b[39massert\u001b[39;00m \u001b[39misinstance\u001b[39m(path_or_buf, StringIO)\n",
      "File \u001b[1;32mc:\\Users\\Sebastian\\anaconda3\\envs\\bertopicenv\\Lib\\site-packages\\pandas\\io\\formats\\csvs.py:240\u001b[0m, in \u001b[0;36mCSVFormatter.save\u001b[1;34m(self)\u001b[0m\n\u001b[0;32m    236\u001b[0m \u001b[39m\u001b[39m\u001b[39m\"\"\"\u001b[39;00m\n\u001b[0;32m    237\u001b[0m \u001b[39mCreate the writer & save.\u001b[39;00m\n\u001b[0;32m    238\u001b[0m \u001b[39m\"\"\"\u001b[39;00m\n\u001b[0;32m    239\u001b[0m \u001b[39m# apply compression and byte/text conversion\u001b[39;00m\n\u001b[1;32m--> 240\u001b[0m \u001b[39mwith\u001b[39;00m get_handle(\n\u001b[0;32m    241\u001b[0m     \u001b[39mself\u001b[39m\u001b[39m.\u001b[39mfilepath_or_buffer,\n\u001b[0;32m    242\u001b[0m     \u001b[39mself\u001b[39m\u001b[39m.\u001b[39mmode,\n\u001b[0;32m    243\u001b[0m     encoding\u001b[39m=\u001b[39m\u001b[39mself\u001b[39m\u001b[39m.\u001b[39mencoding,\n\u001b[0;32m    244\u001b[0m     errors\u001b[39m=\u001b[39m\u001b[39mself\u001b[39m\u001b[39m.\u001b[39merrors,\n\u001b[0;32m    245\u001b[0m     compression\u001b[39m=\u001b[39m\u001b[39mself\u001b[39m\u001b[39m.\u001b[39mcompression,\n\u001b[0;32m    246\u001b[0m     storage_options\u001b[39m=\u001b[39m\u001b[39mself\u001b[39m\u001b[39m.\u001b[39mstorage_options,\n\u001b[0;32m    247\u001b[0m ) \u001b[39mas\u001b[39;00m handles:\n\u001b[0;32m    248\u001b[0m     \u001b[39m# Note: self.encoding is irrelevant here\u001b[39;00m\n\u001b[0;32m    249\u001b[0m     \u001b[39mself\u001b[39m\u001b[39m.\u001b[39mwriter \u001b[39m=\u001b[39m csvlib\u001b[39m.\u001b[39mwriter(\n\u001b[0;32m    250\u001b[0m         handles\u001b[39m.\u001b[39mhandle,\n\u001b[0;32m    251\u001b[0m         lineterminator\u001b[39m=\u001b[39m\u001b[39mself\u001b[39m\u001b[39m.\u001b[39mlineterminator,\n\u001b[1;32m   (...)\u001b[0m\n\u001b[0;32m    256\u001b[0m         quotechar\u001b[39m=\u001b[39m\u001b[39mself\u001b[39m\u001b[39m.\u001b[39mquotechar,\n\u001b[0;32m    257\u001b[0m     )\n\u001b[0;32m    259\u001b[0m     \u001b[39mself\u001b[39m\u001b[39m.\u001b[39m_save()\n",
      "File \u001b[1;32mc:\\Users\\Sebastian\\anaconda3\\envs\\bertopicenv\\Lib\\site-packages\\pandas\\io\\common.py:737\u001b[0m, in \u001b[0;36mget_handle\u001b[1;34m(path_or_buf, mode, encoding, compression, memory_map, is_text, errors, storage_options)\u001b[0m\n\u001b[0;32m    735\u001b[0m \u001b[39m# Only for write methods\u001b[39;00m\n\u001b[0;32m    736\u001b[0m \u001b[39mif\u001b[39;00m \u001b[39m\"\u001b[39m\u001b[39mr\u001b[39m\u001b[39m\"\u001b[39m \u001b[39mnot\u001b[39;00m \u001b[39min\u001b[39;00m mode \u001b[39mand\u001b[39;00m is_path:\n\u001b[1;32m--> 737\u001b[0m     check_parent_directory(\u001b[39mstr\u001b[39m(handle))\n\u001b[0;32m    739\u001b[0m \u001b[39mif\u001b[39;00m compression:\n\u001b[0;32m    740\u001b[0m     \u001b[39mif\u001b[39;00m compression \u001b[39m!=\u001b[39m \u001b[39m\"\u001b[39m\u001b[39mzstd\u001b[39m\u001b[39m\"\u001b[39m:\n\u001b[0;32m    741\u001b[0m         \u001b[39m# compression libraries do not like an explicit text-mode\u001b[39;00m\n",
      "File \u001b[1;32mc:\\Users\\Sebastian\\anaconda3\\envs\\bertopicenv\\Lib\\site-packages\\pandas\\io\\common.py:600\u001b[0m, in \u001b[0;36mcheck_parent_directory\u001b[1;34m(path)\u001b[0m\n\u001b[0;32m    598\u001b[0m parent \u001b[39m=\u001b[39m Path(path)\u001b[39m.\u001b[39mparent\n\u001b[0;32m    599\u001b[0m \u001b[39mif\u001b[39;00m \u001b[39mnot\u001b[39;00m parent\u001b[39m.\u001b[39mis_dir():\n\u001b[1;32m--> 600\u001b[0m     \u001b[39mraise\u001b[39;00m \u001b[39mOSError\u001b[39;00m(\u001b[39mrf\u001b[39m\u001b[39m\"\u001b[39m\u001b[39mCannot save file into a non-existent directory: \u001b[39m\u001b[39m'\u001b[39m\u001b[39m{\u001b[39;00mparent\u001b[39m}\u001b[39;00m\u001b[39m'\u001b[39m\u001b[39m\"\u001b[39m)\n",
      "\u001b[1;31mOSError\u001b[0m: Cannot save file into a non-existent directory: '\\Users\\Sebastian\\OneDrive\\2023 Summer\\CER-Theme-Classification\\data'"
     ]
    }
   ],
   "source": [
    "# Export\n",
    "\n",
    "# from pathlib import Path  \n",
    "# filepath = Path('/Users/Sebastian/OneDrive/2023 Summer/CER-Theme-Classification/data/sankey.csv')\n",
    "# melted_df.to_csv(filepath)\n"
   ]
  },
  {
   "cell_type": "markdown",
   "metadata": {},
   "source": [
    "### Flag based on BERTOPIC Frequency & Outliers"
   ]
  },
  {
   "cell_type": "code",
   "execution_count": 71,
   "metadata": {},
   "outputs": [
    {
     "data": {
      "text/html": [
       "<div>\n",
       "<style scoped>\n",
       "    .dataframe tbody tr th:only-of-type {\n",
       "        vertical-align: middle;\n",
       "    }\n",
       "\n",
       "    .dataframe tbody tr th {\n",
       "        vertical-align: top;\n",
       "    }\n",
       "\n",
       "    .dataframe thead th {\n",
       "        text-align: right;\n",
       "    }\n",
       "</style>\n",
       "<table border=\"1\" class=\"dataframe\">\n",
       "  <thead>\n",
       "    <tr style=\"text-align: right;\">\n",
       "      <th></th>\n",
       "      <th>BERTOPIC</th>\n",
       "      <th>CER_Themes</th>\n",
       "      <th>Count</th>\n",
       "    </tr>\n",
       "  </thead>\n",
       "  <tbody>\n",
       "    <tr>\n",
       "      <th>71</th>\n",
       "      <td>18</td>\n",
       "      <td>Clarity</td>\n",
       "      <td>3</td>\n",
       "    </tr>\n",
       "    <tr>\n",
       "      <th>76</th>\n",
       "      <td>23</td>\n",
       "      <td>Clarity</td>\n",
       "      <td>3</td>\n",
       "    </tr>\n",
       "    <tr>\n",
       "      <th>74</th>\n",
       "      <td>21</td>\n",
       "      <td>Clarity</td>\n",
       "      <td>4</td>\n",
       "    </tr>\n",
       "    <tr>\n",
       "      <th>63</th>\n",
       "      <td>10</td>\n",
       "      <td>Clarity</td>\n",
       "      <td>6</td>\n",
       "    </tr>\n",
       "    <tr>\n",
       "      <th>68</th>\n",
       "      <td>15</td>\n",
       "      <td>Clarity</td>\n",
       "      <td>6</td>\n",
       "    </tr>\n",
       "    <tr>\n",
       "      <th>49</th>\n",
       "      <td>22</td>\n",
       "      <td>Engagement and Communication</td>\n",
       "      <td>1</td>\n",
       "    </tr>\n",
       "    <tr>\n",
       "      <th>51</th>\n",
       "      <td>24</td>\n",
       "      <td>Engagement and Communication</td>\n",
       "      <td>1</td>\n",
       "    </tr>\n",
       "    <tr>\n",
       "      <th>41</th>\n",
       "      <td>14</td>\n",
       "      <td>Engagement and Communication</td>\n",
       "      <td>4</td>\n",
       "    </tr>\n",
       "    <tr>\n",
       "      <th>44</th>\n",
       "      <td>17</td>\n",
       "      <td>Engagement and Communication</td>\n",
       "      <td>4</td>\n",
       "    </tr>\n",
       "    <tr>\n",
       "      <th>45</th>\n",
       "      <td>18</td>\n",
       "      <td>Engagement and Communication</td>\n",
       "      <td>4</td>\n",
       "    </tr>\n",
       "    <tr>\n",
       "      <th>128</th>\n",
       "      <td>23</td>\n",
       "      <td>Environment</td>\n",
       "      <td>1</td>\n",
       "    </tr>\n",
       "    <tr>\n",
       "      <th>124</th>\n",
       "      <td>19</td>\n",
       "      <td>Environment</td>\n",
       "      <td>2</td>\n",
       "    </tr>\n",
       "    <tr>\n",
       "      <th>110</th>\n",
       "      <td>5</td>\n",
       "      <td>Environment</td>\n",
       "      <td>3</td>\n",
       "    </tr>\n",
       "    <tr>\n",
       "      <th>129</th>\n",
       "      <td>24</td>\n",
       "      <td>Environment</td>\n",
       "      <td>3</td>\n",
       "    </tr>\n",
       "    <tr>\n",
       "      <th>119</th>\n",
       "      <td>14</td>\n",
       "      <td>Environment</td>\n",
       "      <td>4</td>\n",
       "    </tr>\n",
       "    <tr>\n",
       "      <th>18</th>\n",
       "      <td>17</td>\n",
       "      <td>Reconciliation</td>\n",
       "      <td>2</td>\n",
       "    </tr>\n",
       "    <tr>\n",
       "      <th>25</th>\n",
       "      <td>24</td>\n",
       "      <td>Reconciliation</td>\n",
       "      <td>4</td>\n",
       "    </tr>\n",
       "    <tr>\n",
       "      <th>17</th>\n",
       "      <td>16</td>\n",
       "      <td>Reconciliation</td>\n",
       "      <td>6</td>\n",
       "    </tr>\n",
       "    <tr>\n",
       "      <th>19</th>\n",
       "      <td>18</td>\n",
       "      <td>Reconciliation</td>\n",
       "      <td>13</td>\n",
       "    </tr>\n",
       "    <tr>\n",
       "      <th>7</th>\n",
       "      <td>6</td>\n",
       "      <td>Reconciliation</td>\n",
       "      <td>16</td>\n",
       "    </tr>\n",
       "    <tr>\n",
       "      <th>99</th>\n",
       "      <td>20</td>\n",
       "      <td>Transparency</td>\n",
       "      <td>1</td>\n",
       "    </tr>\n",
       "    <tr>\n",
       "      <th>101</th>\n",
       "      <td>22</td>\n",
       "      <td>Transparency</td>\n",
       "      <td>1</td>\n",
       "    </tr>\n",
       "    <tr>\n",
       "      <th>96</th>\n",
       "      <td>17</td>\n",
       "      <td>Transparency</td>\n",
       "      <td>3</td>\n",
       "    </tr>\n",
       "    <tr>\n",
       "      <th>97</th>\n",
       "      <td>18</td>\n",
       "      <td>Transparency</td>\n",
       "      <td>3</td>\n",
       "    </tr>\n",
       "    <tr>\n",
       "      <th>103</th>\n",
       "      <td>24</td>\n",
       "      <td>Transparency</td>\n",
       "      <td>3</td>\n",
       "    </tr>\n",
       "  </tbody>\n",
       "</table>\n",
       "</div>"
      ],
      "text/plain": [
       "     BERTOPIC                    CER_Themes  Count\n",
       "71         18                       Clarity      3\n",
       "76         23                       Clarity      3\n",
       "74         21                       Clarity      4\n",
       "63         10                       Clarity      6\n",
       "68         15                       Clarity      6\n",
       "49         22  Engagement and Communication      1\n",
       "51         24  Engagement and Communication      1\n",
       "41         14  Engagement and Communication      4\n",
       "44         17  Engagement and Communication      4\n",
       "45         18  Engagement and Communication      4\n",
       "128        23                   Environment      1\n",
       "124        19                   Environment      2\n",
       "110         5                   Environment      3\n",
       "129        24                   Environment      3\n",
       "119        14                   Environment      4\n",
       "18         17                Reconciliation      2\n",
       "25         24                Reconciliation      4\n",
       "17         16                Reconciliation      6\n",
       "19         18                Reconciliation     13\n",
       "7           6                Reconciliation     16\n",
       "99         20                  Transparency      1\n",
       "101        22                  Transparency      1\n",
       "96         17                  Transparency      3\n",
       "97         18                  Transparency      3\n",
       "103        24                  Transparency      3"
      ]
     },
     "metadata": {},
     "output_type": "display_data"
    }
   ],
   "source": [
    "# Sort the DataFrame by category and count in descending order\n",
    "df_sorted = melted_df.sort_values(['CER_Themes', 'Count'])\n",
    "\n",
    "# Filter out entries = 0\n",
    "df_sorted = df_sorted.loc[df_sorted['Count'] != 0]\n",
    "\n",
    "# Use groupby with head(5) to get the bottom 5 subcategories for each CER Theme\n",
    "bottom_five_subcategories = df_sorted.groupby('CER_Themes').head(5)\n",
    "\n",
    "# Display the result\n",
    "display(bottom_five_subcategories)"
   ]
  },
  {
   "cell_type": "code",
   "execution_count": 73,
   "metadata": {},
   "outputs": [
    {
     "data": {
      "text/html": [
       "<div>\n",
       "<style scoped>\n",
       "    .dataframe tbody tr th:only-of-type {\n",
       "        vertical-align: middle;\n",
       "    }\n",
       "\n",
       "    .dataframe tbody tr th {\n",
       "        vertical-align: top;\n",
       "    }\n",
       "\n",
       "    .dataframe thead th {\n",
       "        text-align: right;\n",
       "    }\n",
       "</style>\n",
       "<table border=\"1\" class=\"dataframe\">\n",
       "  <thead>\n",
       "    <tr style=\"text-align: right;\">\n",
       "      <th></th>\n",
       "      <th>BERTOPIC</th>\n",
       "      <th>CER_Themes</th>\n",
       "      <th>Count</th>\n",
       "      <th>Concatenate</th>\n",
       "    </tr>\n",
       "  </thead>\n",
       "  <tbody>\n",
       "    <tr>\n",
       "      <th>71</th>\n",
       "      <td>18</td>\n",
       "      <td>Clarity</td>\n",
       "      <td>3</td>\n",
       "      <td>Clarity+18</td>\n",
       "    </tr>\n",
       "    <tr>\n",
       "      <th>76</th>\n",
       "      <td>23</td>\n",
       "      <td>Clarity</td>\n",
       "      <td>3</td>\n",
       "      <td>Clarity+23</td>\n",
       "    </tr>\n",
       "    <tr>\n",
       "      <th>74</th>\n",
       "      <td>21</td>\n",
       "      <td>Clarity</td>\n",
       "      <td>4</td>\n",
       "      <td>Clarity+21</td>\n",
       "    </tr>\n",
       "    <tr>\n",
       "      <th>63</th>\n",
       "      <td>10</td>\n",
       "      <td>Clarity</td>\n",
       "      <td>6</td>\n",
       "      <td>Clarity+10</td>\n",
       "    </tr>\n",
       "    <tr>\n",
       "      <th>68</th>\n",
       "      <td>15</td>\n",
       "      <td>Clarity</td>\n",
       "      <td>6</td>\n",
       "      <td>Clarity+15</td>\n",
       "    </tr>\n",
       "    <tr>\n",
       "      <th>52</th>\n",
       "      <td>-1</td>\n",
       "      <td>Clarity</td>\n",
       "      <td>15</td>\n",
       "      <td>Clarity+-1</td>\n",
       "    </tr>\n",
       "    <tr>\n",
       "      <th>49</th>\n",
       "      <td>22</td>\n",
       "      <td>Engagement and Communication</td>\n",
       "      <td>1</td>\n",
       "      <td>Engagement and Communication+22</td>\n",
       "    </tr>\n",
       "    <tr>\n",
       "      <th>51</th>\n",
       "      <td>24</td>\n",
       "      <td>Engagement and Communication</td>\n",
       "      <td>1</td>\n",
       "      <td>Engagement and Communication+24</td>\n",
       "    </tr>\n",
       "    <tr>\n",
       "      <th>41</th>\n",
       "      <td>14</td>\n",
       "      <td>Engagement and Communication</td>\n",
       "      <td>4</td>\n",
       "      <td>Engagement and Communication+14</td>\n",
       "    </tr>\n",
       "    <tr>\n",
       "      <th>44</th>\n",
       "      <td>17</td>\n",
       "      <td>Engagement and Communication</td>\n",
       "      <td>4</td>\n",
       "      <td>Engagement and Communication+17</td>\n",
       "    </tr>\n",
       "    <tr>\n",
       "      <th>45</th>\n",
       "      <td>18</td>\n",
       "      <td>Engagement and Communication</td>\n",
       "      <td>4</td>\n",
       "      <td>Engagement and Communication+18</td>\n",
       "    </tr>\n",
       "    <tr>\n",
       "      <th>26</th>\n",
       "      <td>-1</td>\n",
       "      <td>Engagement and Communication</td>\n",
       "      <td>15</td>\n",
       "      <td>Engagement and Communication+-1</td>\n",
       "    </tr>\n",
       "    <tr>\n",
       "      <th>128</th>\n",
       "      <td>23</td>\n",
       "      <td>Environment</td>\n",
       "      <td>1</td>\n",
       "      <td>Environment+23</td>\n",
       "    </tr>\n",
       "    <tr>\n",
       "      <th>124</th>\n",
       "      <td>19</td>\n",
       "      <td>Environment</td>\n",
       "      <td>2</td>\n",
       "      <td>Environment+19</td>\n",
       "    </tr>\n",
       "    <tr>\n",
       "      <th>110</th>\n",
       "      <td>5</td>\n",
       "      <td>Environment</td>\n",
       "      <td>3</td>\n",
       "      <td>Environment+5</td>\n",
       "    </tr>\n",
       "    <tr>\n",
       "      <th>129</th>\n",
       "      <td>24</td>\n",
       "      <td>Environment</td>\n",
       "      <td>3</td>\n",
       "      <td>Environment+24</td>\n",
       "    </tr>\n",
       "    <tr>\n",
       "      <th>119</th>\n",
       "      <td>14</td>\n",
       "      <td>Environment</td>\n",
       "      <td>4</td>\n",
       "      <td>Environment+14</td>\n",
       "    </tr>\n",
       "    <tr>\n",
       "      <th>104</th>\n",
       "      <td>-1</td>\n",
       "      <td>Environment</td>\n",
       "      <td>9</td>\n",
       "      <td>Environment+-1</td>\n",
       "    </tr>\n",
       "    <tr>\n",
       "      <th>18</th>\n",
       "      <td>17</td>\n",
       "      <td>Reconciliation</td>\n",
       "      <td>2</td>\n",
       "      <td>Reconciliation+17</td>\n",
       "    </tr>\n",
       "    <tr>\n",
       "      <th>25</th>\n",
       "      <td>24</td>\n",
       "      <td>Reconciliation</td>\n",
       "      <td>4</td>\n",
       "      <td>Reconciliation+24</td>\n",
       "    </tr>\n",
       "    <tr>\n",
       "      <th>17</th>\n",
       "      <td>16</td>\n",
       "      <td>Reconciliation</td>\n",
       "      <td>6</td>\n",
       "      <td>Reconciliation+16</td>\n",
       "    </tr>\n",
       "    <tr>\n",
       "      <th>19</th>\n",
       "      <td>18</td>\n",
       "      <td>Reconciliation</td>\n",
       "      <td>13</td>\n",
       "      <td>Reconciliation+18</td>\n",
       "    </tr>\n",
       "    <tr>\n",
       "      <th>7</th>\n",
       "      <td>6</td>\n",
       "      <td>Reconciliation</td>\n",
       "      <td>16</td>\n",
       "      <td>Reconciliation+6</td>\n",
       "    </tr>\n",
       "    <tr>\n",
       "      <th>0</th>\n",
       "      <td>-1</td>\n",
       "      <td>Reconciliation</td>\n",
       "      <td>17</td>\n",
       "      <td>Reconciliation+-1</td>\n",
       "    </tr>\n",
       "    <tr>\n",
       "      <th>99</th>\n",
       "      <td>20</td>\n",
       "      <td>Transparency</td>\n",
       "      <td>1</td>\n",
       "      <td>Transparency+20</td>\n",
       "    </tr>\n",
       "    <tr>\n",
       "      <th>101</th>\n",
       "      <td>22</td>\n",
       "      <td>Transparency</td>\n",
       "      <td>1</td>\n",
       "      <td>Transparency+22</td>\n",
       "    </tr>\n",
       "    <tr>\n",
       "      <th>96</th>\n",
       "      <td>17</td>\n",
       "      <td>Transparency</td>\n",
       "      <td>3</td>\n",
       "      <td>Transparency+17</td>\n",
       "    </tr>\n",
       "    <tr>\n",
       "      <th>97</th>\n",
       "      <td>18</td>\n",
       "      <td>Transparency</td>\n",
       "      <td>3</td>\n",
       "      <td>Transparency+18</td>\n",
       "    </tr>\n",
       "    <tr>\n",
       "      <th>103</th>\n",
       "      <td>24</td>\n",
       "      <td>Transparency</td>\n",
       "      <td>3</td>\n",
       "      <td>Transparency+24</td>\n",
       "    </tr>\n",
       "    <tr>\n",
       "      <th>78</th>\n",
       "      <td>-1</td>\n",
       "      <td>Transparency</td>\n",
       "      <td>21</td>\n",
       "      <td>Transparency+-1</td>\n",
       "    </tr>\n",
       "  </tbody>\n",
       "</table>\n",
       "</div>"
      ],
      "text/plain": [
       "     BERTOPIC                    CER_Themes  Count  \\\n",
       "71         18                       Clarity      3   \n",
       "76         23                       Clarity      3   \n",
       "74         21                       Clarity      4   \n",
       "63         10                       Clarity      6   \n",
       "68         15                       Clarity      6   \n",
       "52         -1                       Clarity     15   \n",
       "49         22  Engagement and Communication      1   \n",
       "51         24  Engagement and Communication      1   \n",
       "41         14  Engagement and Communication      4   \n",
       "44         17  Engagement and Communication      4   \n",
       "45         18  Engagement and Communication      4   \n",
       "26         -1  Engagement and Communication     15   \n",
       "128        23                   Environment      1   \n",
       "124        19                   Environment      2   \n",
       "110         5                   Environment      3   \n",
       "129        24                   Environment      3   \n",
       "119        14                   Environment      4   \n",
       "104        -1                   Environment      9   \n",
       "18         17                Reconciliation      2   \n",
       "25         24                Reconciliation      4   \n",
       "17         16                Reconciliation      6   \n",
       "19         18                Reconciliation     13   \n",
       "7           6                Reconciliation     16   \n",
       "0          -1                Reconciliation     17   \n",
       "99         20                  Transparency      1   \n",
       "101        22                  Transparency      1   \n",
       "96         17                  Transparency      3   \n",
       "97         18                  Transparency      3   \n",
       "103        24                  Transparency      3   \n",
       "78         -1                  Transparency     21   \n",
       "\n",
       "                         Concatenate  \n",
       "71                        Clarity+18  \n",
       "76                        Clarity+23  \n",
       "74                        Clarity+21  \n",
       "63                        Clarity+10  \n",
       "68                        Clarity+15  \n",
       "52                        Clarity+-1  \n",
       "49   Engagement and Communication+22  \n",
       "51   Engagement and Communication+24  \n",
       "41   Engagement and Communication+14  \n",
       "44   Engagement and Communication+17  \n",
       "45   Engagement and Communication+18  \n",
       "26   Engagement and Communication+-1  \n",
       "128                   Environment+23  \n",
       "124                   Environment+19  \n",
       "110                    Environment+5  \n",
       "129                   Environment+24  \n",
       "119                   Environment+14  \n",
       "104                   Environment+-1  \n",
       "18                 Reconciliation+17  \n",
       "25                 Reconciliation+24  \n",
       "17                 Reconciliation+16  \n",
       "19                 Reconciliation+18  \n",
       "7                   Reconciliation+6  \n",
       "0                  Reconciliation+-1  \n",
       "99                   Transparency+20  \n",
       "101                  Transparency+22  \n",
       "96                   Transparency+17  \n",
       "97                   Transparency+18  \n",
       "103                  Transparency+24  \n",
       "78                   Transparency+-1  "
      ]
     },
     "metadata": {},
     "output_type": "display_data"
    }
   ],
   "source": [
    "# Select all the entries where 'BERTOPIC' is equal to -1 for each 'CER_Themes'\n",
    "selected_entries = melted_df.loc[melted_df['BERTOPIC'] == -1]\n",
    "\n",
    "# Append selected_entries to bottom_five_subcategories\n",
    "result_dataset = pd.concat([bottom_five_subcategories, selected_entries])\n",
    "\n",
    "#Concatenated ID\n",
    "result_dataset[\"Concatenate\"] = result_dataset['CER_Themes'].astype(str) +\"+\"+ result_dataset[\"BERTOPIC\"].astype(str)\n",
    "\n",
    "display(result_dataset.sort_values(['CER_Themes', 'Count']))"
   ]
  },
  {
   "cell_type": "code",
   "execution_count": 74,
   "metadata": {},
   "outputs": [],
   "source": [
    "# Split themes in \"themes\" column into a single \"theme\" per row\n",
    "frequent[\"theme\"] = frequent[\"themes\"].str.split(\",\")\n",
    "frequent[\"theme\"] = frequent[\"theme\"].apply(lambda x: [s.strip() for s in x])\n",
    "opr_exploded_theme = frequent.explode(\"theme\")\n",
    "\n",
    "# Create concatenated ID in OPR Exploded Data\n",
    "opr_exploded_theme[\"Concatenate\"] = opr_exploded_theme['theme'].astype(str) +\"+\"+ opr_exploded_theme[\"bertopics\"].astype(str)\n",
    "\n",
    "# Potential Outliers\n",
    "BERTOPIC_Outliers = opr_exploded_theme[opr_exploded_theme[\"Concatenate\"].isin(result_dataset[\"Concatenate\"])]"
   ]
  },
  {
   "cell_type": "code",
   "execution_count": 75,
   "metadata": {},
   "outputs": [
    {
     "data": {
      "text/html": [
       "<div>\n",
       "<style scoped>\n",
       "    .dataframe tbody tr th:only-of-type {\n",
       "        vertical-align: middle;\n",
       "    }\n",
       "\n",
       "    .dataframe tbody tr th {\n",
       "        vertical-align: top;\n",
       "    }\n",
       "\n",
       "    .dataframe thead th {\n",
       "        text-align: right;\n",
       "    }\n",
       "</style>\n",
       "<table border=\"1\" class=\"dataframe\">\n",
       "  <thead>\n",
       "    <tr style=\"text-align: right;\">\n",
       "      <th></th>\n",
       "      <th>group</th>\n",
       "      <th>question_num</th>\n",
       "      <th>question_text</th>\n",
       "      <th>response_text</th>\n",
       "      <th>tags</th>\n",
       "      <th>themes</th>\n",
       "      <th>raw_text</th>\n",
       "      <th>Index</th>\n",
       "      <th>bertopics</th>\n",
       "      <th>theme</th>\n",
       "      <th>Concatenate</th>\n",
       "    </tr>\n",
       "  </thead>\n",
       "  <tbody>\n",
       "    <tr>\n",
       "      <th>1</th>\n",
       "      <td>Environmental NGO</td>\n",
       "      <td>8</td>\n",
       "      <td>How could communication and engagement require...</td>\n",
       "      <td>The OPR discussion paper has identified severa...</td>\n",
       "      <td>Jurisdictional Alignment, Education/ Training,...</td>\n",
       "      <td>Clarity, Emergency Management, Regulatory Desi...</td>\n",
       "      <td>The OPR discussion paper has identified severa...</td>\n",
       "      <td>1</td>\n",
       "      <td>19</td>\n",
       "      <td>Environment</td>\n",
       "      <td>Environment+19</td>\n",
       "    </tr>\n",
       "    <tr>\n",
       "      <th>8</th>\n",
       "      <td>Government (Fed/ Prov)</td>\n",
       "      <td>3</td>\n",
       "      <td>How can the OPR contribute to the protection o...</td>\n",
       "      <td>In B.C., the Commission maintains a commitment...</td>\n",
       "      <td>GBA+, Reclamation, Engagement Mechanisms</td>\n",
       "      <td>Socio-Economic, Environment, Engagement and Co...</td>\n",
       "      <td>In B.C., the Commission maintains a commitment...</td>\n",
       "      <td>8</td>\n",
       "      <td>5</td>\n",
       "      <td>Environment</td>\n",
       "      <td>Environment+5</td>\n",
       "    </tr>\n",
       "    <tr>\n",
       "      <th>16</th>\n",
       "      <td>Government (Fed/ Prov)</td>\n",
       "      <td>9</td>\n",
       "      <td>How could the CER improve transparency through...</td>\n",
       "      <td>Transparency could be improved by ensuring spi...</td>\n",
       "      <td>Emergency Response Planning, Information Sharing</td>\n",
       "      <td>Emergency Management, Transparency</td>\n",
       "      <td>Transparency could be improved by ensuring spi...</td>\n",
       "      <td>16</td>\n",
       "      <td>18</td>\n",
       "      <td>Transparency</td>\n",
       "      <td>Transparency+18</td>\n",
       "    </tr>\n",
       "    <tr>\n",
       "      <th>23</th>\n",
       "      <td>Government (Fed/ Prov)</td>\n",
       "      <td>16</td>\n",
       "      <td>What further clarification, in either the OPR ...</td>\n",
       "      <td>The regulatory regime in the NWT differs from ...</td>\n",
       "      <td>Need Guidance, Jurisdictional Alignment</td>\n",
       "      <td>Clarity</td>\n",
       "      <td>The regulatory regime in the NWT differs from ...</td>\n",
       "      <td>23</td>\n",
       "      <td>-1</td>\n",
       "      <td>Clarity</td>\n",
       "      <td>Clarity+-1</td>\n",
       "    </tr>\n",
       "    <tr>\n",
       "      <th>57</th>\n",
       "      <td>Indigenous</td>\n",
       "      <td>0</td>\n",
       "      <td>Other Input</td>\n",
       "      <td>The CERs Discussion Paper (2022:2) states that...</td>\n",
       "      <td>Rights and Interests, Filing Manual, Improve C...</td>\n",
       "      <td>Reconciliation, Application Stage, Regulatory ...</td>\n",
       "      <td>The CERs Discussion Paper (2022:2) states that...</td>\n",
       "      <td>57</td>\n",
       "      <td>18</td>\n",
       "      <td>Reconciliation</td>\n",
       "      <td>Reconciliation+18</td>\n",
       "    </tr>\n",
       "  </tbody>\n",
       "</table>\n",
       "</div>"
      ],
      "text/plain": [
       "                     group  question_num  \\\n",
       "1        Environmental NGO             8   \n",
       "8   Government (Fed/ Prov)             3   \n",
       "16  Government (Fed/ Prov)             9   \n",
       "23  Government (Fed/ Prov)            16   \n",
       "57              Indigenous             0   \n",
       "\n",
       "                                        question_text  \\\n",
       "1   How could communication and engagement require...   \n",
       "8   How can the OPR contribute to the protection o...   \n",
       "16  How could the CER improve transparency through...   \n",
       "23  What further clarification, in either the OPR ...   \n",
       "57                                        Other Input   \n",
       "\n",
       "                                        response_text  \\\n",
       "1   The OPR discussion paper has identified severa...   \n",
       "8   In B.C., the Commission maintains a commitment...   \n",
       "16  Transparency could be improved by ensuring spi...   \n",
       "23  The regulatory regime in the NWT differs from ...   \n",
       "57  The CERs Discussion Paper (2022:2) states that...   \n",
       "\n",
       "                                                 tags  \\\n",
       "1   Jurisdictional Alignment, Education/ Training,...   \n",
       "8            GBA+, Reclamation, Engagement Mechanisms   \n",
       "16   Emergency Response Planning, Information Sharing   \n",
       "23            Need Guidance, Jurisdictional Alignment   \n",
       "57  Rights and Interests, Filing Manual, Improve C...   \n",
       "\n",
       "                                               themes  \\\n",
       "1   Clarity, Emergency Management, Regulatory Desi...   \n",
       "8   Socio-Economic, Environment, Engagement and Co...   \n",
       "16                 Emergency Management, Transparency   \n",
       "23                                            Clarity   \n",
       "57  Reconciliation, Application Stage, Regulatory ...   \n",
       "\n",
       "                                             raw_text  Index  bertopics  \\\n",
       "1   The OPR discussion paper has identified severa...      1         19   \n",
       "8   In B.C., the Commission maintains a commitment...      8          5   \n",
       "16  Transparency could be improved by ensuring spi...     16         18   \n",
       "23  The regulatory regime in the NWT differs from ...     23         -1   \n",
       "57  The CERs Discussion Paper (2022:2) states that...     57         18   \n",
       "\n",
       "             theme        Concatenate  \n",
       "1      Environment     Environment+19  \n",
       "8      Environment      Environment+5  \n",
       "16    Transparency    Transparency+18  \n",
       "23         Clarity         Clarity+-1  \n",
       "57  Reconciliation  Reconciliation+18  "
      ]
     },
     "execution_count": 75,
     "metadata": {},
     "output_type": "execute_result"
    }
   ],
   "source": [
    "BERTOPIC_Outliers.head(5)"
   ]
  },
  {
   "cell_type": "code",
   "execution_count": 76,
   "metadata": {},
   "outputs": [
    {
     "data": {
      "text/html": [
       "<div>\n",
       "<style scoped>\n",
       "    .dataframe tbody tr th:only-of-type {\n",
       "        vertical-align: middle;\n",
       "    }\n",
       "\n",
       "    .dataframe tbody tr th {\n",
       "        vertical-align: top;\n",
       "    }\n",
       "\n",
       "    .dataframe thead th {\n",
       "        text-align: right;\n",
       "    }\n",
       "</style>\n",
       "<table border=\"1\" class=\"dataframe\">\n",
       "  <thead>\n",
       "    <tr style=\"text-align: right;\">\n",
       "      <th></th>\n",
       "      <th>Index</th>\n",
       "      <th>raw_text</th>\n",
       "      <th>themes</th>\n",
       "      <th>theme</th>\n",
       "      <th>bertopics</th>\n",
       "      <th>group</th>\n",
       "      <th>tags</th>\n",
       "    </tr>\n",
       "  </thead>\n",
       "  <tbody>\n",
       "    <tr>\n",
       "      <th>1</th>\n",
       "      <td>1</td>\n",
       "      <td>The OPR discussion paper has identified severa...</td>\n",
       "      <td>Clarity, Emergency Management, Regulatory Desi...</td>\n",
       "      <td>Environment</td>\n",
       "      <td>19</td>\n",
       "      <td>Environmental NGO</td>\n",
       "      <td>Jurisdictional Alignment, Education/ Training,...</td>\n",
       "    </tr>\n",
       "    <tr>\n",
       "      <th>8</th>\n",
       "      <td>8</td>\n",
       "      <td>In B.C., the Commission maintains a commitment...</td>\n",
       "      <td>Socio-Economic, Environment, Engagement and Co...</td>\n",
       "      <td>Environment</td>\n",
       "      <td>5</td>\n",
       "      <td>Government (Fed/ Prov)</td>\n",
       "      <td>GBA+, Reclamation, Engagement Mechanisms</td>\n",
       "    </tr>\n",
       "    <tr>\n",
       "      <th>16</th>\n",
       "      <td>16</td>\n",
       "      <td>Transparency could be improved by ensuring spi...</td>\n",
       "      <td>Emergency Management, Transparency</td>\n",
       "      <td>Transparency</td>\n",
       "      <td>18</td>\n",
       "      <td>Government (Fed/ Prov)</td>\n",
       "      <td>Emergency Response Planning, Information Sharing</td>\n",
       "    </tr>\n",
       "    <tr>\n",
       "      <th>23</th>\n",
       "      <td>23</td>\n",
       "      <td>The regulatory regime in the NWT differs from ...</td>\n",
       "      <td>Clarity</td>\n",
       "      <td>Clarity</td>\n",
       "      <td>-1</td>\n",
       "      <td>Government (Fed/ Prov)</td>\n",
       "      <td>Need Guidance, Jurisdictional Alignment</td>\n",
       "    </tr>\n",
       "    <tr>\n",
       "      <th>57</th>\n",
       "      <td>57</td>\n",
       "      <td>The CERs Discussion Paper (2022:2) states that...</td>\n",
       "      <td>Reconciliation, Application Stage, Regulatory ...</td>\n",
       "      <td>Reconciliation</td>\n",
       "      <td>18</td>\n",
       "      <td>Indigenous</td>\n",
       "      <td>Rights and Interests, Filing Manual, Improve C...</td>\n",
       "    </tr>\n",
       "  </tbody>\n",
       "</table>\n",
       "</div>"
      ],
      "text/plain": [
       "    Index                                           raw_text  \\\n",
       "1       1  The OPR discussion paper has identified severa...   \n",
       "8       8  In B.C., the Commission maintains a commitment...   \n",
       "16     16  Transparency could be improved by ensuring spi...   \n",
       "23     23  The regulatory regime in the NWT differs from ...   \n",
       "57     57  The CERs Discussion Paper (2022:2) states that...   \n",
       "\n",
       "                                               themes           theme  \\\n",
       "1   Clarity, Emergency Management, Regulatory Desi...     Environment   \n",
       "8   Socio-Economic, Environment, Engagement and Co...     Environment   \n",
       "16                 Emergency Management, Transparency    Transparency   \n",
       "23                                            Clarity         Clarity   \n",
       "57  Reconciliation, Application Stage, Regulatory ...  Reconciliation   \n",
       "\n",
       "    bertopics                   group  \\\n",
       "1          19       Environmental NGO   \n",
       "8           5  Government (Fed/ Prov)   \n",
       "16         18  Government (Fed/ Prov)   \n",
       "23         -1  Government (Fed/ Prov)   \n",
       "57         18              Indigenous   \n",
       "\n",
       "                                                 tags  \n",
       "1   Jurisdictional Alignment, Education/ Training,...  \n",
       "8            GBA+, Reclamation, Engagement Mechanisms  \n",
       "16   Emergency Response Planning, Information Sharing  \n",
       "23            Need Guidance, Jurisdictional Alignment  \n",
       "57  Rights and Interests, Filing Manual, Improve C...  "
      ]
     },
     "execution_count": 76,
     "metadata": {},
     "output_type": "execute_result"
    }
   ],
   "source": [
    "BERTOPIC_Outliers = BERTOPIC_Outliers[[\"Index\", \"raw_text\", \"themes\", \"theme\", \"bertopics\", \"group\", \"tags\"]]\n",
    "\n",
    "BERTOPIC_Outliers.head(5)"
   ]
  },
  {
   "cell_type": "code",
   "execution_count": 77,
   "metadata": {},
   "outputs": [],
   "source": [
    "# Export\n",
    "from pathlib import Path  \n",
    "filepath = Path('/Users/Sebastian/OneDrive/2023 Summer/CER-Theme-Classification/OPR/data/processed/outliers_bertopic.csv')\n",
    "BERTOPIC_Outliers.to_csv(filepath)"
   ]
  }
 ],
 "metadata": {
  "kernelspec": {
   "display_name": "bertopicenv",
   "language": "python",
   "name": "python3"
  },
  "language_info": {
   "codemirror_mode": {
    "name": "ipython",
    "version": 3
   },
   "file_extension": ".py",
   "mimetype": "text/x-python",
   "name": "python",
   "nbconvert_exporter": "python",
   "pygments_lexer": "ipython3",
   "version": "3.11.4"
  },
  "orig_nbformat": 4
 },
 "nbformat": 4,
 "nbformat_minor": 2
}
